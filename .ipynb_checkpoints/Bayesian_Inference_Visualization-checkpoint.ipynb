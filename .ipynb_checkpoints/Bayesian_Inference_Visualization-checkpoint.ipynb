{
 "cells": [
  {
   "cell_type": "markdown",
   "id": "d9ccdece-d4e9-4bc5-8c92-60d15ea5604e",
   "metadata": {
    "tags": []
   },
   "source": [
    "# Bayesian Inference Visualization\n",
    "- https://towardsdatascience.com/earn-more-salary-as-a-coder-higher-degree-or-more-years-of-experience-68c13f73a557"
   ]
  },
  {
   "cell_type": "markdown",
   "id": "12946536-60e0-4862-aadb-1ae1d7485f58",
   "metadata": {},
   "source": [
    "***\n",
    "**Import libraries & data**"
   ]
  },
  {
   "cell_type": "code",
   "execution_count": 16,
   "id": "cdb261b9-1d2e-4349-b34d-2e2923ec9470",
   "metadata": {
    "ExecuteTime": {
     "end_time": "2022-01-11T13:10:19.403486Z",
     "start_time": "2022-01-11T13:10:16.158676Z"
    }
   },
   "outputs": [
    {
     "name": "stderr",
     "output_type": "stream",
     "text": [
      "C:\\Users\\wallj\\anaconda3\\envs\\justin_env\\lib\\site-packages\\IPython\\core\\interactiveshell.py:3457: DtypeWarning: Columns (8,12,13,14,15,16,50,51,52,53,55,56,57,58,59,60,61,62,63,64,65,66,67,68,69,70,71,72,73,74,75,76,77,78,79,80,81,82,83,84,85,93,94,95,96,97,98,99,100,101,102,103,104,105,106,107,108,109,110,111,112,113,114,115,116,117,118,119,120,121,122,123,124,125,126,127,128) have mixed types.Specify dtype option on import or set low_memory=False.\n",
      "  exec(code_obj, self.user_global_ns, self.user_ns)\n"
     ]
    }
   ],
   "source": [
    "import pandas as pd\n",
    "import seaborn as sns\n",
    "import matplotlib.pyplot as plt\n",
    "import numpy as np\n",
    "import theano\n",
    "import arviz as az\n",
    "import bambi as bmb\n",
    "\n",
    "# Kaggle Dataset - survey results from stack overflow\n",
    "df = pd.read_csv(\"survey_results_public.csv\")"
   ]
  },
  {
   "cell_type": "markdown",
   "id": "3745e16c-dfdd-4838-a90b-65d86c86ba07",
   "metadata": {},
   "source": [
    "***\n",
    "**Subset dataframe**"
   ]
  },
  {
   "cell_type": "code",
   "execution_count": 17,
   "id": "ac73389a-974b-41e4-900b-6b44af82f997",
   "metadata": {},
   "outputs": [],
   "source": [
    "sample = df.query(\n",
    "    \"Country == 'United States' & Employment == 'Employed full-time' & Student == 'No'\"\n",
    ")"
   ]
  },
  {
   "cell_type": "code",
   "execution_count": 18,
   "id": "17543c00-9158-4987-81e7-de8114cbdd90",
   "metadata": {},
   "outputs": [],
   "source": [
    "normal_salary = sample[sample[\"ConvertedSalary\"] < 300_000].copy()"
   ]
  },
  {
   "cell_type": "markdown",
   "id": "9e964cff-b125-4523-9a16-f66a34a8f9f1",
   "metadata": {},
   "source": [
    "***\n",
    "**Visualize Salary Field**"
   ]
  },
  {
   "cell_type": "code",
   "execution_count": 19,
   "id": "f7ca77e4-fb86-4594-b2bc-7fe2351bff49",
   "metadata": {},
   "outputs": [
    {
     "data": {
      "image/png": "[encoded data removed]",
      "text/plain": [
       "<Figure size 432x288 with 1 Axes>"
      ]
     },
     "metadata": {
      "needs_background": "light"
     },
     "output_type": "display_data"
    }
   ],
   "source": [
    "# Group by salary range\n",
    "bins = [0, 25_000, 50_000, 75_000, 100_000, 125_000, 150_000, 300_000]\n",
    "\n",
    "normal_salary[\"Salary Range\"] = pd.cut(\n",
    "    normal_salary.dropna(subset=[\"ConvertedSalary\"])[\"ConvertedSalary\"], bins=bins\n",
    ")\n",
    "\n",
    "salary_groupby = normal_salary.groupby(\"Salary Range\").agg({\"Respondent\": \"count\"})\n",
    "\n",
    "# Create a bar plot\n",
    "salary_groupby.plot(kind=\"bar\")\n",
    "plt.show()"
   ]
  },
  {
   "cell_type": "markdown",
   "id": "4c152194-57f9-47dd-a483-d7f2facec2ca",
   "metadata": {},
   "source": [
    "***\n",
    "**Salary by years of coding**"
   ]
  },
  {
   "cell_type": "code",
   "execution_count": 20,
   "id": "5e7d3455-7801-472b-aa9e-be17538f1cf3",
   "metadata": {},
   "outputs": [
    {
     "data": {
      "text/plain": [
       "6           9-11 years\n",
       "8     30 or more years\n",
       "23         18-20 years\n",
       "32           6-8 years\n",
       "33           3-5 years\n",
       "35         12-14 years\n",
       "43          9-11 years\n",
       "46         15-17 years\n",
       "47           3-5 years\n",
       "49         15-17 years\n",
       "Name: YearsCoding, dtype: object"
      ]
     },
     "execution_count": 20,
     "metadata": {},
     "output_type": "execute_result"
    }
   ],
   "source": [
    "normal_salary.YearsCoding.head(10)"
   ]
  },
  {
   "cell_type": "markdown",
   "id": "f7a2179d-d689-4ece-8f37-6d0ed0cf03d8",
   "metadata": {},
   "source": [
    "***\n",
    "**Convert string to interval**"
   ]
  },
  {
   "cell_type": "code",
   "execution_count": 21,
   "id": "5b07dd5a-0302-4124-ac88-3fd1c9b37674",
   "metadata": {},
   "outputs": [],
   "source": [
    "def str_to_interval(text: str):\n",
    "    if isinstance(text, str):\n",
    "        years = text.split()[0].split(\"-\")\n",
    "        if len(years) == 2:\n",
    "            return pd.Interval(int(years[0]), int(years[1]))\n",
    "        else:\n",
    "            return pd.Interval(int(years[0]), float(\"inf\"))\n",
    "\n",
    "    return text"
   ]
  },
  {
   "cell_type": "code",
   "execution_count": 22,
   "id": "075ce46c-cc58-4e64-8883-a3d28db029e5",
   "metadata": {},
   "outputs": [],
   "source": [
    "# Convert string to pandas.Interval    \n",
    "normal_salary.YearsCoding = normal_salary.YearsCoding.apply(str_to_interval)"
   ]
  },
  {
   "cell_type": "markdown",
   "id": "34aefeec-c664-43a2-ad76-2e7ed82cee70",
   "metadata": {},
   "source": [
    "***\n",
    "**Drop NA**"
   ]
  },
  {
   "cell_type": "code",
   "execution_count": 23,
   "id": "fb30b30e-3982-478d-aa08-e8f8a6e8c44b",
   "metadata": {},
   "outputs": [],
   "source": [
    "# Sort by years\n",
    "years_sorted = normal_salary.dropna(\n",
    "    subset=[\"ConvertedSalary\", \"YearsCoding\"]\n",
    ").sort_values(by=\"YearsCoding\")"
   ]
  },
  {
   "cell_type": "markdown",
   "id": "cbb937be-b65a-47dc-92e1-9c8334f51bdf",
   "metadata": {},
   "source": [
    "***\n",
    "**Visualize**"
   ]
  },
  {
   "cell_type": "code",
   "execution_count": 24,
   "id": "f10fcf81-6f66-4e5d-a2a7-7d95d49cc5ed",
   "metadata": {},
   "outputs": [
    {
     "data": {
      "image/png": "[encoded data removed]",
      "text/plain": [
       "<Figure size 432x288 with 1 Axes>"
      ]
     },
     "metadata": {
      "needs_background": "light"
     },
     "output_type": "display_data"
    }
   ],
   "source": [
    "sns.boxplot(data=years_sorted, x=\"YearsCoding\", y=\"ConvertedSalary\")\n",
    "plt.show()"
   ]
  },
  {
   "cell_type": "markdown",
   "id": "8886bf58-1454-47e4-be32-f486d9804fa4",
   "metadata": {
    "tags": []
   },
   "source": [
    "***\n",
    "***\n",
    "***\n",
    "## Bayesian T-Test"
   ]
  },
  {
   "cell_type": "markdown",
   "id": "17658492-722e-41c8-9b6c-07968f20f595",
   "metadata": {},
   "source": [
    "***\n",
    "**Mean of two sets of years of experience to start**"
   ]
  },
  {
   "cell_type": "code",
   "execution_count": 25,
   "id": "08d5569c-0441-4bcc-9d86-1b18b1b36750",
   "metadata": {},
   "outputs": [],
   "source": [
    "# Filter\n",
    "sample1 = years_sorted[\n",
    "    (years_sorted.YearsCoding == pd.Interval(0, 2))\n",
    "    | (years_sorted.YearsCoding == pd.Interval(3, 5))\n",
    "]"
   ]
  },
  {
   "cell_type": "markdown",
   "id": "f3b3c49e-bbb4-4f64-9c76-70ce679b11c6",
   "metadata": {},
   "source": [
    "***\n",
    "**Visualize**"
   ]
  },
  {
   "cell_type": "code",
   "execution_count": 26,
   "id": "85b85492-50ed-4490-a00b-10cf4a582841",
   "metadata": {},
   "outputs": [
    {
     "data": {
      "image/png": "[encoded data removed]",
      "text/plain": [
       "<Figure size 432x288 with 1 Axes>"
      ]
     },
     "metadata": {
      "needs_background": "light"
     },
     "output_type": "display_data"
    }
   ],
   "source": [
    "# visualize\n",
    "sns.boxplot(data=sample1, x=\"YearsCoding\", y=\"ConvertedSalary\")\n",
    "plt.show()"
   ]
  },
  {
   "cell_type": "markdown",
   "id": "ffeb9d6a-b79e-472c-a891-2609af816c08",
   "metadata": {},
   "source": [
    "***\n",
    "**Convert to string**"
   ]
  },
  {
   "cell_type": "code",
   "execution_count": 27,
   "id": "1b304fd5-74c3-41cc-ae04-d99e3bf3fbd5",
   "metadata": {},
   "outputs": [
    {
     "name": "stderr",
     "output_type": "stream",
     "text": [
      "C:\\Users\\wallj\\anaconda3\\envs\\justin_env\\lib\\site-packages\\pandas\\core\\generic.py:5516: SettingWithCopyWarning: \n",
      "A value is trying to be set on a copy of a slice from a DataFrame.\n",
      "Try using .loc[row_indexer,col_indexer] = value instead\n",
      "\n",
      "See the caveats in the documentation: https://pandas.pydata.org/pandas-docs/stable/user_guide/indexing.html#returning-a-view-versus-a-copy\n",
      "  self[name] = value\n"
     ]
    }
   ],
   "source": [
    "# Convert to string\n",
    "sample1.YearsCoding = sample1.YearsCoding.astype(str)"
   ]
  },
  {
   "cell_type": "markdown",
   "id": "9390f7f6-b26f-4503-89e5-58cb7dfff674",
   "metadata": {},
   "source": [
    "***\n",
    "**Build a model**"
   ]
  },
  {
   "cell_type": "code",
   "execution_count": 28,
   "id": "a1a57ae6-de63-46b8-905a-c0ee9ba1342f",
   "metadata": {},
   "outputs": [
    {
     "name": "stderr",
     "output_type": "stream",
     "text": [
      "C:\\Users\\wallj\\anaconda3\\envs\\justin_env\\lib\\site-packages\\pandas\\core\\frame.py:3641: SettingWithCopyWarning: \n",
      "A value is trying to be set on a copy of a slice from a DataFrame.\n",
      "Try using .loc[row_indexer,col_indexer] = value instead\n",
      "\n",
      "See the caveats in the documentation: https://pandas.pydata.org/pandas-docs/stable/user_guide/indexing.html#returning-a-view-versus-a-copy\n",
      "  self[k1] = value[k2]\n"
     ]
    }
   ],
   "source": [
    "# Build model\n",
    "model1 = bmb.Model(\"ConvertedSalary ~ YearsCoding\", sample1)"
   ]
  },
  {
   "cell_type": "markdown",
   "id": "1c9a639b-587f-4e5a-b2b1-2ac2ed1bca49",
   "metadata": {},
   "source": [
    "***\n",
    "**Fit the model**"
   ]
  },
  {
   "cell_type": "code",
   "execution_count": 29,
   "id": "168f7a28-a76c-4508-858f-14afdb248c61",
   "metadata": {},
   "outputs": [
    {
     "name": "stderr",
     "output_type": "stream",
     "text": [
      "Auto-assigning NUTS sampler...\n",
      "Initializing NUTS using jitter+adapt_diag...\n",
      "C:\\Users\\wallj\\anaconda3\\envs\\justin_env\\lib\\site-packages\\theano\\tensor\\elemwise.py:826: RuntimeWarning: divide by zero encountered in log\n",
      "  variables = ufunc(*ufunc_args, **ufunc_kwargs)\n",
      "C:\\Users\\wallj\\anaconda3\\envs\\justin_env\\lib\\site-packages\\theano\\tensor\\elemwise.py:826: RuntimeWarning: invalid value encountered in multiply\n",
      "  variables = ufunc(*ufunc_args, **ufunc_kwargs)\n",
      "C:\\Users\\wallj\\anaconda3\\envs\\justin_env\\lib\\site-packages\\theano\\tensor\\elemwise.py:826: RuntimeWarning: invalid value encountered in log\n",
      "  variables = ufunc(*ufunc_args, **ufunc_kwargs)\n",
      "Sequential sampling (2 chains in 1 job)\n",
      "NUTS: [ConvertedSalary_sigma, YearsCoding, Intercept]\n"
     ]
    },
    {
     "data": {
      "text/html": [
       "\n",
       "    <div>\n",
       "        <style>\n",
       "            /* Turns off some styling */\n",
       "            progress {\n",
       "                /* gets rid of default border in Firefox and Opera. */\n",
       "                border: none;\n",
       "                /* Needs to be in here for Safari polyfill so background images work as expected. */\n",
       "                background-size: auto;\n",
       "            }\n",
       "            .progress-bar-interrupted, .progress-bar-interrupted::-webkit-progress-bar {\n",
       "                background: #F44336;\n",
       "            }\n",
       "        </style>\n",
       "      <progress value='8' class='' max='2000' style='width:300px; height:20px; vertical-align: middle;'></progress>\n",
       "      0.40% [8/2000 00:02<08:47 Sampling chain 0, 0 divergences]\n",
       "    </div>\n",
       "    "
      ],
      "text/plain": [
       "<IPython.core.display.HTML object>"
      ]
     },
     "metadata": {},
     "output_type": "display_data"
    },
    {
     "name": "stderr",
     "output_type": "stream",
     "text": [
      "C:\\Users\\wallj\\anaconda3\\envs\\justin_env\\lib\\site-packages\\numpy\\core\\fromnumeric.py:3440: RuntimeWarning: Mean of empty slice.\n",
      "  return _methods._mean(a, axis=axis, dtype=dtype,\n",
      "C:\\Users\\wallj\\anaconda3\\envs\\justin_env\\lib\\site-packages\\numpy\\core\\_methods.py:189: RuntimeWarning: invalid value encountered in double_scalars\n",
      "  ret = ret.dtype.type(ret / rcount)\n",
      "Sampling 1 chain for 8 tune and 0 draw iterations (8 + 0 draws total) took 19 seconds.\n",
      "No posterior samples. Unable to run convergence checks\n"
     ]
    },
    {
     "ename": "AttributeError",
     "evalue": "'InferenceData' object has no attribute 'posterior'",
     "output_type": "error",
     "traceback": [
      "\u001b[1;31m---------------------------------------------------------------------------\u001b[0m",
      "\u001b[1;31mAttributeError\u001b[0m                            Traceback (most recent call last)",
      "\u001b[1;32m<timed exec>\u001b[0m in \u001b[0;36m<module>\u001b[1;34m\u001b[0m\n",
      "\u001b[1;32m~\\anaconda3\\envs\\justin_env\\lib\\site-packages\\bambi\\models.py\u001b[0m in \u001b[0;36mfit\u001b[1;34m(self, draws, tune, discard_tuned_samples, omit_offsets, include_mean, method, init, n_init, chains, cores, random_seed, **kwargs)\u001b[0m\n\u001b[0;32m    276\u001b[0m             )\n\u001b[0;32m    277\u001b[0m \u001b[1;33m\u001b[0m\u001b[0m\n\u001b[1;32m--> 278\u001b[1;33m         return self.backend.run(\n\u001b[0m\u001b[0;32m    279\u001b[0m             \u001b[0mdraws\u001b[0m\u001b[1;33m=\u001b[0m\u001b[0mdraws\u001b[0m\u001b[1;33m,\u001b[0m\u001b[1;33m\u001b[0m\u001b[1;33m\u001b[0m\u001b[0m\n\u001b[0;32m    280\u001b[0m             \u001b[0mtune\u001b[0m\u001b[1;33m=\u001b[0m\u001b[0mtune\u001b[0m\u001b[1;33m,\u001b[0m\u001b[1;33m\u001b[0m\u001b[1;33m\u001b[0m\u001b[0m\n",
      "\u001b[1;32m~\\anaconda3\\envs\\justin_env\\lib\\site-packages\\bambi\\backend\\pymc.py\u001b[0m in \u001b[0;36mrun\u001b[1;34m(self, draws, tune, discard_tuned_samples, omit_offsets, include_mean, method, init, n_init, chains, cores, random_seed, **kwargs)\u001b[0m\n\u001b[0;32m     88\u001b[0m         \u001b[1;31m# NOTE: Methods return different types of objects (idata, advi_params, and dictionary)\u001b[0m\u001b[1;33m\u001b[0m\u001b[1;33m\u001b[0m\u001b[0m\n\u001b[0;32m     89\u001b[0m         \u001b[1;32mif\u001b[0m \u001b[0mmethod\u001b[0m\u001b[1;33m.\u001b[0m\u001b[0mlower\u001b[0m\u001b[1;33m(\u001b[0m\u001b[1;33m)\u001b[0m \u001b[1;33m==\u001b[0m \u001b[1;34m\"mcmc\"\u001b[0m\u001b[1;33m:\u001b[0m\u001b[1;33m\u001b[0m\u001b[1;33m\u001b[0m\u001b[0m\n\u001b[1;32m---> 90\u001b[1;33m             result = self._run_mcmc(\n\u001b[0m\u001b[0;32m     91\u001b[0m                 \u001b[0mdraws\u001b[0m\u001b[1;33m,\u001b[0m\u001b[1;33m\u001b[0m\u001b[1;33m\u001b[0m\u001b[0m\n\u001b[0;32m     92\u001b[0m                 \u001b[0mtune\u001b[0m\u001b[1;33m,\u001b[0m\u001b[1;33m\u001b[0m\u001b[1;33m\u001b[0m\u001b[0m\n",
      "\u001b[1;32m~\\anaconda3\\envs\\justin_env\\lib\\site-packages\\bambi\\backend\\pymc.py\u001b[0m in \u001b[0;36m_run_mcmc\u001b[1;34m(self, draws, tune, discard_tuned_samples, omit_offsets, include_mean, init, n_init, chains, cores, random_seed, **kwargs)\u001b[0m\n\u001b[0;32m    248\u001b[0m                     \u001b[1;32mraise\u001b[0m\u001b[1;33m\u001b[0m\u001b[1;33m\u001b[0m\u001b[0m\n\u001b[0;32m    249\u001b[0m \u001b[1;33m\u001b[0m\u001b[0m\n\u001b[1;32m--> 250\u001b[1;33m         \u001b[0midata\u001b[0m \u001b[1;33m=\u001b[0m \u001b[0mself\u001b[0m\u001b[1;33m.\u001b[0m\u001b[0m_clean_mcmc_results\u001b[0m\u001b[1;33m(\u001b[0m\u001b[0midata\u001b[0m\u001b[1;33m,\u001b[0m \u001b[0momit_offsets\u001b[0m\u001b[1;33m,\u001b[0m \u001b[0minclude_mean\u001b[0m\u001b[1;33m)\u001b[0m\u001b[1;33m\u001b[0m\u001b[1;33m\u001b[0m\u001b[0m\n\u001b[0m\u001b[0;32m    251\u001b[0m         \u001b[1;32mreturn\u001b[0m \u001b[0midata\u001b[0m\u001b[1;33m\u001b[0m\u001b[1;33m\u001b[0m\u001b[0m\n\u001b[0;32m    252\u001b[0m \u001b[1;33m\u001b[0m\u001b[0m\n",
      "\u001b[1;32m~\\anaconda3\\envs\\justin_env\\lib\\site-packages\\bambi\\backend\\pymc.py\u001b[0m in \u001b[0;36m_clean_mcmc_results\u001b[1;34m(self, idata, omit_offsets, include_mean)\u001b[0m\n\u001b[0;32m    257\u001b[0m \u001b[1;33m\u001b[0m\u001b[0m\n\u001b[0;32m    258\u001b[0m         \u001b[1;32mif\u001b[0m \u001b[0momit_offsets\u001b[0m\u001b[1;33m:\u001b[0m\u001b[1;33m\u001b[0m\u001b[1;33m\u001b[0m\u001b[0m\n\u001b[1;32m--> 259\u001b[1;33m             \u001b[0moffset_vars\u001b[0m \u001b[1;33m=\u001b[0m \u001b[1;33m[\u001b[0m\u001b[0mvar\u001b[0m \u001b[1;32mfor\u001b[0m \u001b[0mvar\u001b[0m \u001b[1;32min\u001b[0m \u001b[0midata\u001b[0m\u001b[1;33m.\u001b[0m\u001b[0mposterior\u001b[0m\u001b[1;33m.\u001b[0m\u001b[0mvar\u001b[0m\u001b[1;33m(\u001b[0m\u001b[1;33m)\u001b[0m \u001b[1;32mif\u001b[0m \u001b[0mvar\u001b[0m\u001b[1;33m.\u001b[0m\u001b[0mendswith\u001b[0m\u001b[1;33m(\u001b[0m\u001b[1;34m\"_offset\"\u001b[0m\u001b[1;33m)\u001b[0m\u001b[1;33m]\u001b[0m\u001b[1;33m\u001b[0m\u001b[1;33m\u001b[0m\u001b[0m\n\u001b[0m\u001b[0;32m    260\u001b[0m             \u001b[0midata\u001b[0m\u001b[1;33m.\u001b[0m\u001b[0mposterior\u001b[0m \u001b[1;33m=\u001b[0m \u001b[0midata\u001b[0m\u001b[1;33m.\u001b[0m\u001b[0mposterior\u001b[0m\u001b[1;33m.\u001b[0m\u001b[0mdrop_vars\u001b[0m\u001b[1;33m(\u001b[0m\u001b[0moffset_vars\u001b[0m\u001b[1;33m)\u001b[0m\u001b[1;33m\u001b[0m\u001b[1;33m\u001b[0m\u001b[0m\n\u001b[0;32m    261\u001b[0m \u001b[1;33m\u001b[0m\u001b[0m\n",
      "\u001b[1;31mAttributeError\u001b[0m: 'InferenceData' object has no attribute 'posterior'"
     ]
    }
   ],
   "source": [
    "%%time\n",
    "result1 = model1.fit(random_seed=0,cores=0)"
   ]
  },
  {
   "cell_type": "code",
   "execution_count": null,
   "id": "b97fd8a7-381b-417a-aba0-2f1cfa151a3f",
   "metadata": {},
   "outputs": [],
   "source": [
    "az.summary(result1)"
   ]
  },
  {
   "cell_type": "code",
   "execution_count": null,
   "id": "ffcaa412-c149-4eac-9339-429fc4a078ac",
   "metadata": {},
   "outputs": [],
   "source": [
    "az.plot_posterior(result1.posterior[\"YearsCoding\"], ref_val=0)"
   ]
  },
  {
   "cell_type": "code",
   "execution_count": null,
   "id": "35544619-e32c-4a01-af3d-e27e37c9a7fb",
   "metadata": {},
   "outputs": [],
   "source": [
    "(result1.posterior[\"YearsCoding\"] > 1).values.mean()"
   ]
  },
  {
   "cell_type": "code",
   "execution_count": null,
   "id": "b235cd2e-1b90-4616-9a1d-559ee7703390",
   "metadata": {},
   "outputs": [],
   "source": [
    "years_sorted.YearsCoding = years_sorted.YearsCoding.astype(str)\n",
    "\n",
    "all_model = bmb.Model(\"ConvertedSalary ~ YearsCoding\", years_sorted)\n",
    "all_results = all_model.fit(random_seed=0)\n",
    "\n",
    "yearsCoding_summary = (\n",
    "    az.summary(all_results)\n",
    "    .drop([\"ConvertedSalary_sigma\", \"Intercept\"])\n",
    "    .sort_values(by=\"mean\")\n",
    ")"
   ]
  },
  {
   "cell_type": "code",
   "execution_count": null,
   "id": "a8649651-ebb8-49ae-9760-1ddce822639b",
   "metadata": {},
   "outputs": [],
   "source": []
  }
 ],
 "metadata": {
  "kernelspec": {
   "display_name": "Python 3 (ipykernel)",
   "language": "python",
   "name": "python3"
  },
  "language_info": {
   "codemirror_mode": {
    "name": "ipython",
    "version": 3
   },
   "file_extension": ".py",
   "mimetype": "text/x-python",
   "name": "python",
   "nbconvert_exporter": "python",
   "pygments_lexer": "ipython3",
   "version": "3.10.0"
  },
  "toc": {
   "base_numbering": 1,
   "nav_menu": {},
   "number_sections": true,
   "sideBar": true,
   "skip_h1_title": false,
   "title_cell": "Table of Contents",
   "title_sidebar": "Contents",
   "toc_cell": false,
   "toc_position": {},
   "toc_section_display": true,
   "toc_window_display": false
  },
  "varInspector": {
   "cols": {
    "lenName": 16,
    "lenType": 16,
    "lenVar": 40
   },
   "kernels_config": {
    "python": {
     "delete_cmd_postfix": "",
     "delete_cmd_prefix": "del ",
     "library": "var_list.py",
     "varRefreshCmd": "print(var_dic_list())"
    },
    "r": {
     "delete_cmd_postfix": ") ",
     "delete_cmd_prefix": "rm(",
     "library": "var_list.r",
     "varRefreshCmd": "cat(var_dic_list()) "
    }
   },
   "types_to_exclude": [
    "module",
    "function",
    "builtin_function_or_method",
    "instance",
    "_Feature"
   ],
   "window_display": false
  }
 },
 "nbformat": 4,
 "nbformat_minor": 5
}
