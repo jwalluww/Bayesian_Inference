{
 "cells": [
  {
   "cell_type": "markdown",
   "id": "df7881dd",
   "metadata": {},
   "source": [
    "# https://towardsdatascience.com/bayesian-linear-regression-analysis-of-car-sales-with-arm-in-r-b1147e79a9a4"
   ]
  },
  {
   "cell_type": "code",
   "execution_count": 9,
   "id": "733189eb",
   "metadata": {},
   "outputs": [],
   "source": [
    "dataset = 'C:\\\\Users\\\\wallj\\\\DS_Projects\\\\Machine-Learning-Examples\\\\Car_sales.csv'"
   ]
  },
  {
   "cell_type": "code",
   "execution_count": 10,
   "id": "fb8ea92d",
   "metadata": {},
   "outputs": [
    {
     "data": {
      "text/html": [
       "<table>\n",
       "<thead><tr><th scope=col>Manufacturer</th><th scope=col>Model</th><th scope=col>Sales_in_thousands</th><th scope=col>X__year_resale_value</th><th scope=col>Vehicle_type</th><th scope=col>Price_in_thousands</th><th scope=col>Engine_size</th><th scope=col>Horsepower</th><th scope=col>Wheelbase</th><th scope=col>Width</th><th scope=col>Length</th><th scope=col>Curb_weight</th><th scope=col>Fuel_capacity</th><th scope=col>Fuel_efficiency</th><th scope=col>Latest_Launch</th><th scope=col>Power_perf_factor</th></tr></thead>\n",
       "<tbody>\n",
       "\t<tr><td>Acura    </td><td>Integra  </td><td>16.919   </td><td>16.360   </td><td>Passenger</td><td>21.50    </td><td>1.8      </td><td>140      </td><td>101.2    </td><td>67.3     </td><td>172.4    </td><td>2.639    </td><td>13.2     </td><td>28       </td><td>2/2/2012 </td><td>58.28015 </td></tr>\n",
       "\t<tr><td>Acura    </td><td>TL       </td><td>39.384   </td><td>19.875   </td><td>Passenger</td><td>28.40    </td><td>3.2      </td><td>225      </td><td>108.1    </td><td>70.3     </td><td>192.9    </td><td>3.517    </td><td>17.2     </td><td>25       </td><td>6/3/2011 </td><td>91.37078 </td></tr>\n",
       "\t<tr><td>Acura    </td><td>CL       </td><td>14.114   </td><td>18.225   </td><td>Passenger</td><td>   NA    </td><td>3.2      </td><td>225      </td><td>106.9    </td><td>70.6     </td><td>192.0    </td><td>3.470    </td><td>17.2     </td><td>26       </td><td>1/4/2012 </td><td>      NA </td></tr>\n",
       "\t<tr><td>Acura    </td><td>RL       </td><td> 8.588   </td><td>29.725   </td><td>Passenger</td><td>42.00    </td><td>3.5      </td><td>210      </td><td>114.6    </td><td>71.4     </td><td>196.6    </td><td>3.850    </td><td>18.0     </td><td>22       </td><td>3/10/2011</td><td>91.38978 </td></tr>\n",
       "\t<tr><td>Audi     </td><td>A4       </td><td>20.397   </td><td>22.255   </td><td>Passenger</td><td>23.99    </td><td>1.8      </td><td>150      </td><td>102.6    </td><td>68.2     </td><td>178.0    </td><td>2.998    </td><td>16.4     </td><td>27       </td><td>10/8/2011</td><td>62.77764 </td></tr>\n",
       "\t<tr><td>Audi     </td><td>A6       </td><td>18.780   </td><td>23.555   </td><td>Passenger</td><td>33.95    </td><td>2.8      </td><td>200      </td><td>108.7    </td><td>76.1     </td><td>192.0    </td><td>3.561    </td><td>18.5     </td><td>22       </td><td>8/9/2011 </td><td>84.56511 </td></tr>\n",
       "</tbody>\n",
       "</table>\n"
      ],
      "text/latex": [
       "\\begin{tabular}{r|llllllllllllllll}\n",
       " Manufacturer & Model & Sales\\_in\\_thousands & X\\_\\_year\\_resale\\_value & Vehicle\\_type & Price\\_in\\_thousands & Engine\\_size & Horsepower & Wheelbase & Width & Length & Curb\\_weight & Fuel\\_capacity & Fuel\\_efficiency & Latest\\_Launch & Power\\_perf\\_factor\\\\\n",
       "\\hline\n",
       "\t Acura     & Integra   & 16.919    & 16.360    & Passenger & 21.50     & 1.8       & 140       & 101.2     & 67.3      & 172.4     & 2.639     & 13.2      & 28        & 2/2/2012  & 58.28015 \\\\\n",
       "\t Acura     & TL        & 39.384    & 19.875    & Passenger & 28.40     & 3.2       & 225       & 108.1     & 70.3      & 192.9     & 3.517     & 17.2      & 25        & 6/3/2011  & 91.37078 \\\\\n",
       "\t Acura     & CL        & 14.114    & 18.225    & Passenger &    NA     & 3.2       & 225       & 106.9     & 70.6      & 192.0     & 3.470     & 17.2      & 26        & 1/4/2012  &       NA \\\\\n",
       "\t Acura     & RL        &  8.588    & 29.725    & Passenger & 42.00     & 3.5       & 210       & 114.6     & 71.4      & 196.6     & 3.850     & 18.0      & 22        & 3/10/2011 & 91.38978 \\\\\n",
       "\t Audi      & A4        & 20.397    & 22.255    & Passenger & 23.99     & 1.8       & 150       & 102.6     & 68.2      & 178.0     & 2.998     & 16.4      & 27        & 10/8/2011 & 62.77764 \\\\\n",
       "\t Audi      & A6        & 18.780    & 23.555    & Passenger & 33.95     & 2.8       & 200       & 108.7     & 76.1      & 192.0     & 3.561     & 18.5      & 22        & 8/9/2011  & 84.56511 \\\\\n",
       "\\end{tabular}\n"
      ],
      "text/markdown": [
       "\n",
       "| Manufacturer | Model | Sales_in_thousands | X__year_resale_value | Vehicle_type | Price_in_thousands | Engine_size | Horsepower | Wheelbase | Width | Length | Curb_weight | Fuel_capacity | Fuel_efficiency | Latest_Launch | Power_perf_factor |\n",
       "|---|---|---|---|---|---|---|---|---|---|---|---|---|---|---|---|\n",
       "| Acura     | Integra   | 16.919    | 16.360    | Passenger | 21.50     | 1.8       | 140       | 101.2     | 67.3      | 172.4     | 2.639     | 13.2      | 28        | 2/2/2012  | 58.28015  |\n",
       "| Acura     | TL        | 39.384    | 19.875    | Passenger | 28.40     | 3.2       | 225       | 108.1     | 70.3      | 192.9     | 3.517     | 17.2      | 25        | 6/3/2011  | 91.37078  |\n",
       "| Acura     | CL        | 14.114    | 18.225    | Passenger |    NA     | 3.2       | 225       | 106.9     | 70.6      | 192.0     | 3.470     | 17.2      | 26        | 1/4/2012  |       NA  |\n",
       "| Acura     | RL        |  8.588    | 29.725    | Passenger | 42.00     | 3.5       | 210       | 114.6     | 71.4      | 196.6     | 3.850     | 18.0      | 22        | 3/10/2011 | 91.38978  |\n",
       "| Audi      | A4        | 20.397    | 22.255    | Passenger | 23.99     | 1.8       | 150       | 102.6     | 68.2      | 178.0     | 2.998     | 16.4      | 27        | 10/8/2011 | 62.77764  |\n",
       "| Audi      | A6        | 18.780    | 23.555    | Passenger | 33.95     | 2.8       | 200       | 108.7     | 76.1      | 192.0     | 3.561     | 18.5      | 22        | 8/9/2011  | 84.56511  |\n",
       "\n"
      ],
      "text/plain": [
       "  Manufacturer Model   Sales_in_thousands X__year_resale_value Vehicle_type\n",
       "1 Acura        Integra 16.919             16.360               Passenger   \n",
       "2 Acura        TL      39.384             19.875               Passenger   \n",
       "3 Acura        CL      14.114             18.225               Passenger   \n",
       "4 Acura        RL       8.588             29.725               Passenger   \n",
       "5 Audi         A4      20.397             22.255               Passenger   \n",
       "6 Audi         A6      18.780             23.555               Passenger   \n",
       "  Price_in_thousands Engine_size Horsepower Wheelbase Width Length Curb_weight\n",
       "1 21.50              1.8         140        101.2     67.3  172.4  2.639      \n",
       "2 28.40              3.2         225        108.1     70.3  192.9  3.517      \n",
       "3    NA              3.2         225        106.9     70.6  192.0  3.470      \n",
       "4 42.00              3.5         210        114.6     71.4  196.6  3.850      \n",
       "5 23.99              1.8         150        102.6     68.2  178.0  2.998      \n",
       "6 33.95              2.8         200        108.7     76.1  192.0  3.561      \n",
       "  Fuel_capacity Fuel_efficiency Latest_Launch Power_perf_factor\n",
       "1 13.2          28              2/2/2012      58.28015         \n",
       "2 17.2          25              6/3/2011      91.37078         \n",
       "3 17.2          26              1/4/2012            NA         \n",
       "4 18.0          22              3/10/2011     91.38978         \n",
       "5 16.4          27              10/8/2011     62.77764         \n",
       "6 18.5          22              8/9/2011      84.56511         "
      ]
     },
     "metadata": {},
     "output_type": "display_data"
    }
   ],
   "source": [
    "carSet <- read.csv(file = dataset)\n",
    "head(carSet)"
   ]
  },
  {
   "cell_type": "code",
   "execution_count": 11,
   "id": "6cbcdb70",
   "metadata": {},
   "outputs": [
    {
     "ename": "ERROR",
     "evalue": "Error in eval(predvars, data, env): object 'Sales_in_thousands' not found\n",
     "output_type": "error",
     "traceback": [
      "Error in eval(predvars, data, env): object 'Sales_in_thousands' not found\nTraceback:\n",
      "1. lm(formula = Sales_in_thousands ~ Engine_size + Vehicle_type + \n .     Horsepower + Wheelbase + Width + Length + Curb_weight + Fuel_capacity + \n .     Fuel_efficiency + Power_perf_factor)",
      "2. eval(mf, parent.frame())",
      "3. eval(mf, parent.frame())",
      "4. stats::model.frame(formula = Sales_in_thousands ~ Engine_size + \n .     Vehicle_type + Horsepower + Wheelbase + Width + Length + \n .     Curb_weight + Fuel_capacity + Fuel_efficiency + Power_perf_factor, \n .     drop.unused.levels = TRUE)",
      "5. model.frame.default(formula = Sales_in_thousands ~ Engine_size + \n .     Vehicle_type + Horsepower + Wheelbase + Width + Length + \n .     Curb_weight + Fuel_capacity + Fuel_efficiency + Power_perf_factor, \n .     drop.unused.levels = TRUE)",
      "6. eval(predvars, data, env)",
      "7. eval(predvars, data, env)"
     ]
    }
   ],
   "source": [
    "lm(formula = Sales_in_thousands ~ Engine_size + Vehicle_type + \n",
    "    Horsepower + Wheelbase + Width + Length + Curb_weight + Fuel_capacity + \n",
    "    Fuel_efficiency + Power_perf_factor)"
   ]
  },
  {
   "cell_type": "code",
   "execution_count": 12,
   "id": "9ebb49e9",
   "metadata": {},
   "outputs": [
    {
     "ename": "ERROR",
     "evalue": "Error in eval(predvars, data, env): object 'Sales_in_thousands' not found\n",
     "output_type": "error",
     "traceback": [
      "Error in eval(predvars, data, env): object 'Sales_in_thousands' not found\nTraceback:\n",
      "1. lm(formula = Sales_in_thousands ~ Vehicle_type + Wheelbase + \n .     Curb_weight)",
      "2. eval(mf, parent.frame())",
      "3. eval(mf, parent.frame())",
      "4. stats::model.frame(formula = Sales_in_thousands ~ Vehicle_type + \n .     Wheelbase + Curb_weight, drop.unused.levels = TRUE)",
      "5. model.frame.default(formula = Sales_in_thousands ~ Vehicle_type + \n .     Wheelbase + Curb_weight, drop.unused.levels = TRUE)",
      "6. eval(predvars, data, env)",
      "7. eval(predvars, data, env)"
     ]
    }
   ],
   "source": [
    "lm(formula = Sales_in_thousands ~ Vehicle_type + Wheelbase + \n",
    "    Curb_weight)"
   ]
  },
  {
   "cell_type": "code",
   "execution_count": 13,
   "id": "16e18956",
   "metadata": {},
   "outputs": [
    {
     "ename": "ERROR",
     "evalue": "Error in library(car): there is no package called 'car'\n",
     "output_type": "error",
     "traceback": [
      "Error in library(car): there is no package called 'car'\nTraceback:\n",
      "1. library(car)"
     ]
    }
   ],
   "source": [
    "library(car)"
   ]
  },
  {
   "cell_type": "code",
   "execution_count": 14,
   "id": "e89fdf2c",
   "metadata": {},
   "outputs": [
    {
     "ename": "ERROR",
     "evalue": "Error in vif(M1): could not find function \"vif\"\n",
     "output_type": "error",
     "traceback": [
      "Error in vif(M1): could not find function \"vif\"\nTraceback:\n"
     ]
    }
   ],
   "source": [
    "vif(M1)"
   ]
  },
  {
   "cell_type": "code",
   "execution_count": null,
   "id": "74ca4e11",
   "metadata": {},
   "outputs": [],
   "source": []
  }
 ],
 "metadata": {
  "kernelspec": {
   "display_name": "R",
   "language": "R",
   "name": "ir"
  },
  "language_info": {
   "codemirror_mode": "r",
   "file_extension": ".r",
   "mimetype": "text/x-r-source",
   "name": "R",
   "pygments_lexer": "r",
   "version": "3.6.1"
  }
 },
 "nbformat": 4,
 "nbformat_minor": 5
}
