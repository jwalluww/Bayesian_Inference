{
 "cells": [
  {
   "cell_type": "markdown",
   "id": "63b9bb0c",
   "metadata": {},
   "source": [
    "# Bayesian Linear Regression with Bambi"
   ]
  },
  {
   "cell_type": "markdown",
   "id": "cd45a9c0",
   "metadata": {},
   "source": [
    "https://towardsdatascience.com/bayesian-linear-regression-with-bambi-a5e6570f167b"
   ]
  },
  {
   "cell_type": "markdown",
   "id": "eae9376c",
   "metadata": {},
   "source": [
    "##### Import libraries"
   ]
  },
  {
   "cell_type": "code",
   "execution_count": 1,
   "id": "9f2ebd48",
   "metadata": {
    "ExecuteTime": {
     "end_time": "2022-01-08T14:23:41.559432Z",
     "start_time": "2022-01-08T14:23:41.545479Z"
    }
   },
   "outputs": [
    {
     "name": "stderr",
     "output_type": "stream",
     "text": [
      "WARNING (theano.tensor.blas): Using NumPy C-API based implementation for BLAS functions.\n"
     ]
    }
   ],
   "source": [
    "import pandas as pd\n",
    "import numpy as np\n",
    "import matplotlib.pyplot as plt\n",
    "from sklearn.linear_model import LinearRegression\n",
    "import bambi as bmb"
   ]
  },
  {
   "cell_type": "markdown",
   "id": "955f008f",
   "metadata": {},
   "source": [
    "##### Import kaggle data from github repo. Data includes scores from Math and Portugese"
   ]
  },
  {
   "cell_type": "code",
   "execution_count": 2,
   "id": "1c60bf26",
   "metadata": {
    "ExecuteTime": {
     "end_time": "2022-01-08T13:33:23.265764Z",
     "start_time": "2022-01-08T13:33:22.565578Z"
    }
   },
   "outputs": [
    {
     "data": {
      "text/html": [
       "<div>\n",
       "<style scoped>\n",
       "    .dataframe tbody tr th:only-of-type {\n",
       "        vertical-align: middle;\n",
       "    }\n",
       "\n",
       "    .dataframe tbody tr th {\n",
       "        vertical-align: top;\n",
       "    }\n",
       "\n",
       "    .dataframe thead th {\n",
       "        text-align: right;\n",
       "    }\n",
       "</style>\n",
       "<table border=\"1\" class=\"dataframe\">\n",
       "  <thead>\n",
       "    <tr style=\"text-align: right;\">\n",
       "      <th></th>\n",
       "      <th>mat</th>\n",
       "      <th>por</th>\n",
       "    </tr>\n",
       "  </thead>\n",
       "  <tbody>\n",
       "    <tr>\n",
       "      <th>0</th>\n",
       "      <td>5</td>\n",
       "      <td>0</td>\n",
       "    </tr>\n",
       "    <tr>\n",
       "      <th>1</th>\n",
       "      <td>5</td>\n",
       "      <td>9</td>\n",
       "    </tr>\n",
       "    <tr>\n",
       "      <th>2</th>\n",
       "      <td>7</td>\n",
       "      <td>12</td>\n",
       "    </tr>\n",
       "    <tr>\n",
       "      <th>3</th>\n",
       "      <td>15</td>\n",
       "      <td>14</td>\n",
       "    </tr>\n",
       "    <tr>\n",
       "      <th>4</th>\n",
       "      <td>6</td>\n",
       "      <td>11</td>\n",
       "    </tr>\n",
       "    <tr>\n",
       "      <th>5</th>\n",
       "      <td>15</td>\n",
       "      <td>12</td>\n",
       "    </tr>\n",
       "    <tr>\n",
       "      <th>6</th>\n",
       "      <td>12</td>\n",
       "      <td>13</td>\n",
       "    </tr>\n",
       "    <tr>\n",
       "      <th>7</th>\n",
       "      <td>6</td>\n",
       "      <td>10</td>\n",
       "    </tr>\n",
       "    <tr>\n",
       "      <th>8</th>\n",
       "      <td>16</td>\n",
       "      <td>15</td>\n",
       "    </tr>\n",
       "    <tr>\n",
       "      <th>9</th>\n",
       "      <td>14</td>\n",
       "      <td>12</td>\n",
       "    </tr>\n",
       "  </tbody>\n",
       "</table>\n",
       "</div>"
      ],
      "text/plain": [
       "   mat  por\n",
       "0    5    0\n",
       "1    5    9\n",
       "2    7   12\n",
       "3   15   14\n",
       "4    6   11\n",
       "5   15   12\n",
       "6   12   13\n",
       "7    6   10\n",
       "8   16   15\n",
       "9   14   12"
      ]
     },
     "execution_count": 2,
     "metadata": {},
     "output_type": "execute_result"
    }
   ],
   "source": [
    "df = pd.read_csv(\n",
    "    \"https://media.githubusercontent.com/media/khuyentran1401/Data-science\"\n",
    "    \"/master/statistics/bayes_linear_regression/student-score.csv\"\n",
    ")\n",
    "\n",
    "df.head(10)"
   ]
  },
  {
   "cell_type": "markdown",
   "id": "ce88c204",
   "metadata": {},
   "source": [
    "##### Graph relationship between data"
   ]
  },
  {
   "cell_type": "code",
   "execution_count": 3,
   "id": "9e60f787",
   "metadata": {
    "ExecuteTime": {
     "end_time": "2022-01-08T14:26:23.132515Z",
     "start_time": "2022-01-08T14:26:23.000797Z"
    }
   },
   "outputs": [
    {
     "data": {
      "text/plain": [
       "<matplotlib.legend.Legend at 0x153441af910>"
      ]
     },
     "execution_count": 3,
     "metadata": {},
     "output_type": "execute_result"
    },
    {
     "data": {
      "image/png": "[encoded data removed]",
      "text/plain": [
       "<Figure size 432x288 with 1 Axes>"
      ]
     },
     "metadata": {
      "needs_background": "light"
     },
     "output_type": "display_data"
    }
   ],
   "source": [
    "mat, por = df[\"mat\"].values, df[\"por\"].values\n",
    "\n",
    "plt.scatter(mat, por, label=\"sampled data\")\n",
    "plt.legend(loc=0)"
   ]
  },
  {
   "cell_type": "markdown",
   "id": "70baec35",
   "metadata": {},
   "source": [
    "##### Run Linear Regression and fit to data"
   ]
  },
  {
   "cell_type": "code",
   "execution_count": 4,
   "id": "02a92fc7",
   "metadata": {
    "ExecuteTime": {
     "end_time": "2022-01-08T13:33:25.867358Z",
     "start_time": "2022-01-08T13:33:25.019231Z"
    }
   },
   "outputs": [],
   "source": [
    "linear_model = LinearRegression().fit(mat.reshape(-1, 1), por)\n",
    "predict_line = linear_model.predict(mat.reshape(-1, 1))"
   ]
  },
  {
   "cell_type": "markdown",
   "id": "14ef1dff",
   "metadata": {},
   "source": [
    "##### Graph linear regression line"
   ]
  },
  {
   "cell_type": "code",
   "execution_count": 5,
   "id": "d11ce9ee",
   "metadata": {
    "ExecuteTime": {
     "end_time": "2022-01-08T13:33:26.141697Z",
     "start_time": "2022-01-08T13:33:26.043030Z"
    }
   },
   "outputs": [
    {
     "data": {
      "text/plain": [
       "<matplotlib.legend.Legend at 0x15344a3c880>"
      ]
     },
     "execution_count": 5,
     "metadata": {},
     "output_type": "execute_result"
    },
    {
     "data": {
      "image/png": "[encoded data removed]",
      "text/plain": [
       "<Figure size 432x288 with 1 Axes>"
      ]
     },
     "metadata": {
      "needs_background": "light"
     },
     "output_type": "display_data"
    }
   ],
   "source": [
    "plt.scatter(mat, por, label=\"sampled data\")\n",
    "plt.plot(mat, predict_line, label=\"regression line\", lw=2.0, color=\"red\")\n",
    "plt.xlabel(\"math score\")\n",
    "plt.ylabel(\"Portuguese score\")\n",
    "plt.legend(loc=0)"
   ]
  },
  {
   "cell_type": "markdown",
   "id": "8112f12f",
   "metadata": {},
   "source": [
    "##### What are the regression coeficients and intercepts"
   ]
  },
  {
   "cell_type": "code",
   "execution_count": 6,
   "id": "f7a4b9e9",
   "metadata": {
    "ExecuteTime": {
     "end_time": "2022-01-08T14:28:32.316497Z",
     "start_time": "2022-01-08T14:28:32.311514Z"
    }
   },
   "outputs": [
    {
     "name": "stdout",
     "output_type": "stream",
     "text": [
      "Linear Regression Coefficient:  [0.4335796]\n",
      "Linear Regression Intercept:  7.403346211071997\n"
     ]
    }
   ],
   "source": [
    "print(\"Linear Regression Coefficient: \",linear_model.coef_)\n",
    "print(\"Linear Regression Intercept: \",linear_model.intercept_)"
   ]
  },
  {
   "cell_type": "markdown",
   "id": "9dfeb0a7",
   "metadata": {},
   "source": [
    "##### Run Gaussian Model"
   ]
  },
  {
   "cell_type": "code",
   "execution_count": 7,
   "id": "f89036ba",
   "metadata": {
    "ExecuteTime": {
     "end_time": "2022-01-08T13:33:41.749249Z",
     "start_time": "2022-01-08T13:33:41.732302Z"
    }
   },
   "outputs": [],
   "source": [
    "gauss_model = bmb.Model('por ~ mat', data=df)"
   ]
  },
  {
   "cell_type": "markdown",
   "id": "57b2a445",
   "metadata": {},
   "source": [
    "##### Fit Gaussian Model"
   ]
  },
  {
   "cell_type": "code",
   "execution_count": 11,
   "id": "2e1c0e3a",
   "metadata": {
    "ExecuteTime": {
     "end_time": "2022-01-08T13:41:41.206633Z",
     "start_time": "2022-01-08T13:33:43.306393Z"
    },
    "code_folding": []
   },
   "outputs": [
    {
     "name": "stderr",
     "output_type": "stream",
     "text": [
      "Auto-assigning NUTS sampler...\n",
      "Initializing NUTS using jitter+adapt_diag...\n",
      "Sequential sampling (2 chains in 1 job)\n",
      "NUTS: [por_sigma, mat, Intercept]\n"
     ]
    },
    {
     "data": {
      "text/html": [
       "\n",
       "    <div>\n",
       "        <style>\n",
       "            /* Turns off some styling */\n",
       "            progress {\n",
       "                /* gets rid of default border in Firefox and Opera. */\n",
       "                border: none;\n",
       "                /* Needs to be in here for Safari polyfill so background images work as expected. */\n",
       "                background-size: auto;\n",
       "            }\n",
       "            .progress-bar-interrupted, .progress-bar-interrupted::-webkit-progress-bar {\n",
       "                background: #F44336;\n",
       "            }\n",
       "        </style>\n",
       "      <progress value='2000' class='' max='2000' style='width:300px; height:20px; vertical-align: middle;'></progress>\n",
       "      100.00% [2000/2000 00:01<00:00 Sampling chain 0, 0 divergences]\n",
       "    </div>\n",
       "    "
      ],
      "text/plain": [
       "<IPython.core.display.HTML object>"
      ]
     },
     "metadata": {},
     "output_type": "display_data"
    },
    {
     "data": {
      "text/html": [
       "\n",
       "    <div>\n",
       "        <style>\n",
       "            /* Turns off some styling */\n",
       "            progress {\n",
       "                /* gets rid of default border in Firefox and Opera. */\n",
       "                border: none;\n",
       "                /* Needs to be in here for Safari polyfill so background images work as expected. */\n",
       "                background-size: auto;\n",
       "            }\n",
       "            .progress-bar-interrupted, .progress-bar-interrupted::-webkit-progress-bar {\n",
       "                background: #F44336;\n",
       "            }\n",
       "        </style>\n",
       "      <progress value='2000' class='' max='2000' style='width:300px; height:20px; vertical-align: middle;'></progress>\n",
       "      100.00% [2000/2000 00:01<00:00 Sampling chain 1, 0 divergences]\n",
       "    </div>\n",
       "    "
      ],
      "text/plain": [
       "<IPython.core.display.HTML object>"
      ]
     },
     "metadata": {},
     "output_type": "display_data"
    },
    {
     "name": "stderr",
     "output_type": "stream",
     "text": [
      "Sampling 2 chains for 1_000 tune and 1_000 draw iterations (2_000 + 2_000 draws total) took 2 seconds.\n"
     ]
    },
    {
     "name": "stdout",
     "output_type": "stream",
     "text": [
      "CPU times: total: 30 s\n",
      "Wall time: 5.06 s\n"
     ]
    }
   ],
   "source": [
    "%%time\n",
    "# Fit the model using 1000 on each of 4 chains\n",
    "gauss_fitted = gauss_model.fit(cores=1)"
   ]
  },
  {
   "cell_type": "markdown",
   "id": "478ae2bc",
   "metadata": {},
   "source": [
    "##### Predict on Gaussian model"
   ]
  },
  {
   "cell_type": "code",
   "execution_count": 13,
   "id": "37b04b70",
   "metadata": {
    "ExecuteTime": {
     "end_time": "2022-01-08T13:48:56.878274Z",
     "start_time": "2022-01-08T13:48:56.812972Z"
    }
   },
   "outputs": [
    {
     "name": "stdout",
     "output_type": "stream",
     "text": [
      "CPU times: total: 78.1 ms\n",
      "Wall time: 76.8 ms\n"
     ]
    }
   ],
   "source": [
    "%%time\n",
    "gauss_model.predict(gauss_fitted, kind=\"pps\", draws=1000)"
   ]
  },
  {
   "cell_type": "markdown",
   "id": "fd0271b0",
   "metadata": {},
   "source": [
    "##### Graph distribution of intercept & coefficient as well as the value of each variable in each iteration"
   ]
  },
  {
   "cell_type": "code",
   "execution_count": 14,
   "id": "b5bde1f2",
   "metadata": {
    "ExecuteTime": {
     "end_time": "2022-01-08T13:48:58.107181Z",
     "start_time": "2022-01-08T13:48:57.803182Z"
    }
   },
   "outputs": [
    {
     "data": {
      "text/plain": [
       "array([[<AxesSubplot:title={'center':'Intercept'}>,\n",
       "        <AxesSubplot:title={'center':'Intercept'}>],\n",
       "       [<AxesSubplot:title={'center':'mat'}>,\n",
       "        <AxesSubplot:title={'center':'mat'}>]], dtype=object)"
      ]
     },
     "execution_count": 14,
     "metadata": {},
     "output_type": "execute_result"
    },
    {
     "data": {
      "image/png": "[encoded data removed]",
      "text/plain": [
       "<Figure size 864x288 with 4 Axes>"
      ]
     },
     "metadata": {
      "needs_background": "light"
     },
     "output_type": "display_data"
    }
   ],
   "source": [
    "import arviz as az\n",
    "\n",
    "az.plot_trace(gauss_fitted, var_names=[\"Intercept\", \"mat\"])"
   ]
  },
  {
   "cell_type": "markdown",
   "id": "79a8e268",
   "metadata": {},
   "source": [
    "##### Compare results of Bayesian Linear Regression and OLS"
   ]
  },
  {
   "cell_type": "code",
   "execution_count": 15,
   "id": "6ab904f0",
   "metadata": {
    "ExecuteTime": {
     "end_time": "2022-01-08T14:43:02.381901Z",
     "start_time": "2022-01-08T14:43:02.377914Z"
    }
   },
   "outputs": [
    {
     "name": "stdout",
     "output_type": "stream",
     "text": [
      "The Bayesian Regression coefficient:  0.39502026381952404\n",
      "The Bayesian Regression intercept:  7.948413664939852\n"
     ]
    }
   ],
   "source": [
    "print(\"The Bayesian Regression coefficient: \",gauss_fitted.posterior.mat.values.mean())\n",
    "print(\"The Bayesian Regression intercept: \",gauss_fitted.posterior.Intercept.values.mean())"
   ]
  },
  {
   "cell_type": "markdown",
   "id": "2ac96d35",
   "metadata": {
    "ExecuteTime": {
     "end_time": "2022-01-08T14:39:42.994995Z",
     "start_time": "2022-01-08T14:39:42.991013Z"
    }
   },
   "source": [
    "Coefficient:  0.4336 vs 0.4341 <br>\n",
    "Intercept:  7.4033 vs 7.3951"
   ]
  },
  {
   "cell_type": "markdown",
   "id": "6615e536",
   "metadata": {},
   "source": [
    "##### Plot Regression Lines - 4000 samples total. For each pair of coef & int we get a y. These are only 100 predictions."
   ]
  },
  {
   "cell_type": "code",
   "execution_count": 16,
   "id": "a627bc06",
   "metadata": {
    "ExecuteTime": {
     "end_time": "2022-01-08T15:05:56.899372Z",
     "start_time": "2022-01-08T15:05:56.393463Z"
    }
   },
   "outputs": [
    {
     "ename": "IndexError",
     "evalue": "index 10 is out of bounds for axis 1 with size 10",
     "output_type": "error",
     "traceback": [
      "\u001b[1;31m---------------------------------------------------------------------------\u001b[0m",
      "\u001b[1;31mIndexError\u001b[0m                                Traceback (most recent call last)",
      "Input \u001b[1;32mIn [16]\u001b[0m, in \u001b[0;36m<module>\u001b[1;34m\u001b[0m\n\u001b[0;32m      7\u001b[0m \u001b[38;5;66;03m# Plot sample predictions\u001b[39;00m\n\u001b[0;32m      8\u001b[0m \u001b[38;5;28;01mfor\u001b[39;00m i \u001b[38;5;129;01min\u001b[39;00m \u001b[38;5;28mrange\u001b[39m(\u001b[38;5;241m100\u001b[39m):\n\u001b[1;32m----> 9\u001b[0m     y_pred \u001b[38;5;241m=\u001b[39m (\u001b[43mgauss_fitted\u001b[49m\u001b[38;5;241;43m.\u001b[39;49m\u001b[43mposterior\u001b[49m\u001b[38;5;241;43m.\u001b[39;49m\u001b[43mmat\u001b[49m\u001b[38;5;241;43m.\u001b[39;49m\u001b[43mvalues\u001b[49m\u001b[43m[\u001b[49m\u001b[38;5;241;43m0\u001b[39;49m\u001b[43m,\u001b[49m\u001b[43mi\u001b[49m\u001b[43m]\u001b[49m\u001b[38;5;241m*\u001b[39mx_range\n\u001b[0;32m     10\u001b[0m              \u001b[38;5;241m+\u001b[39m gauss_fitted\u001b[38;5;241m.\u001b[39mposterior\u001b[38;5;241m.\u001b[39mIntercept\u001b[38;5;241m.\u001b[39mvalues[\u001b[38;5;241m0\u001b[39m,i])\n\u001b[0;32m     11\u001b[0m     plt\u001b[38;5;241m.\u001b[39mplot(x_range,y_pred,\n\u001b[0;32m     12\u001b[0m             color\u001b[38;5;241m=\u001b[39m\u001b[38;5;124m\"\u001b[39m\u001b[38;5;124mgreen\u001b[39m\u001b[38;5;124m\"\u001b[39m,linestyle\u001b[38;5;241m=\u001b[39m\u001b[38;5;124m\"\u001b[39m\u001b[38;5;124m--\u001b[39m\u001b[38;5;124m\"\u001b[39m,\n\u001b[0;32m     13\u001b[0m             label\u001b[38;5;241m=\u001b[39m\u001b[38;5;124m\"\u001b[39m\u001b[38;5;124mMean regression line\u001b[39m\u001b[38;5;124m\"\u001b[39m\n\u001b[0;32m     14\u001b[0m             )\n",
      "\u001b[1;31mIndexError\u001b[0m: index 10 is out of bounds for axis 1 with size 10"
     ]
    },
    {
     "data": {
      "image/png": "[encoded data removed]",
      "text/plain": [
       "<Figure size 432x288 with 1 Axes>"
      ]
     },
     "metadata": {
      "needs_background": "light"
     },
     "output_type": "display_data"
    }
   ],
   "source": [
    "# plot data\n",
    "plt.scatter(mat,por,label=\"data\")\n",
    "\n",
    "# Value of x-axis\n",
    "x_range = np.linspace(min(mat),max(mat),2000)\n",
    "\n",
    "# Plot sample predictions\n",
    "for i in range(100):\n",
    "    y_pred = (gauss_fitted.posterior.mat.values[0,i]*x_range\n",
    "             + gauss_fitted.posterior.Intercept.values[0,i])\n",
    "    plt.plot(x_range,y_pred,\n",
    "            color=\"green\",linestyle=\"--\",\n",
    "            label=\"Mean regression line\"\n",
    "            )"
   ]
  },
  {
   "cell_type": "markdown",
   "id": "ae9dab6a",
   "metadata": {},
   "source": [
    "##### Use the mean of the coef & int to get a single esitmate of y"
   ]
  },
  {
   "cell_type": "code",
   "execution_count": 17,
   "id": "6ccf0279",
   "metadata": {
    "ExecuteTime": {
     "end_time": "2022-01-08T15:07:04.242683Z",
     "start_time": "2022-01-08T15:07:04.154222Z"
    }
   },
   "outputs": [
    {
     "data": {
      "text/plain": [
       "[<matplotlib.lines.Line2D at 0x159e79b5210>]"
      ]
     },
     "execution_count": 17,
     "metadata": {},
     "output_type": "execute_result"
    },
    {
     "data": {
      "image/png": "[encoded data removed]",
      "text/plain": [
       "<Figure size 432x288 with 1 Axes>"
      ]
     },
     "metadata": {
      "needs_background": "light"
     },
     "output_type": "display_data"
    }
   ],
   "source": [
    "# Plot Data\n",
    "plt.scatter(mat, por, label=\"data\")\n",
    "\n",
    "# Values of x-axis\n",
    "x_range = np.linspace(min(mat), max(mat), 2000)\n",
    "\n",
    "y_pred = gauss_fitted.posterior.mat.values.mean() * x_range + gauss_fitted.posterior.Intercept.values.mean()\n",
    "\n",
    "# Plot mean prediction    \n",
    "plt.plot(x_range, y_pred,\n",
    "        color=\"black\",\n",
    "        label=\"Mean regression line\",\n",
    "        linewidth = 3\n",
    "        )"
   ]
  },
  {
   "cell_type": "markdown",
   "id": "40842c85",
   "metadata": {},
   "source": [
    "##### Plot distributions of all predictions - compare individual predictions with the mean - from below you can see the orangle line is a good representation of the black line"
   ]
  },
  {
   "cell_type": "code",
   "execution_count": null,
   "id": "3ee30cc9",
   "metadata": {
    "ExecuteTime": {
     "end_time": "2022-01-08T15:08:58.462632Z",
     "start_time": "2022-01-08T15:08:30.417006Z"
    }
   },
   "outputs": [],
   "source": [
    "az.plot_ppc(gauss_fitted)"
   ]
  },
  {
   "cell_type": "markdown",
   "id": "6f957137",
   "metadata": {},
   "source": [
    "##### What are the most common predictions for a particular value of x? Plot highest density interval of the predictions. HDI = high density interval"
   ]
  },
  {
   "cell_type": "code",
   "execution_count": null,
   "id": "97cc3414",
   "metadata": {
    "ExecuteTime": {
     "end_time": "2022-01-08T15:13:28.412685Z",
     "start_time": "2022-01-08T15:13:28.136501Z"
    }
   },
   "outputs": [],
   "source": [
    "# Plot Data\n",
    "plt.scatter(mat, por, label=\"data\")\n",
    "\n",
    "x_range = np.linspace(min(mat), max(mat), 2000)\n",
    "y_pred = gauss_fitted.posterior.mat.values.mean() * x_range + gauss_fitted.posterior.Intercept.values.mean()\n",
    "\n",
    "# Plot mean prediction  \n",
    "plt.plot(x_range, y_pred,color=\"black\", label=\"Mean regression line\")\n",
    "        \n",
    "# Plot HDIs\n",
    "for interval in [0.33, 0.66]:\n",
    "    az.plot_hdi(mat, gauss_fitted.posterior_predictive.por,\n",
    "                hdi_prob=interval, color=\"firebrick\")\n",
    "\n",
    "plt.legend(loc=0);"
   ]
  },
  {
   "cell_type": "markdown",
   "id": "b2d3666f",
   "metadata": {},
   "source": [
    "***\n",
    "***\n",
    "***"
   ]
  }
 ],
 "metadata": {
  "kernelspec": {
   "display_name": "Python 3 (ipykernel)",
   "language": "python",
   "name": "python3"
  },
  "language_info": {
   "codemirror_mode": {
    "name": "ipython",
    "version": 3
   },
   "file_extension": ".py",
   "mimetype": "text/x-python",
   "name": "python",
   "nbconvert_exporter": "python",
   "pygments_lexer": "ipython3",
   "version": "3.10.2"
  },
  "toc": {
   "base_numbering": 1,
   "nav_menu": {},
   "number_sections": true,
   "sideBar": true,
   "skip_h1_title": false,
   "title_cell": "Table of Contents",
   "title_sidebar": "Contents",
   "toc_cell": false,
   "toc_position": {},
   "toc_section_display": true,
   "toc_window_display": false
  },
  "varInspector": {
   "cols": {
    "lenName": 16,
    "lenType": 16,
    "lenVar": 40
   },
   "kernels_config": {
    "python": {
     "delete_cmd_postfix": "",
     "delete_cmd_prefix": "del ",
     "library": "var_list.py",
     "varRefreshCmd": "print(var_dic_list())"
    },
    "r": {
     "delete_cmd_postfix": ") ",
     "delete_cmd_prefix": "rm(",
     "library": "var_list.r",
     "varRefreshCmd": "cat(var_dic_list()) "
    }
   },
   "types_to_exclude": [
    "module",
    "function",
    "builtin_function_or_method",
    "instance",
    "_Feature"
   ],
   "window_display": false
  }
 },
 "nbformat": 4,
 "nbformat_minor": 5
}
