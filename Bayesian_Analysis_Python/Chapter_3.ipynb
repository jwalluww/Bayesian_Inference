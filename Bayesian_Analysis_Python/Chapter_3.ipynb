{
 "cells": [
  {
   "cell_type": "markdown",
   "id": "a20d8937-d3b1-4e32-8c46-9e8c9c465049",
   "metadata": {},
   "source": [
    "# Modeling with Linear Regression"
   ]
  },
  {
   "cell_type": "markdown",
   "id": "2ea9105b-ab18-4674-b4f8-4b19df603672",
   "metadata": {},
   "source": [
    "***\n",
    "## Modeling with Linear Regression"
   ]
  },
  {
   "cell_type": "markdown",
   "id": "c9fc6c84-d501-41ff-9357-adeff7929e1f",
   "metadata": {},
   "source": [
    "***\n",
    "## Simple Linear Regression"
   ]
  },
  {
   "cell_type": "code",
   "execution_count": 1,
   "id": "83ce8de4-2dc9-47ba-a1bf-f94417b0d70c",
   "metadata": {},
   "outputs": [
    {
     "name": "stderr",
     "output_type": "stream",
     "text": [
      "WARNING (theano.tensor.blas): Using NumPy C-API based implementation for BLAS functions.\n"
     ]
    }
   ],
   "source": [
    "# import libs\n",
    "import scipy.stats as stats\n",
    "import numpy as np\n",
    "import pandas as pd\n",
    "import matplotlib.pyplot as plt\n",
    "import arviz as az\n",
    "import pymc3 as pm\n",
    "import seaborn as sns"
   ]
  },
  {
   "cell_type": "code",
   "execution_count": 2,
   "id": "91817791-30af-4af8-8c3f-9dec7cc6f290",
   "metadata": {},
   "outputs": [
    {
     "data": {
      "image/png": "[encoded data removed]",
      "text/plain": [
       "<Figure size 576x288 with 2 Axes>"
      ]
     },
     "metadata": {
      "needs_background": "light"
     },
     "output_type": "display_data"
    }
   ],
   "source": [
    "# Graph\n",
    "np.random.seed(1)\n",
    "N = 100\n",
    "alpha_real = 2.5\n",
    "beta_real = 0.9\n",
    "eps_real = np.random.normal(0, 0.5, size=N)\n",
    "\n",
    "x = np.random.normal(10, 1, N)\n",
    "y_real = alpha_real + beta_real * x\n",
    "y = y_real + eps_real\n",
    "\n",
    "_, ax = plt.subplots(1,2, figsize=(8, 4))\n",
    "ax[0].plot(x, y, 'C0.')\n",
    "ax[0].set_xlabel('x')\n",
    "ax[0].set_ylabel('y', rotation=0)\n",
    "ax[0].plot(x, y_real, 'k')\n",
    "az.plot_kde(y, ax=ax[1])\n",
    "ax[1].set_xlabel('y')\n",
    "plt.tight_layout()"
   ]
  },
  {
   "cell_type": "code",
   "execution_count": null,
   "id": "c1cdc341-10bc-4a44-9dd7-ce1965273e05",
   "metadata": {},
   "outputs": [
    {
     "name": "stderr",
     "output_type": "stream",
     "text": [
      "C:\\Users\\wallj\\AppData\\Local\\Temp/ipykernel_16932/2483907184.py:11: FutureWarning: In v4.0, pm.sample will return an `arviz.InferenceData` object instead of a `MultiTrace` by default. You can pass return_inferencedata=True or return_inferencedata=False to be safe and silence this warning.\n",
      "  trace_g = pm.sample(2000, tune=1000)\n",
      "Auto-assigning NUTS sampler...\n",
      "Initializing NUTS using jitter+adapt_diag...\n",
      "Multiprocess sampling (4 chains in 4 jobs)\n",
      "NUTS: [ϵ, β, α]\n"
     ]
    },
    {
     "data": {
      "text/html": [
       "\n",
       "<style>\n",
       "    /* Turns off some styling */\n",
       "    progress {\n",
       "        /* gets rid of default border in Firefox and Opera. */\n",
       "        border: none;\n",
       "        /* Needs to be in here for Safari polyfill so background images work as expected. */\n",
       "        background-size: auto;\n",
       "    }\n",
       "    .progress-bar-interrupted, .progress-bar-interrupted::-webkit-progress-bar {\n",
       "        background: #F44336;\n",
       "    }\n",
       "</style>\n"
      ],
      "text/plain": [
       "<IPython.core.display.HTML object>"
      ]
     },
     "metadata": {},
     "output_type": "display_data"
    },
    {
     "data": {
      "text/html": [
       "\n",
       "    <div>\n",
       "      <progress value='10096' class='' max='12000' style='width:300px; height:20px; vertical-align: middle;'></progress>\n",
       "      84.13% [10096/12000 00:25<00:04 Sampling 4 chains, 33 divergences]\n",
       "    </div>\n",
       "    "
      ],
      "text/plain": [
       "<IPython.core.display.HTML object>"
      ]
     },
     "metadata": {},
     "output_type": "display_data"
    }
   ],
   "source": [
    "# Pymc Model - distributions to view; https://docs.pymc.io/en/v3/api/distributions/continuous.html\n",
    "with pm.Model() as model_g:\n",
    "    α = pm.Normal('α', mu=0, sd=10)\n",
    "    β = pm.Normal('β', mu=0, sd=1)\n",
    "    ϵ = pm.HalfCauchy('ϵ', 5)\n",
    "\n",
    "    μ = pm.Deterministic('μ', α + β * x)\n",
    "    y_pred = pm.Normal('y_pred', mu=μ, sd=ϵ, observed=y)\n",
    "    # Alternative\n",
    "    # y_pred = pm.Normal('y_pred', mu= α + β * x, sd=ϵ, observed=y)\n",
    "    trace_g = pm.sample(2000, tune=1000)"
   ]
  },
  {
   "cell_type": "code",
   "execution_count": null,
   "id": "2d898e67-b34a-46a1-ae5b-5ec827d296d8",
   "metadata": {},
   "outputs": [],
   "source": [
    "az.plot_trace(trace_g, var_names=['α', 'β', 'ϵ'])"
   ]
  },
  {
   "cell_type": "code",
   "execution_count": null,
   "id": "3b5db731-93c7-47cd-aed7-dc9ee30d4d2b",
   "metadata": {},
   "outputs": [],
   "source": []
  }
 ],
 "metadata": {
  "kernelspec": {
   "display_name": "Python 3 (ipykernel)",
   "language": "python",
   "name": "python3"
  },
  "language_info": {
   "codemirror_mode": {
    "name": "ipython",
    "version": 3
   },
   "file_extension": ".py",
   "mimetype": "text/x-python",
   "name": "python",
   "nbconvert_exporter": "python",
   "pygments_lexer": "ipython3",
   "version": "3.9.7"
  }
 },
 "nbformat": 4,
 "nbformat_minor": 5
}
