{
 "cells": [
  {
   "cell_type": "markdown",
   "id": "30314e41-81cc-4464-9f75-89550d12d588",
   "metadata": {},
   "source": [
    "# Bayesian AB Testing\n",
    "- https://medium.com/hockey-stick/tl-dr-bayesian-a-b-testing-with-python-c495d375db4d"
   ]
  },
  {
   "cell_type": "code",
   "execution_count": 1,
   "id": "aecd7f8c-caf0-4e56-aaf6-e6a5c080982b",
   "metadata": {},
   "outputs": [],
   "source": [
    "from scipy.stats import beta\n",
    "import matplotlib.pyplot as plt\n",
    "import numpy as np\n",
    "import pandas as pd\n",
    "import seaborn as sns"
   ]
  },
  {
   "cell_type": "code",
   "execution_count": 2,
   "id": "a00c554a-06d5-417f-9bc5-f286ecc7d844",
   "metadata": {},
   "outputs": [],
   "source": [
    "people_in_branch = 50\n",
    "\n",
    "# Control is Alpaca, Experiment is Bear\n",
    "control, experiment = np.random.rand(2, people_in_branch)\n",
    "\n",
    "c_successes = sum(control < 0.16)\n",
    "\n",
    "# Bears are about 10% better relative to Alpacas\n",
    "e_successes = sum(experiment < 0.176)\n",
    "\n",
    "c_failures = people_in_branch - c_successes\n",
    "e_failures = people_in_branch - e_successes\n",
    "\n",
    "# Our Priors\n",
    "prior_successes = 8\n",
    "prior_failures = 42"
   ]
  },
  {
   "cell_type": "code",
   "execution_count": 3,
   "id": "6ef2886e-cda6-4252-b3a2-706ca7cbc770",
   "metadata": {},
   "outputs": [
    {
     "data": {
      "text/plain": [
       "[Text(0.5, 0, 'conversion rate'), Text(0, 0.5, 'density')]"
      ]
     },
     "execution_count": 3,
     "metadata": {},
     "output_type": "execute_result"
    },
    {
     "data": {
      "image/png": "[encoded data removed]",
      "text/plain": [
       "<Figure size 432x288 with 1 Axes>"
      ]
     },
     "metadata": {
      "needs_background": "light"
     },
     "output_type": "display_data"
    }
   ],
   "source": [
    "# For our graph\n",
    "fig, ax = plt.subplots(1, 1) \n",
    "\n",
    "# Control\n",
    "c_alpha, c_beta = c_successes + prior_successes, c_failures + prior_failures\n",
    "# Experiment\n",
    "e_alpha, e_beta = e_successes + prior_successes, e_failures + prior_failures\n",
    "\n",
    "x = np.linspace(0., 0.5, 1000) \n",
    "\n",
    "# Generate and plot the distributions!\n",
    "c_distribution = beta(c_alpha, c_beta)\n",
    "e_distribution = beta(e_alpha, e_beta)\n",
    "\n",
    "ax.plot(x, c_distribution.pdf(x))\n",
    "ax.plot(x, e_distribution.pdf(x))\n",
    "\n",
    "ax.set(xlabel='conversion rate', ylabel='density')"
   ]
  },
  {
   "cell_type": "code",
   "execution_count": 4,
   "id": "41215afe-fbaf-4fc0-b910-dce52fae09ac",
   "metadata": {},
   "outputs": [],
   "source": [
    "\n",
    "more_people_in_branch = 4000\n",
    "\n",
    "# Control is Alpaca, Experiment is Bear\n",
    "control, experiment = np.random.rand(2, more_people_in_branch)\n",
    "\n",
    "# Add to existing data\n",
    "c_successes += sum(control < 0.16)\n",
    "e_successes += sum(experiment < 0.176)\n",
    "\n",
    "c_failures += more_people_in_branch - sum(control < 0.16)\n",
    "e_failures += more_people_in_branch - sum(experiment < 0.176)"
   ]
  },
  {
   "cell_type": "code",
   "execution_count": 5,
   "id": "831dcf1b-97b0-4517-b505-799e6d8ebd0d",
   "metadata": {},
   "outputs": [
    {
     "name": "stdout",
     "output_type": "stream",
     "text": [
      "[0.06422779 0.11746524 0.19011643]\n",
      "[0.06422779 0.11746524 0.19011643]\n"
     ]
    }
   ],
   "source": [
    "# Arguments are x values so use ppf - the inverse of cdf\n",
    "print(c_distribution.ppf([0.025, 0.5, 0.975]))\n",
    "print(e_distribution.ppf([0.025, 0.5, 0.975]))\n",
    "\n",
    "# [ 0.14443947  0.15530981  0.16661068]\n",
    "# [ 0.15770843  0.16897057  0.18064618]"
   ]
  },
  {
   "cell_type": "code",
   "execution_count": 6,
   "id": "7292831f-d5b4-46cc-b16b-072fc58c7cf7",
   "metadata": {},
   "outputs": [],
   "source": [
    "sample_size = 100000\n",
    "\n",
    "c_samples = pd.Series([c_distribution.rvs() for _ in range(sample_size)])\n",
    "e_samples = pd.Series([e_distribution.rvs() for _ in range(sample_size)])\n",
    "\n",
    "p_ish_value = 1.0 - sum(e_samples > c_samples)/sample_size\n",
    "\n",
    "# 0.046830000000000038"
   ]
  },
  {
   "cell_type": "code",
   "execution_count": 7,
   "id": "6c7033e5-9599-48f8-8fa0-b13eac22babd",
   "metadata": {},
   "outputs": [
    {
     "data": {
      "text/plain": [
       "[Text(0.5, 0, 'Bears / Alpacas'), Text(0, 0.5, 'CDF')]"
      ]
     },
     "execution_count": 7,
     "metadata": {},
     "output_type": "execute_result"
    },
    {
     "data": {
      "image/png": "[encoded data removed]",
      "text/plain": [
       "<Figure size 432x288 with 1 Axes>"
      ]
     },
     "metadata": {
      "needs_background": "light"
     },
     "output_type": "display_data"
    }
   ],
   "source": [
    "fig, ax = plt.subplots(1, 1)\n",
    "\n",
    "ser = pd.Series(e_samples/c_samples)\n",
    "\n",
    "# Make the CDF\n",
    "ser = ser.sort_values()\n",
    "ser[len(ser)] = ser.iloc[-1] \n",
    "cum_dist = np.linspace(0., 1., len(ser))\n",
    "ser_cdf = pd.Series(cum_dist, index=ser)\n",
    "\n",
    "ax.plot(ser_cdf)\n",
    "ax.set(xlabel='Bears / Alpacas', ylabel='CDF')"
   ]
  },
  {
   "cell_type": "markdown",
   "id": "3d852e4d-e841-4947-89d3-b651b99b359e",
   "metadata": {},
   "source": [
    "***\n",
    "***\n",
    "***"
   ]
  }
 ],
 "metadata": {
  "kernelspec": {
   "display_name": "Python [conda env:justin_env] *",
   "language": "python",
   "name": "conda-env-justin_env-py"
  },
  "language_info": {
   "codemirror_mode": {
    "name": "ipython",
    "version": 3
   },
   "file_extension": ".py",
   "mimetype": "text/x-python",
   "name": "python",
   "nbconvert_exporter": "python",
   "pygments_lexer": "ipython3",
   "version": "3.10.0"
  }
 },
 "nbformat": 4,
 "nbformat_minor": 5
}
