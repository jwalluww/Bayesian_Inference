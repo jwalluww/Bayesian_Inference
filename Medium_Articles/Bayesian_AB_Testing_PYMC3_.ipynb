{
 "cells": [
  {
   "cell_type": "code",
   "execution_count": 7,
   "id": "9378e45b-2ab5-418f-987a-9cbf80c8cb6a",
   "metadata": {},
   "outputs": [],
   "source": [
    "import scipy.stats as stats\n",
    "import numpy as np\n",
    "import pymc3 as pm"
   ]
  },
  {
   "cell_type": "code",
   "execution_count": 8,
   "id": "bd6e0689-7a95-40d9-a193-1f462a4ebe12",
   "metadata": {},
   "outputs": [
    {
     "name": "stdout",
     "output_type": "stream",
     "text": [
      "creative A was observed 6731 times and led to 315 conversions\n",
      "creative B was observed 6769 times and led to 290 conversions\n"
     ]
    }
   ],
   "source": [
    "#Actual probabilities\n",
    "p_A = 0.05\n",
    "p_B = 0.04\n",
    "\n",
    "#User Traffic\n",
    "n_users = 13500\n",
    "n_A = stats.binom.rvs(n=n_users, p=0.5, size=1)[0]\n",
    "n_B = n_users - n_A\n",
    "\n",
    "#Conversions\n",
    "conversions_A = stats.bernoulli.rvs(p_A, size=n_A)\n",
    "conversions_B = stats.bernoulli.rvs(p_B, size=n_B)\n",
    "\n",
    "print(\"creative A was observed {} times and led to {} conversions\".format(n_A, sum(conversions_A)))\n",
    "print(\"creative B was observed {} times and led to {} conversions\".format(n_B, sum(conversions_B)))"
   ]
  },
  {
   "cell_type": "code",
   "execution_count": 9,
   "id": "32f504e2-2acc-4313-b53c-d15892701aad",
   "metadata": {},
   "outputs": [
    {
     "data": {
      "text/html": [
       "\n",
       "    <div>\n",
       "        <style>\n",
       "            /* Turns off some styling */\n",
       "            progress {\n",
       "                /* gets rid of default border in Firefox and Opera. */\n",
       "                border: none;\n",
       "                /* Needs to be in here for Safari polyfill so background images work as expected. */\n",
       "                background-size: auto;\n",
       "            }\n",
       "            .progress-bar-interrupted, .progress-bar-interrupted::-webkit-progress-bar {\n",
       "                background: #F44336;\n",
       "            }\n",
       "        </style>\n",
       "      <progress value='10' class='' max='10' style='width:300px; height:20px; vertical-align: middle;'></progress>\n",
       "      100.00% [10/10 00:00<00:00 logp = -5,118.4, ||grad|| = 3,217.5]\n",
       "    </div>\n",
       "    "
      ],
      "text/plain": [
       "<IPython.core.display.HTML object>"
      ]
     },
     "metadata": {},
     "output_type": "display_data"
    },
    {
     "name": "stdout",
     "output_type": "stream",
     "text": [
      "\n"
     ]
    },
    {
     "name": "stderr",
     "output_type": "stream",
     "text": [
      "/opt/conda/lib/python3.7/site-packages/ipykernel_launcher.py:26: FutureWarning: In v4.0, pm.sample will return an `arviz.InferenceData` object instead of a `MultiTrace` by default. You can pass return_inferencedata=True or return_inferencedata=False to be safe and silence this warning.\n",
      "Multiprocess sampling (4 chains in 4 jobs)\n",
      "CompoundStep\n",
      ">Metropolis: [p_estimates]\n",
      ">Metropolis: [conversions_B]\n",
      ">Metropolis: [conversions_A]\n",
      ">Metropolis: [n_A]\n"
     ]
    },
    {
     "data": {
      "text/html": [
       "\n",
       "    <div>\n",
       "        <style>\n",
       "            /* Turns off some styling */\n",
       "            progress {\n",
       "                /* gets rid of default border in Firefox and Opera. */\n",
       "                border: none;\n",
       "                /* Needs to be in here for Safari polyfill so background images work as expected. */\n",
       "                background-size: auto;\n",
       "            }\n",
       "            .progress-bar-interrupted, .progress-bar-interrupted::-webkit-progress-bar {\n",
       "                background: #F44336;\n",
       "            }\n",
       "        </style>\n",
       "      <progress value='204000' class='' max='204000' style='width:300px; height:20px; vertical-align: middle;'></progress>\n",
       "      100.00% [204000/204000 00:33<00:00 Sampling 4 chains, 0 divergences]\n",
       "    </div>\n",
       "    "
      ],
      "text/plain": [
       "<IPython.core.display.HTML object>"
      ]
     },
     "metadata": {},
     "output_type": "display_data"
    },
    {
     "name": "stderr",
     "output_type": "stream",
     "text": [
      "/opt/conda/lib/python3.7/site-packages/pymc3/step_methods/metropolis.py:226: RuntimeWarning: overflow encountered in exp\n",
      "  \"accept\": np.exp(accept),\n",
      "/opt/conda/lib/python3.7/site-packages/pymc3/step_methods/metropolis.py:226: RuntimeWarning: overflow encountered in exp\n",
      "  \"accept\": np.exp(accept),\n",
      "/opt/conda/lib/python3.7/site-packages/pymc3/step_methods/metropolis.py:226: RuntimeWarning: overflow encountered in exp\n",
      "  \"accept\": np.exp(accept),\n",
      "/opt/conda/lib/python3.7/site-packages/pymc3/step_methods/metropolis.py:226: RuntimeWarning: overflow encountered in exp\n",
      "  \"accept\": np.exp(accept),\n",
      "Sampling 4 chains for 1_000 tune and 50_000 draw iterations (4_000 + 200_000 draws total) took 34 seconds.\n",
      "The number of effective samples is smaller than 10% for some parameters.\n"
     ]
    }
   ],
   "source": [
    "with pm.Model() as model:\n",
    "    n_users = 10000\n",
    "    \n",
    "    #Define Stochastic and Deterministic Variable (Build the network)\n",
    "    #Amount of users\n",
    "    n_A = pm.Binomial(\"n_A\", n_users, 0.5)\n",
    "    n_B = pm.Deterministic(\"n_B\", n_users - n_A)\n",
    "    \n",
    "    # Amount of conversions\n",
    "    conversions_A = pm.Binomial(\"conversions_A\", n_A, p_A)\n",
    "    conversions_B = pm.Binomial(\"conversions_B\", n_B, p_B)\n",
    "    \n",
    "    observed_conversions_A = pm.Deterministic('observed_conversions_A', conversions_A)\n",
    "    observed_conversions_B = pm.Deterministic('observed_conversions_B', conversions_B)\n",
    "    \n",
    "    p_estimates = pm.Uniform(\"p_estimates\", 0, 1, shape=2)\n",
    "    delta = pm.Deterministic(\"delta\", p_estimates[1] - p_estimates[0])\n",
    "\n",
    "    #Feed the network with observations\n",
    "    obs_A = pm.Binomial(\"obs_A\", n_A, p_estimates[0], observed=observed_conversions_A)\n",
    "    obs_B = pm.Binomial(\"obs_B\", n_B, p_estimates[1], observed=observed_conversions_B)\n",
    "\n",
    "    #Run MCMC algorithm\n",
    "    start = pm.find_MAP()\n",
    "    step = pm.Metropolis()\n",
    "    trace = pm.sample(50000, step=step)\n",
    "    burned_trace = trace[1000:]"
   ]
  },
  {
   "cell_type": "code",
   "execution_count": 10,
   "id": "f4bf1e03-9e51-491d-87b3-750c5d17a2c4",
   "metadata": {},
   "outputs": [
    {
     "ename": "NameError",
     "evalue": "name 'delta_samples' is not defined",
     "output_type": "error",
     "traceback": [
      "\u001b[0;31m---------------------------------------------------------------------------\u001b[0m",
      "\u001b[0;31mNameError\u001b[0m                                 Traceback (most recent call last)",
      "\u001b[0;32m/tmp/ipykernel_34604/3859705180.py\u001b[0m in \u001b[0;36m<module>\u001b[0;34m\u001b[0m\n\u001b[0;32m----> 1\u001b[0;31m \u001b[0mnp\u001b[0m\u001b[0;34m.\u001b[0m\u001b[0mmean\u001b[0m\u001b[0;34m(\u001b[0m\u001b[0mdelta_samples\u001b[0m\u001b[0;34m>\u001b[0m\u001b[0;36m0\u001b[0m\u001b[0;34m)\u001b[0m\u001b[0;34m\u001b[0m\u001b[0;34m\u001b[0m\u001b[0m\n\u001b[0m",
      "\u001b[0;31mNameError\u001b[0m: name 'delta_samples' is not defined"
     ]
    }
   ],
   "source": [
    "np.mean(delta_samples>0)"
   ]
  },
  {
   "cell_type": "code",
   "execution_count": 14,
   "id": "4e7a3795-fb5c-4d0f-ba46-23a8ad41c536",
   "metadata": {},
   "outputs": [
    {
     "ename": "TypeError",
     "evalue": "No model on context stack.",
     "output_type": "error",
     "traceback": [
      "\u001b[0;31m---------------------------------------------------------------------------\u001b[0m",
      "\u001b[0;31mTypeError\u001b[0m                                 Traceback (most recent call last)",
      "\u001b[0;32m/tmp/ipykernel_34604/1708847969.py\u001b[0m in \u001b[0;36m<module>\u001b[0;34m\u001b[0m\n\u001b[0;32m----> 1\u001b[0;31m \u001b[0mtau\u001b[0m \u001b[0;34m=\u001b[0m \u001b[0mpm\u001b[0m\u001b[0;34m.\u001b[0m\u001b[0mDeterministic\u001b[0m\u001b[0;34m(\u001b[0m\u001b[0;34m\"tau\"\u001b[0m\u001b[0;34m,\u001b[0m \u001b[0mp_estimates\u001b[0m\u001b[0;34m[\u001b[0m\u001b[0;36m0\u001b[0m\u001b[0;34m]\u001b[0m \u001b[0;34m/\u001b[0m \u001b[0mp_estimates\u001b[0m\u001b[0;34m[\u001b[0m\u001b[0;36m1\u001b[0m\u001b[0;34m]\u001b[0m\u001b[0;34m)\u001b[0m\u001b[0;34m\u001b[0m\u001b[0;34m\u001b[0m\u001b[0m\n\u001b[0m",
      "\u001b[0;32m/opt/conda/lib/python3.7/site-packages/pymc3/model.py\u001b[0m in \u001b[0;36mDeterministic\u001b[0;34m(name, var, model, dims)\u001b[0m\n\u001b[1;32m   1943\u001b[0m     \u001b[0mvar\u001b[0m\u001b[0;34m:\u001b[0m \u001b[0mvar\u001b[0m\u001b[0;34m,\u001b[0m \u001b[0;32mwith\u001b[0m \u001b[0mname\u001b[0m \u001b[0mattribute\u001b[0m\u001b[0;34m\u001b[0m\u001b[0;34m\u001b[0m\u001b[0m\n\u001b[1;32m   1944\u001b[0m     \"\"\"\n\u001b[0;32m-> 1945\u001b[0;31m     \u001b[0mmodel\u001b[0m \u001b[0;34m=\u001b[0m \u001b[0mmodelcontext\u001b[0m\u001b[0;34m(\u001b[0m\u001b[0mmodel\u001b[0m\u001b[0;34m)\u001b[0m\u001b[0;34m\u001b[0m\u001b[0;34m\u001b[0m\u001b[0m\n\u001b[0m\u001b[1;32m   1946\u001b[0m     \u001b[0mvar\u001b[0m \u001b[0;34m=\u001b[0m \u001b[0mvar\u001b[0m\u001b[0;34m.\u001b[0m\u001b[0mcopy\u001b[0m\u001b[0;34m(\u001b[0m\u001b[0mmodel\u001b[0m\u001b[0;34m.\u001b[0m\u001b[0mname_for\u001b[0m\u001b[0;34m(\u001b[0m\u001b[0mname\u001b[0m\u001b[0;34m)\u001b[0m\u001b[0;34m)\u001b[0m\u001b[0;34m\u001b[0m\u001b[0;34m\u001b[0m\u001b[0m\n\u001b[1;32m   1947\u001b[0m     \u001b[0mmodel\u001b[0m\u001b[0;34m.\u001b[0m\u001b[0mdeterministics\u001b[0m\u001b[0;34m.\u001b[0m\u001b[0mappend\u001b[0m\u001b[0;34m(\u001b[0m\u001b[0mvar\u001b[0m\u001b[0;34m)\u001b[0m\u001b[0;34m\u001b[0m\u001b[0;34m\u001b[0m\u001b[0m\n",
      "\u001b[0;32m/opt/conda/lib/python3.7/site-packages/pymc3/model.py\u001b[0m in \u001b[0;36mmodelcontext\u001b[0;34m(model)\u001b[0m\n\u001b[1;32m    400\u001b[0m             \u001b[0;31m# TODO: This should be a ValueError, but that breaks\u001b[0m\u001b[0;34m\u001b[0m\u001b[0;34m\u001b[0m\u001b[0;34m\u001b[0m\u001b[0m\n\u001b[1;32m    401\u001b[0m             \u001b[0;31m# ArviZ (and others?), so might need a deprecation.\u001b[0m\u001b[0;34m\u001b[0m\u001b[0;34m\u001b[0m\u001b[0;34m\u001b[0m\u001b[0m\n\u001b[0;32m--> 402\u001b[0;31m             \u001b[0;32mraise\u001b[0m \u001b[0mTypeError\u001b[0m\u001b[0;34m(\u001b[0m\u001b[0;34m\"No model on context stack.\"\u001b[0m\u001b[0;34m)\u001b[0m\u001b[0;34m\u001b[0m\u001b[0;34m\u001b[0m\u001b[0m\n\u001b[0m\u001b[1;32m    403\u001b[0m     \u001b[0;32mreturn\u001b[0m \u001b[0mmodel\u001b[0m\u001b[0;34m\u001b[0m\u001b[0;34m\u001b[0m\u001b[0m\n\u001b[1;32m    404\u001b[0m \u001b[0;34m\u001b[0m\u001b[0m\n",
      "\u001b[0;31mTypeError\u001b[0m: No model on context stack."
     ]
    }
   ],
   "source": [
    "tau = pm.Deterministic(\"tau\", p_estimates[0] / p_estimates[1])"
   ]
  },
  {
   "cell_type": "code",
   "execution_count": null,
   "id": "c6784ed7-0cfa-4c7a-94bc-d0f06b080fee",
   "metadata": {},
   "outputs": [],
   "source": []
  }
 ],
 "metadata": {
  "environment": {
   "kernel": "python3",
   "name": "r-cpu.4-1.m87",
   "type": "gcloud",
   "uri": "gcr.io/deeplearning-platform-release/r-cpu.4-1:m87"
  },
  "kernelspec": {
   "display_name": "Python 3",
   "language": "python",
   "name": "python3"
  },
  "language_info": {
   "codemirror_mode": {
    "name": "ipython",
    "version": 3
   },
   "file_extension": ".py",
   "mimetype": "text/x-python",
   "name": "python",
   "nbconvert_exporter": "python",
   "pygments_lexer": "ipython3",
   "version": "3.7.12"
  }
 },
 "nbformat": 4,
 "nbformat_minor": 5
}
