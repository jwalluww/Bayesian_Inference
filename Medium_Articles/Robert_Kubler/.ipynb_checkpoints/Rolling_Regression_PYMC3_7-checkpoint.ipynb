{
 "cells": [
  {
   "cell_type": "markdown",
   "id": "8a090995-b0f5-4ca8-8291-a61d4ac51cb3",
   "metadata": {},
   "source": [
    "# Introduction to Marketing Mix Modeling in Python"
   ]
  },
  {
   "cell_type": "markdown",
   "id": "eef2ec03-5165-49fc-96d5-452d0ad093e4",
   "metadata": {},
   "source": [
    "- https://towardsdatascience.com/introduction-to-marketing-mix-modeling-in-python-d0dd81f4e794"
   ]
  },
  {
   "cell_type": "code",
   "execution_count": null,
   "id": "f4ad3117-a35a-4d84-b0ae-77e6dd54aba8",
   "metadata": {},
   "outputs": [],
   "source": []
  }
 ],
 "metadata": {
  "kernelspec": {
   "display_name": "Python 3 (ipykernel)",
   "language": "python",
   "name": "python3"
  },
  "language_info": {
   "codemirror_mode": {
    "name": "ipython",
    "version": 3
   },
   "file_extension": ".py",
   "mimetype": "text/x-python",
   "name": "python",
   "nbconvert_exporter": "python",
   "pygments_lexer": "ipython3",
   "version": "3.8.13"
  }
 },
 "nbformat": 4,
 "nbformat_minor": 5
}
