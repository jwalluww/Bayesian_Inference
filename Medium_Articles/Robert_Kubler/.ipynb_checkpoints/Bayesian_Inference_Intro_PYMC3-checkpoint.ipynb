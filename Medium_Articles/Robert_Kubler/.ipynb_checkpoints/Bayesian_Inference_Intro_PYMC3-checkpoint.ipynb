{
 "cells": [
  {
   "cell_type": "markdown",
   "id": "7f00ccbf-0014-4a91-ba06-96885bb6b4d7",
   "metadata": {},
   "source": [
    "# A gentle Introduction to Bayesian Inference"
   ]
  },
  {
   "cell_type": "markdown",
   "id": "9dd6c63a-1ec8-4012-b847-80db11ab4948",
   "metadata": {},
   "source": [
    "- https://towardsdatascience.com/a-gentle-introduction-to-bayesian-inference-6a7552e313cb "
   ]
  },
  {
   "cell_type": "markdown",
   "id": "7fb20a8b-f0af-4c28-a447-2aabe1cefa4d",
   "metadata": {},
   "source": [
    "- No code - just an introduction to bayesian inference with a conceptual example."
   ]
  },
  {
   "cell_type": "markdown",
   "id": "ca48877f-17ae-4fcf-8950-9392501ef331",
   "metadata": {},
   "source": [
    "<br>"
   ]
  },
  {
   "cell_type": "markdown",
   "id": "6458809d-de32-4159-8443-a31cd7072080",
   "metadata": {},
   "source": [
    "***"
   ]
  },
  {
   "cell_type": "markdown",
   "id": "3c9dbd87-5082-466c-83c8-375cf133dda9",
   "metadata": {},
   "source": [
    "<br>"
   ]
  },
  {
   "cell_type": "markdown",
   "id": "e9a5ef78-167b-43d6-adca-f1be5b684441",
   "metadata": {},
   "source": [
    "# Beginner-friendly Bayesian Inference"
   ]
  },
  {
   "cell_type": "markdown",
   "id": "ccb6c977-d72e-4bef-aecd-855b937f898e",
   "metadata": {},
   "source": [
    "- https://towardsdatascience.com/beginner-friendly-bayesian-inference-2e2839a9ae18"
   ]
  },
  {
   "cell_type": "markdown",
   "id": "72ee7f93-65d8-4205-8f98-faecb3965c00",
   "metadata": {},
   "source": [
    "- No code - just the coin flip example with some graphs and formulas."
   ]
  },
  {
   "cell_type": "markdown",
   "id": "09e99d79-252f-4da5-bac6-5a5361724f26",
   "metadata": {},
   "source": [
    "<br>"
   ]
  },
  {
   "cell_type": "markdown",
   "id": "fa6f6db8-a908-49f9-80dc-f077d3c3db12",
   "metadata": {},
   "source": [
    "***"
   ]
  },
  {
   "cell_type": "markdown",
   "id": "5413f4a8-45e3-4f25-8a7f-115f4238d612",
   "metadata": {},
   "source": [
    "<br>"
   ]
  },
  {
   "cell_type": "markdown",
   "id": "1619d14e-e47e-4cae-aacc-3f7c0d2d4c3d",
   "metadata": {},
   "source": [
    "# Conducting Bayesian Inference in Python using PyMC3"
   ]
  },
  {
   "cell_type": "markdown",
   "id": "e0ce525f-06ef-421c-888c-2572bd1d6925",
   "metadata": {},
   "source": [
    "- https://towardsdatascience.com/conducting-bayesian-inference-in-python-using-pymc3-d407f8d934a5"
   ]
  },
  {
   "cell_type": "code",
   "execution_count": 2,
   "id": "b2b1dbab-1f8b-4c3b-a60e-fe0880c4f057",
   "metadata": {},
   "outputs": [
    {
     "name": "stdout",
     "output_type": "stream",
     "text": [
      "Collecting pymc3\n",
      "  Using cached pymc3-3.11.5-py3-none-any.whl (872 kB)\n",
      "Requirement already satisfied: arviz>=0.11.0 in c:\\users\\a1274500\\anaconda3\\envs\\pym3env\\lib\\site-packages (from pymc3) (0.12.1)\n",
      "Collecting deprecat\n",
      "  Using cached deprecat-2.1.1-py2.py3-none-any.whl (9.8 kB)\n",
      "Collecting scipy<1.8.0,>=1.7.3\n",
      "  Using cached scipy-1.7.3-cp38-cp38-win_amd64.whl (34.2 MB)\n",
      "Collecting theano-pymc==1.1.2\n",
      "  Using cached Theano_PyMC-1.1.2-py3-none-any.whl\n",
      "Requirement already satisfied: cachetools>=4.2.1 in c:\\users\\a1274500\\anaconda3\\envs\\pym3env\\lib\\site-packages (from pymc3) (5.2.0)\n",
      "Requirement already satisfied: typing-extensions>=3.7.4 in c:\\users\\a1274500\\anaconda3\\envs\\pym3env\\lib\\site-packages (from pymc3) (4.3.0)\n",
      "Requirement already satisfied: pandas>=0.24.0 in c:\\users\\a1274500\\anaconda3\\envs\\pym3env\\lib\\site-packages (from pymc3) (1.4.3)\n",
      "Collecting semver>=2.13.0\n",
      "  Using cached semver-2.13.0-py2.py3-none-any.whl (12 kB)\n",
      "Collecting dill\n",
      "  Using cached dill-0.3.5.1-py2.py3-none-any.whl (95 kB)\n",
      "Requirement already satisfied: fastprogress>=0.2.0 in c:\\users\\a1274500\\anaconda3\\envs\\pym3env\\lib\\site-packages (from pymc3) (1.0.3)\n",
      "Requirement already satisfied: patsy>=0.5.1 in c:\\users\\a1274500\\anaconda3\\envs\\pym3env\\lib\\site-packages (from pymc3) (0.5.2)\n",
      "Requirement already satisfied: numpy<1.22.2,>=1.15.0 in c:\\users\\a1274500\\anaconda3\\envs\\pym3env\\lib\\site-packages (from pymc3) (1.21.6)\n",
      "Requirement already satisfied: filelock in c:\\users\\a1274500\\anaconda3\\envs\\pym3env\\lib\\site-packages (from theano-pymc==1.1.2->pymc3) (3.8.0)\n",
      "Requirement already satisfied: xarray-einstats>=0.2 in c:\\users\\a1274500\\anaconda3\\envs\\pym3env\\lib\\site-packages (from arviz>=0.11.0->pymc3) (0.3.0)\n",
      "Requirement already satisfied: setuptools>=38.4 in c:\\users\\a1274500\\anaconda3\\envs\\pym3env\\lib\\site-packages (from arviz>=0.11.0->pymc3) (65.0.2)\n",
      "Requirement already satisfied: xarray>=0.16.1 in c:\\users\\a1274500\\anaconda3\\envs\\pym3env\\lib\\site-packages (from arviz>=0.11.0->pymc3) (2022.6.0)\n",
      "Requirement already satisfied: netcdf4 in c:\\users\\a1274500\\anaconda3\\envs\\pym3env\\lib\\site-packages (from arviz>=0.11.0->pymc3) (1.6.0)\n",
      "Requirement already satisfied: matplotlib>=3.0 in c:\\users\\a1274500\\anaconda3\\envs\\pym3env\\lib\\site-packages (from arviz>=0.11.0->pymc3) (3.5.3)\n",
      "Requirement already satisfied: packaging in c:\\users\\a1274500\\anaconda3\\envs\\pym3env\\lib\\site-packages (from arviz>=0.11.0->pymc3) (21.3)\n",
      "Requirement already satisfied: pytz>=2020.1 in c:\\users\\a1274500\\anaconda3\\envs\\pym3env\\lib\\site-packages (from pandas>=0.24.0->pymc3) (2022.2.1)\n",
      "Requirement already satisfied: python-dateutil>=2.8.1 in c:\\users\\a1274500\\anaconda3\\envs\\pym3env\\lib\\site-packages (from pandas>=0.24.0->pymc3) (2.8.2)\n",
      "Requirement already satisfied: six in c:\\users\\a1274500\\anaconda3\\envs\\pym3env\\lib\\site-packages (from patsy>=0.5.1->pymc3) (1.16.0)\n",
      "Collecting wrapt<2,>=1.10\n",
      "  Using cached wrapt-1.14.1-cp38-cp38-win_amd64.whl (35 kB)\n",
      "Requirement already satisfied: pillow>=6.2.0 in c:\\users\\a1274500\\anaconda3\\envs\\pym3env\\lib\\site-packages (from matplotlib>=3.0->arviz>=0.11.0->pymc3) (9.2.0)\n",
      "Requirement already satisfied: pyparsing>=2.2.1 in c:\\users\\a1274500\\anaconda3\\envs\\pym3env\\lib\\site-packages (from matplotlib>=3.0->arviz>=0.11.0->pymc3) (3.0.9)\n",
      "Requirement already satisfied: cycler>=0.10 in c:\\users\\a1274500\\anaconda3\\envs\\pym3env\\lib\\site-packages (from matplotlib>=3.0->arviz>=0.11.0->pymc3) (0.11.0)\n",
      "Requirement already satisfied: fonttools>=4.22.0 in c:\\users\\a1274500\\anaconda3\\envs\\pym3env\\lib\\site-packages (from matplotlib>=3.0->arviz>=0.11.0->pymc3) (4.35.0)\n",
      "Requirement already satisfied: kiwisolver>=1.0.1 in c:\\users\\a1274500\\anaconda3\\envs\\pym3env\\lib\\site-packages (from matplotlib>=3.0->arviz>=0.11.0->pymc3) (1.4.4)\n",
      "Requirement already satisfied: cftime in c:\\users\\a1274500\\anaconda3\\envs\\pym3env\\lib\\site-packages (from netcdf4->arviz>=0.11.0->pymc3) (1.6.1)\n",
      "Installing collected packages: wrapt, semver, scipy, dill, theano-pymc, deprecat, pymc3\n",
      "  Attempting uninstall: scipy\n",
      "    Found existing installation: scipy 1.9.0\n",
      "    Uninstalling scipy-1.9.0:\n",
      "      Successfully uninstalled scipy-1.9.0\n"
     ]
    },
    {
     "name": "stderr",
     "output_type": "stream",
     "text": [
      "ERROR: Could not install packages due to an OSError: [WinError 5] Access is denied: 'C:\\\\Users\\\\a1274500\\\\Anaconda3\\\\envs\\\\pym3env\\\\Lib\\\\site-packages\\\\~cipy\\\\.libs\\\\libansari.DMY3K3ISKRU4P23CNPTKBBIBHUGSP6E5.gfortran-win_amd64.dll'\n",
      "Consider using the `--user` option or check the permissions.\n",
      "\n"
     ]
    }
   ],
   "source": [
    "!pip install pymc3"
   ]
  },
  {
   "cell_type": "code",
   "execution_count": 1,
   "id": "95172384-0302-4aa7-97d2-571bb565ecfd",
   "metadata": {},
   "outputs": [
    {
     "ename": "ModuleNotFoundError",
     "evalue": "No module named 'pymc3'",
     "output_type": "error",
     "traceback": [
      "\u001b[1;31m---------------------------------------------------------------------------\u001b[0m",
      "\u001b[1;31mModuleNotFoundError\u001b[0m                       Traceback (most recent call last)",
      "Input \u001b[1;32mIn [1]\u001b[0m, in \u001b[0;36m<cell line: 1>\u001b[1;34m()\u001b[0m\n\u001b[1;32m----> 1\u001b[0m \u001b[38;5;28;01mimport\u001b[39;00m \u001b[38;5;21;01mpymc3\u001b[39;00m \u001b[38;5;28;01mas\u001b[39;00m \u001b[38;5;21;01mpm\u001b[39;00m\n\u001b[0;32m      2\u001b[0m \u001b[38;5;28;01mimport\u001b[39;00m \u001b[38;5;21;01marviz\u001b[39;00m \u001b[38;5;28;01mas\u001b[39;00m \u001b[38;5;21;01maz\u001b[39;00m\n",
      "\u001b[1;31mModuleNotFoundError\u001b[0m: No module named 'pymc3'"
     ]
    }
   ],
   "source": [
    "import pymc3 as pm\n",
    "import arviz as az"
   ]
  },
  {
   "cell_type": "code",
   "execution_count": null,
   "id": "fbd6568c-6a91-4d7c-98b5-9841a9527720",
   "metadata": {},
   "outputs": [],
   "source": []
  }
 ],
 "metadata": {
  "kernelspec": {
   "display_name": "Python 3 (ipykernel)",
   "language": "python",
   "name": "python3"
  },
  "language_info": {
   "codemirror_mode": {
    "name": "ipython",
    "version": 3
   },
   "file_extension": ".py",
   "mimetype": "text/x-python",
   "name": "python",
   "nbconvert_exporter": "python",
   "pygments_lexer": "ipython3",
   "version": "3.8.13"
  }
 },
 "nbformat": 4,
 "nbformat_minor": 5
}
