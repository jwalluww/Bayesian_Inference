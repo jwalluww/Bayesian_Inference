{
 "cells": [
  {
   "cell_type": "markdown",
   "id": "03e66bf7-e07e-477e-a6f9-b429bc259a98",
   "metadata": {},
   "source": [
    "# Bayesian Hierarchical Marketing Mix Modeling in PyMC"
   ]
  },
  {
   "cell_type": "markdown",
   "id": "a449d835-54c1-4968-8fda-556a794ca48b",
   "metadata": {},
   "source": [
    "- https://towardsdatascience.com/bayesian-hierarchical-marketing-mix-modeling-in-pymc-684f6024e57a"
   ]
  },
  {
   "cell_type": "code",
   "execution_count": 7,
   "id": "b219ed8c-245c-47da-ac04-f93086b8824b",
   "metadata": {},
   "outputs": [
    {
     "name": "stderr",
     "output_type": "stream",
     "text": [
      "WARNING (theano.tensor.blas): Using NumPy C-API based implementation for BLAS functions.\n"
     ]
    }
   ],
   "source": [
    "import pandas as pd\n",
    "import theano.tensor as tt\n"
   ]
  },
  {
   "cell_type": "code",
   "execution_count": 8,
   "id": "c8e50f0a-47af-4da7-9605-8fe0882adc5a",
   "metadata": {},
   "outputs": [
    {
     "data": {
      "text/html": [
       "<div>\n",
       "<style scoped>\n",
       "    .dataframe tbody tr th:only-of-type {\n",
       "        vertical-align: middle;\n",
       "    }\n",
       "\n",
       "    .dataframe tbody tr th {\n",
       "        vertical-align: top;\n",
       "    }\n",
       "\n",
       "    .dataframe thead th {\n",
       "        text-align: right;\n",
       "    }\n",
       "</style>\n",
       "<table border=\"1\" class=\"dataframe\">\n",
       "  <thead>\n",
       "    <tr style=\"text-align: right;\">\n",
       "      <th></th>\n",
       "      <th>TV</th>\n",
       "      <th>Radio</th>\n",
       "      <th>Banners</th>\n",
       "      <th>Sales</th>\n",
       "    </tr>\n",
       "    <tr>\n",
       "      <th>Date</th>\n",
       "      <th></th>\n",
       "      <th></th>\n",
       "      <th></th>\n",
       "      <th></th>\n",
       "    </tr>\n",
       "  </thead>\n",
       "  <tbody>\n",
       "    <tr>\n",
       "      <th>2018-01-07</th>\n",
       "      <td>13528.1</td>\n",
       "      <td>0.00</td>\n",
       "      <td>0.00</td>\n",
       "      <td>9779.80</td>\n",
       "    </tr>\n",
       "    <tr>\n",
       "      <th>2018-01-14</th>\n",
       "      <td>0.0</td>\n",
       "      <td>5349.65</td>\n",
       "      <td>2218.93</td>\n",
       "      <td>13245.19</td>\n",
       "    </tr>\n",
       "    <tr>\n",
       "      <th>2018-01-21</th>\n",
       "      <td>0.0</td>\n",
       "      <td>4235.86</td>\n",
       "      <td>2046.96</td>\n",
       "      <td>12022.66</td>\n",
       "    </tr>\n",
       "    <tr>\n",
       "      <th>2018-01-28</th>\n",
       "      <td>0.0</td>\n",
       "      <td>3562.21</td>\n",
       "      <td>0.00</td>\n",
       "      <td>8846.95</td>\n",
       "    </tr>\n",
       "    <tr>\n",
       "      <th>2018-02-04</th>\n",
       "      <td>0.0</td>\n",
       "      <td>0.00</td>\n",
       "      <td>2187.29</td>\n",
       "      <td>9797.07</td>\n",
       "    </tr>\n",
       "  </tbody>\n",
       "</table>\n",
       "</div>"
      ],
      "text/plain": [
       "                 TV    Radio  Banners     Sales\n",
       "Date                                           \n",
       "2018-01-07  13528.1     0.00     0.00   9779.80\n",
       "2018-01-14      0.0  5349.65  2218.93  13245.19\n",
       "2018-01-21      0.0  4235.86  2046.96  12022.66\n",
       "2018-01-28      0.0  3562.21     0.00   8846.95\n",
       "2018-02-04      0.0     0.00  2187.29   9797.07"
      ]
     },
     "execution_count": 8,
     "metadata": {},
     "output_type": "execute_result"
    }
   ],
   "source": [
    "data = pd.read_csv(   'https://raw.githubusercontent.com/Garve/datasets/4576d323bf2b66c906d5130d686245ad205505cf/mmm.csv',\n",
    "    parse_dates=['Date'],\n",
    "    index_col='Date'\n",
    ")\n",
    "X = data.drop(columns=['Sales'])\n",
    "y = data['Sales']\n",
    "data.head()"
   ]
  },
  {
   "cell_type": "code",
   "execution_count": 6,
   "id": "c28309c3-9fb6-437a-b572-4b1ac71f9a7c",
   "metadata": {},
   "outputs": [
    {
     "name": "stdout",
     "output_type": "stream",
     "text": [
      "Collecting theano\n",
      "  Using cached Theano-1.0.5.tar.gz (2.8 MB)\n",
      "  Preparing metadata (setup.py): started\n",
      "  Preparing metadata (setup.py): finished with status 'done'\n",
      "Requirement already satisfied: numpy>=1.9.1 in c:\\users\\a1274500\\anaconda3\\envs\\pym3env\\lib\\site-packages (from theano) (1.21.6)\n",
      "Requirement already satisfied: scipy>=0.14 in c:\\users\\a1274500\\anaconda3\\envs\\pym3env\\lib\\site-packages (from theano) (1.9.0)\n",
      "Requirement already satisfied: six>=1.9.0 in c:\\users\\a1274500\\anaconda3\\envs\\pym3env\\lib\\site-packages (from theano) (1.16.0)\n",
      "Building wheels for collected packages: theano\n",
      "  Building wheel for theano (setup.py): started\n",
      "  Building wheel for theano (setup.py): finished with status 'done'\n",
      "  Created wheel for theano: filename=Theano-1.0.5-py3-none-any.whl size=2668122 sha256=a79ff5946cd187a4c8e710093ca09e51bf0e50091380dd79b45156f052dd4cf9\n",
      "  Stored in directory: c:\\users\\a1274500\\appdata\\local\\pip\\cache\\wheels\\84\\cb\\19\\235b5b10d89b4621f685112f8762681570a9fa14dc1ce904d9\n",
      "Successfully built theano\n",
      "Installing collected packages: theano\n",
      "Successfully installed theano-1.0.5\n"
     ]
    }
   ],
   "source": [
    "!pip install theano"
   ]
  },
  {
   "cell_type": "code",
   "execution_count": 9,
   "id": "917323d1-0d87-4ea6-aa6f-737529644b7e",
   "metadata": {},
   "outputs": [],
   "source": [
    "# \n",
    "def saturate(x, a):\n",
    "    return 1 - tt.exp(-a*x)\n",
    "\n",
    "def carryover(x, strength, length=21):\n",
    "    w = tt.as_tensor_variable(\n",
    "        [tt.power(strength, i) for i in range(length)]\n",
    "    )\n",
    "    \n",
    "    x_lags = tt.stack(\n",
    "        [tt.concatenate([\n",
    "            tt.zeros(i),\n",
    "            x[:x.shape[0]-i]\n",
    "        ]) for i in range(length)]\n",
    "    )\n",
    "    \n",
    "    return tt.dot(w, x_lags)"
   ]
  },
  {
   "cell_type": "code",
   "execution_count": null,
   "id": "e0faae02-c4e7-489c-b432-5c5de865ffcc",
   "metadata": {},
   "outputs": [],
   "source": []
  }
 ],
 "metadata": {
  "kernelspec": {
   "display_name": "Python 3 (ipykernel)",
   "language": "python",
   "name": "python3"
  },
  "language_info": {
   "codemirror_mode": {
    "name": "ipython",
    "version": 3
   },
   "file_extension": ".py",
   "mimetype": "text/x-python",
   "name": "python",
   "nbconvert_exporter": "python",
   "pygments_lexer": "ipython3",
   "version": "3.8.13"
  }
 },
 "nbformat": 4,
 "nbformat_minor": 5
}
