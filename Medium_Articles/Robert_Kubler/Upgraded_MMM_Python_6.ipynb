{
 "cells": [
  {
   "cell_type": "markdown",
   "id": "8a090995-b0f5-4ca8-8291-a61d4ac51cb3",
   "metadata": {},
   "source": [
    "# Introduction to Marketing Mix Modeling in Python"
   ]
  },
  {
   "cell_type": "markdown",
   "id": "eef2ec03-5165-49fc-96d5-452d0ad093e4",
   "metadata": {},
   "source": [
    "- https://towardsdatascience.com/an-upgraded-marketing-mix-modeling-in-python-5ebb3bddc1b6"
   ]
  },
  {
   "cell_type": "markdown",
   "id": "1c547b79-c4b4-4274-8dac-d4d22f1d3325",
   "metadata": {},
   "source": [
    "<br>"
   ]
  },
  {
   "cell_type": "markdown",
   "id": "a5eb1aa1-3b2d-4a06-8a63-048093c268e0",
   "metadata": {},
   "source": [
    "***"
   ]
  },
  {
   "cell_type": "markdown",
   "id": "f3ade20d-aedb-4689-90ce-1af489cac214",
   "metadata": {},
   "source": [
    "<br>"
   ]
  },
  {
   "cell_type": "markdown",
   "id": "02b9efb3-8733-49d5-82e3-c3d1aaeaec0e",
   "metadata": {},
   "source": [
    "## Imports"
   ]
  },
  {
   "cell_type": "code",
   "execution_count": 17,
   "id": "f64cb9cd-a8c0-46ec-a89b-9aaff70e9518",
   "metadata": {},
   "outputs": [],
   "source": [
    "# For Data\n",
    "import pandas as pd\n",
    "import numpy as np\n",
    "\n",
    "# For the custom SKLearn Function\n",
    "from sklearn.base import BaseEstimator, TransformerMixin\n",
    "from sklearn.utils.validation import check_is_fitted, check_array\n",
    "from scipy.signal import convolve2d\n",
    "\n",
    "# MMM\n",
    "from sklearn.compose import ColumnTransformer\n",
    "from sklearn.pipeline import Pipeline\n",
    "from sklearn.linear_model import LinearRegression"
   ]
  },
  {
   "cell_type": "code",
   "execution_count": 13,
   "id": "59f181ee-e461-4e7e-8f9b-1bde02314d3d",
   "metadata": {},
   "outputs": [
    {
     "data": {
      "text/html": [
       "<div>\n",
       "<style scoped>\n",
       "    .dataframe tbody tr th:only-of-type {\n",
       "        vertical-align: middle;\n",
       "    }\n",
       "\n",
       "    .dataframe tbody tr th {\n",
       "        vertical-align: top;\n",
       "    }\n",
       "\n",
       "    .dataframe thead th {\n",
       "        text-align: right;\n",
       "    }\n",
       "</style>\n",
       "<table border=\"1\" class=\"dataframe\">\n",
       "  <thead>\n",
       "    <tr style=\"text-align: right;\">\n",
       "      <th></th>\n",
       "      <th>TV</th>\n",
       "      <th>Radio</th>\n",
       "      <th>Banners</th>\n",
       "      <th>Sales</th>\n",
       "    </tr>\n",
       "    <tr>\n",
       "      <th>Date</th>\n",
       "      <th></th>\n",
       "      <th></th>\n",
       "      <th></th>\n",
       "      <th></th>\n",
       "    </tr>\n",
       "  </thead>\n",
       "  <tbody>\n",
       "    <tr>\n",
       "      <th>2018-01-07</th>\n",
       "      <td>13528.1</td>\n",
       "      <td>0.00</td>\n",
       "      <td>0.00</td>\n",
       "      <td>9779.80</td>\n",
       "    </tr>\n",
       "    <tr>\n",
       "      <th>2018-01-14</th>\n",
       "      <td>0.0</td>\n",
       "      <td>5349.65</td>\n",
       "      <td>2218.93</td>\n",
       "      <td>13245.19</td>\n",
       "    </tr>\n",
       "    <tr>\n",
       "      <th>2018-01-21</th>\n",
       "      <td>0.0</td>\n",
       "      <td>4235.86</td>\n",
       "      <td>2046.96</td>\n",
       "      <td>12022.66</td>\n",
       "    </tr>\n",
       "    <tr>\n",
       "      <th>2018-01-28</th>\n",
       "      <td>0.0</td>\n",
       "      <td>3562.21</td>\n",
       "      <td>0.00</td>\n",
       "      <td>8846.95</td>\n",
       "    </tr>\n",
       "    <tr>\n",
       "      <th>2018-02-04</th>\n",
       "      <td>0.0</td>\n",
       "      <td>0.00</td>\n",
       "      <td>2187.29</td>\n",
       "      <td>9797.07</td>\n",
       "    </tr>\n",
       "  </tbody>\n",
       "</table>\n",
       "</div>"
      ],
      "text/plain": [
       "                 TV    Radio  Banners     Sales\n",
       "Date                                           \n",
       "2018-01-07  13528.1     0.00     0.00   9779.80\n",
       "2018-01-14      0.0  5349.65  2218.93  13245.19\n",
       "2018-01-21      0.0  4235.86  2046.96  12022.66\n",
       "2018-01-28      0.0  3562.21     0.00   8846.95\n",
       "2018-02-04      0.0     0.00  2187.29   9797.07"
      ]
     },
     "execution_count": 13,
     "metadata": {},
     "output_type": "execute_result"
    }
   ],
   "source": [
    "df = pd.read_csv('https://raw.githubusercontent.com/Garve/datasets/4576d323bf2b66c906d5130d686245ad205505cf/mmm.csv',\n",
    "                parse_dates=['Date'],\n",
    "                 index_col='Date'\n",
    "                )\n",
    "df.head()"
   ]
  },
  {
   "cell_type": "markdown",
   "id": "dfd10fc4-9dd3-4220-b5ad-c269e9b42ee1",
   "metadata": {},
   "source": [
    "<br>"
   ]
  },
  {
   "cell_type": "markdown",
   "id": "243deb96-8913-4119-8e47-d12429e10279",
   "metadata": {},
   "source": [
    "***"
   ]
  },
  {
   "cell_type": "markdown",
   "id": "efe13630-123e-417f-ad48-c3182c8c0377",
   "metadata": {},
   "source": [
    "<br>"
   ]
  },
  {
   "cell_type": "markdown",
   "id": "7a7170e8-17d0-491d-b4aa-bb3301d94c77",
   "metadata": {},
   "source": [
    "## Feature Engineering: Advertising Adstock\n",
    "- diminishing marginal returns on advertising\n",
    "- saturation effect\n",
    "- effect of diminishing marginal returns\n",
    "- carry over or lagged effect from advertising taking time to take effect\n",
    "- model can still be linear"
   ]
  },
  {
   "cell_type": "markdown",
   "id": "c407c524-3cd8-4a1c-9867-e175e8c44ea5",
   "metadata": {},
   "source": [
    "### Saturation Effect\n",
    "- just using an exponential function here\n",
    "- but could have used Adbudg and Hill functions instead"
   ]
  },
  {
   "cell_type": "code",
   "execution_count": 14,
   "id": "2d4da6d3-6fe3-4dc4-9dfd-c3a98948d798",
   "metadata": {},
   "outputs": [],
   "source": [
    "class ExponentialSaturation:\n",
    "    def __init__(self, a=1.):\n",
    "        self.a = a\n",
    "        \n",
    "    def transform(self, X):\n",
    "        return 1 - np.exp(-self.a*X)"
   ]
  },
  {
   "cell_type": "code",
   "execution_count": 15,
   "id": "1520383d-3104-488e-8b72-dc3867203423",
   "metadata": {},
   "outputs": [],
   "source": [
    "class ExponentialSaturation(BaseEstimator, TransformerMixin):\n",
    "    def __init__(self, a=1.):\n",
    "        self.a = a\n",
    "        \n",
    "    def fit(self, X, y=None):\n",
    "        X = check_array(X)\n",
    "        self._check_n_features(X, reset=True) # from BaseEstimator\n",
    "        return self\n",
    "    \n",
    "    def transform(self, X):\n",
    "        check_is_fitted(self)\n",
    "        X = check_array(X)\n",
    "        self._check_n_features(X, reset=False) # from BaseEstimator\n",
    "        return 1 - np.exp(-self.a*X)"
   ]
  },
  {
   "cell_type": "markdown",
   "id": "db3c7c51-04d5-4857-a224-eed1a9b8c279",
   "metadata": {},
   "source": [
    "### Carry-Over Effect\n",
    "- diminishing effects from advertising at a 50% decrease per week\n",
    "- hyperparameter 1 = strength = how much gets carried over\n",
    "- hyperparameter 2 = length = how long does it get carried over\n",
    "- 50% and 2 weeks would be 50% the first week & 25% the second week"
   ]
  },
  {
   "cell_type": "code",
   "execution_count": 16,
   "id": "1417c750-01a5-49ab-8369-e4bcf69a8cdc",
   "metadata": {},
   "outputs": [],
   "source": [
    "class ExponentialCarryover(BaseEstimator, TransformerMixin):\n",
    "    def __init__(self, strength=0.5, length=1):\n",
    "        self.strength = strength\n",
    "        self.length = length\n",
    "        \n",
    "    def fit(self, X, y=None):\n",
    "        X = check_array(X)\n",
    "        self._check_n_features(X, reset=True)\n",
    "        self.sliding_window_ = (\n",
    "            self.strength ** np.arange(self.length + 1)\n",
    "        ).reshape(-1, 1)\n",
    "        return self\n",
    "    \n",
    "    def transform(self, X: np.ndarray):\n",
    "        check_is_fitted(self)\n",
    "        X = check_array(X)\n",
    "        self._check_n_features(X, reset=False)\n",
    "        convolution = convolve2d(X, self.sliding_window_)\n",
    "        if self.length > 0:\n",
    "            convolution = convolution[: -self.length]\n",
    "        return convolution"
   ]
  },
  {
   "cell_type": "code",
   "execution_count": 18,
   "id": "0fe77992-0a21-4da4-b850-3174ea4b61b8",
   "metadata": {},
   "outputs": [],
   "source": [
    "adstock = ColumnTransformer(\n",
    "    [\n",
    "     ('tv_pipe', Pipeline([\n",
    "                           ('carryover', ExponentialCarryover()),\n",
    "                           ('saturation', ExponentialSaturation())\n",
    "     ]), ['TV']),\n",
    "     ('radio_pipe', Pipeline([\n",
    "                           ('carryover', ExponentialCarryover()),\n",
    "                           ('saturation', ExponentialSaturation())\n",
    "     ]), ['Radio']),\n",
    "     ('banners_pipe', Pipeline([\n",
    "                           ('carryover', ExponentialCarryover()),\n",
    "                           ('saturation', ExponentialSaturation())\n",
    "     ]), ['Banners']),\n",
    "    ],\n",
    "    remainder='passthrough'\n",
    ")\n",
    "\n",
    "model = Pipeline([\n",
    "                  ('adstock', adstock),\n",
    "                  ('regression', LinearRegression())\n",
    "])"
   ]
  },
  {
   "cell_type": "code",
   "execution_count": null,
   "id": "3a0e8c64-4420-4f9e-8a57-62e041d84ed2",
   "metadata": {},
   "outputs": [],
   "source": []
  }
 ],
 "metadata": {
  "kernelspec": {
   "display_name": "Python 3 (ipykernel)",
   "language": "python",
   "name": "python3"
  },
  "language_info": {
   "codemirror_mode": {
    "name": "ipython",
    "version": 3
   },
   "file_extension": ".py",
   "mimetype": "text/x-python",
   "name": "python",
   "nbconvert_exporter": "python",
   "pygments_lexer": "ipython3",
   "version": "3.10.5"
  }
 },
 "nbformat": 4,
 "nbformat_minor": 5
}
