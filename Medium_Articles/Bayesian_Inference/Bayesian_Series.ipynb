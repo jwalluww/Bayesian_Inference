{
 "cells": [
  {
   "cell_type": "markdown",
   "id": "a2ca71ac-3265-4660-94a3-571fb1151d8a",
   "metadata": {},
   "source": [
    "# Bayesian Priors"
   ]
  },
  {
   "cell_type": "markdown",
   "id": "a42fbf16-fc28-4912-8390-438bd27dd77f",
   "metadata": {},
   "source": [
    "- Bayesian Experimentation methods for products: https://towardsdatascience.com/bayesian-experimentation-methods-for-products-636514951e43\n",
    "- Part 1: Conversions: https://towardsdatascience.com/bayesian-ab-testing-part-i-conversions-ac2635f878ec\n",
    "- Part 2: Revenue: https://towardsdatascience.com/bayesian-ab-testing-part-ii-revenue-1fbcf04f96cd\n",
    "- Part 3: Test Duration: https://towardsdatascience.com/bayesian-ab-testing-part-iii-test-duration-f2305215009c\n",
    "- Part 4: Choosing Priors: https://towardsdatascience.com/bayesian-ab-testing-part-iv-choosing-a-prior-5a4fe3223bfd\n",
    "- Github Repo: https://github.com/ksureshkumar-loveshark/blogs_public/tree/main/Bayesian%20AB%20Testing"
   ]
  },
  {
   "cell_type": "markdown",
   "id": "581cc1d1-ec15-4397-bdb8-486c95704c03",
   "metadata": {
    "jp-MarkdownHeadingCollapsed": true,
    "tags": []
   },
   "source": [
    "## Introduction"
   ]
  },
  {
   "cell_type": "markdown",
   "id": "46c74eee-f2e2-44ee-8637-2af62dbc4b5c",
   "metadata": {},
   "source": [
    "***\n",
    "**Bayesian AB Testing Advantages**"
   ]
  },
  {
   "cell_type": "markdown",
   "id": "8ab4fdf4-15e2-4681-a1ef-384d85a326ad",
   "metadata": {},
   "source": [
    "- Benefits\n",
    "    - Test duration\n",
    "    - Explanation w/non technical\n",
    "    - Errors & mistakes\n",
    "- AB Test Questions\n",
    "    - Treatment better than control?\n",
    "    - Probability that treatment better than control?\n",
    "    - Risk of using treatment over control?\n",
    "- Frequentist\n",
    "    - Probability of observing a conversion rate for the treatment group that is at least as high as the one in this given experiment. If that prob is less than 5% then we can be confident our conclusion isn't wrong\n",
    "- Bayesian\n",
    "    - We set a distribution, then update that distribution using the data, then sample from that end distribution\n",
    "    - Calculate the prob treatment>control, prob treatment is a mistake, loss function which normalizes this error probability by the size of the error (larger penalized more than smaller)\n",
    "    - Reach significance when expected loss function is less than threshold set initially\n",
    "- Pros to Bayesian\n",
    "    - frequentist approach only tells us what teh chances of making a mistake are and assumes all mistakes are equally costly - bayesian you can assign a cost to each mistake\n",
    "    - Bayesian gives you probablity the treatment > control & expected loss of choosing wrongly\n",
    "- Cons of bayesian\n",
    "    - more complex calculations - but we got the computers to help\n",
    "    - the idea of a prior - but we cna use conjugate priors like the last conversion rate from history"
   ]
  },
  {
   "cell_type": "markdown",
   "id": "44ca7c6e-cef3-44a3-92ca-d9e93957b4b3",
   "metadata": {},
   "source": [
    "***\n",
    "**Generate Historical Data**"
   ]
  },
  {
   "cell_type": "code",
   "execution_count": 2,
   "id": "492e55b6-551a-4cea-bec4-28f37158829d",
   "metadata": {},
   "outputs": [
    {
     "name": "stderr",
     "output_type": "stream",
     "text": [
      "C:\\Users\\wallj\\AppData\\Local\\Temp\\ipykernel_11368\\2710266449.py:21: SettingWithCopyWarning: \n",
      "A value is trying to be set on a copy of a slice from a DataFrame.\n",
      "Try using .loc[row_indexer,col_indexer] = value instead\n",
      "\n",
      "See the caveats in the documentation: https://pandas.pydata.org/pandas-docs/stable/user_guide/indexing.html#returning-a-view-versus-a-copy\n",
      "  converted['revenue'] = revenue\n",
      "C:\\Users\\wallj\\AppData\\Local\\Temp\\ipykernel_11368\\2710266449.py:24: SettingWithCopyWarning: \n",
      "A value is trying to be set on a copy of a slice from a DataFrame.\n",
      "Try using .loc[row_indexer,col_indexer] = value instead\n",
      "\n",
      "See the caveats in the documentation: https://pandas.pydata.org/pandas-docs/stable/user_guide/indexing.html#returning-a-view-versus-a-copy\n",
      "  rest['revenue'] = 0\n"
     ]
    }
   ],
   "source": [
    "import pandas as pd\n",
    "import numpy as np\n",
    "from scipy.stats import gamma\n",
    "import uuid\n",
    "\n",
    "SAMPLE_SIZE = 5268\n",
    "CONVERSION_PROBABILITY = 0.326\n",
    "REVENUE_RATE = 2.0\n",
    "\n",
    "if __name__ == \"__main__\":\n",
    "    user_ids = [uuid.uuid4().hex for i in range(SAMPLE_SIZE)]\n",
    "    conversion_flips = np.random.binomial(n=1, p=CONVERSION_PROBABILITY, size=SAMPLE_SIZE)\n",
    "\n",
    "    data = pd.DataFrame()\n",
    "    data['userId'] = user_ids\n",
    "    data['converted'] = conversion_flips\n",
    "\n",
    "    converted = data[data['converted'] == 1]\n",
    "    no_of_conversions = converted.shape[0]\n",
    "    revenue = np.random.exponential(scale=(1/REVENUE_RATE), size=no_of_conversions)\n",
    "    converted['revenue'] = revenue\n",
    "\n",
    "    rest = data[data['converted'] == 0]\n",
    "    rest['revenue'] = 0\n",
    "\n",
    "    data = pd.concat([converted, rest])\n",
    "    data = data.sample(frac=1)\n",
    "    data = data.round(decimals=2)\n",
    "\n",
    "    data.to_csv('prior_data.csv', index=False)"
   ]
  },
  {
   "cell_type": "markdown",
   "id": "b4c707b6-1fe3-4bab-9a71-e2f0af9b55cc",
   "metadata": {},
   "source": [
    "***\n",
    "**Generate Experiment Data**"
   ]
  },
  {
   "cell_type": "code",
   "execution_count": 16,
   "id": "7a45e94c-aff8-40ba-9cef-8b109e04a24d",
   "metadata": {},
   "outputs": [],
   "source": [
    "import pandas as pd\n",
    "import numpy as np\n",
    "import uuid\n",
    "\n",
    "CONTROL_SIZE = 2743\n",
    "CONTROL_CONVERSION_PROBABILITY = 0.326\n",
    "\n",
    "TREATMENT_SIZE = 2358\n",
    "TREATMENT_CONVERSION_PROBABILITY = 0.345\n",
    "\n",
    "\n",
    "if __name__ == \"__main__\":\n",
    "    control_user_ids = [uuid.uuid4().hex for i in range(CONTROL_SIZE)]\n",
    "    control_conversion_flips = np.random.uniform(0,1,CONTROL_SIZE)\n",
    "    control_converted = [i <= CONTROL_CONVERSION_PROBABILITY for i in control_conversion_flips]\n",
    "    \n",
    "    control = pd.DataFrame()\n",
    "    control['userId'] = control_user_ids\n",
    "    control['group'] = 'control'\n",
    "    control['converted'] = control_converted\n",
    "\n",
    "    treatment_user_ids = [uuid.uuid4().hex for i in range(TREATMENT_SIZE)]\n",
    "    treatment_conversion_flips = np.random.uniform(0,1,TREATMENT_SIZE)\n",
    "    treatment_converted = [i <= TREATMENT_CONVERSION_PROBABILITY for i in treatment_conversion_flips]\n",
    "    \n",
    "    treatment = pd.DataFrame()\n",
    "    treatment['userId'] = treatment_user_ids\n",
    "    treatment['group'] = 'treatment'\n",
    "    treatment['converted'] = treatment_converted\n",
    "\n",
    "    results = pd.concat([control, treatment])\n",
    "    results = results.sample(frac=1)\n",
    "    results.to_csv('experiment_data.csv', index=False)"
   ]
  },
  {
   "cell_type": "markdown",
   "id": "dc8e275e-c1b9-406e-a0ff-13a6575ed889",
   "metadata": {
    "jp-MarkdownHeadingCollapsed": true,
    "tags": []
   },
   "source": [
    "***\n",
    "## Conversions"
   ]
  },
  {
   "cell_type": "markdown",
   "id": "21bd4792-e98e-4df9-8727-db45217e66f1",
   "metadata": {},
   "source": [
    "***\n",
    "**Import historical data**"
   ]
  },
  {
   "cell_type": "code",
   "execution_count": 4,
   "id": "3898fe0a-734a-4ee9-97a1-cd6cb8d36f72",
   "metadata": {},
   "outputs": [],
   "source": [
    "import pandas as pd"
   ]
  },
  {
   "cell_type": "code",
   "execution_count": 5,
   "id": "6bc72b3c-c872-481c-a855-b6527257c44c",
   "metadata": {},
   "outputs": [],
   "source": [
    "prior_data = pd.read_csv('prior_data.csv')"
   ]
  },
  {
   "cell_type": "code",
   "execution_count": 6,
   "id": "da5d7c9e-b463-4f77-8c9f-d283a1df76bc",
   "metadata": {},
   "outputs": [
    {
     "name": "stdout",
     "output_type": "stream",
     "text": [
      "                             userId  converted  revenue\n",
      "0  33012dc4e1674db9b61a9e4c551d620f          0     0.00\n",
      "1  cc1602ca771e4fa988406ee8c252a189          0     0.00\n",
      "2  9844cc290fbd4c6a93941a091d069045          1     0.59\n",
      "3  ab59486a391342f78c0dc62966f43f70          0     0.00\n",
      "4  e000b9aed0474a958fb6e88af58ad366          0     0.00\n",
      "(5268, 3)\n"
     ]
    }
   ],
   "source": [
    "print(prior_data.head())\n",
    "print(prior_data.shape)"
   ]
  },
  {
   "cell_type": "code",
   "execution_count": 7,
   "id": "54e9151c-bf24-4342-af17-b5dc1d1d25ec",
   "metadata": {},
   "outputs": [],
   "source": [
    "conversion_rate = prior_data['converted'].sum()/prior_data.shape[0]"
   ]
  },
  {
   "cell_type": "code",
   "execution_count": 8,
   "id": "143896e9-5d30-4ac2-8b84-6402f1fce29f",
   "metadata": {},
   "outputs": [
    {
     "name": "stdout",
     "output_type": "stream",
     "text": [
      "Prior Conversion Rate is 0.315\n"
     ]
    }
   ],
   "source": [
    "print(f'Prior Conversion Rate is {round(conversion_rate,3)}')"
   ]
  },
  {
   "cell_type": "markdown",
   "id": "25dfe958-fdf1-449a-85fe-ce00d60b95d8",
   "metadata": {},
   "source": [
    "***\n",
    "**Choosing a prior distribution**"
   ]
  },
  {
   "cell_type": "code",
   "execution_count": 9,
   "id": "2327362e-6866-4adb-b529-263c74625c26",
   "metadata": {},
   "outputs": [],
   "source": [
    "import numpy as np\n",
    "from scipy.stats import beta\n",
    "import matplotlib.pyplot as plt"
   ]
  },
  {
   "cell_type": "code",
   "execution_count": 12,
   "id": "1b59876a-1a04-4509-bea8-b2febed61910",
   "metadata": {},
   "outputs": [],
   "source": [
    "beta_weak = beta(round(conversion_rate, 1)*10 + 1, 10 + 1 - round(conversion_rate, 1)*10)\n",
    "beta_mid = beta(round(conversion_rate, 1)*50 + 1, 50 + 1 - round(conversion_rate, 1)*50)\n",
    "beta_strong = beta(round(conversion_rate, 2)*100 + 1, 100 + 1 - round(conversion_rate, 2)*100)"
   ]
  },
  {
   "cell_type": "code",
   "execution_count": 13,
   "id": "7fe922f2-059f-4427-a6a0-af4d55cbb6ec",
   "metadata": {},
   "outputs": [
    {
     "data": {
      "text/plain": [
       "<matplotlib.legend.Legend at 0x1f0c1802530>"
      ]
     },
     "execution_count": 13,
     "metadata": {},
     "output_type": "execute_result"
    },
    {
     "data": {
      "image/png": "[encoded data removed]",
      "text/plain": [
       "<Figure size 432x288 with 1 Axes>"
      ]
     },
     "metadata": {
      "needs_background": "light"
     },
     "output_type": "display_data"
    }
   ],
   "source": [
    "fig, ax = plt.subplots(1, 1)\n",
    "x = np.linspace(0,1,1000)\n",
    "ax.plot(x, beta_weak.pdf(x), label=f'weak Beta({int(round(conversion_rate, 1)*10) + 1}, {10 + 1 - int(round(conversion_rate, 1)*10)})')\n",
    "ax.plot(x, beta_mid.pdf(x), label=f'mid Beta({int(round(conversion_rate, 1)*50) + 1}, {50 + 1 - int(round(conversion_rate, 1)*50)})')\n",
    "ax.plot(x, beta_strong.pdf(x), label=f'strong Beta({int(round(conversion_rate, 2)*100) + 1}, {100 + 1 - int(round(conversion_rate, 2)*100)})')\n",
    "ax.set_xlabel('Conversion Probability')\n",
    "ax.set_ylabel('Density')\n",
    "ax.set_title('Choice of Priors')\n",
    "ax.legend()"
   ]
  },
  {
   "cell_type": "code",
   "execution_count": 14,
   "id": "16222c9d-2f05-44e6-b27a-cdc6d66ffb24",
   "metadata": {},
   "outputs": [],
   "source": [
    "prior_alpha = round(conversion_rate, 1)*20 + 1\n",
    "prior_beta = 20 + 1 - round(conversion_rate, 1)*20\n",
    "prior = beta(prior_alpha, prior_beta)"
   ]
  },
  {
   "cell_type": "code",
   "execution_count": 15,
   "id": "41f166e2-5c3b-4531-8b5a-1785612e85aa",
   "metadata": {},
   "outputs": [
    {
     "data": {
      "text/plain": [
       "<matplotlib.legend.Legend at 0x1f0c0e26bf0>"
      ]
     },
     "execution_count": 15,
     "metadata": {},
     "output_type": "execute_result"
    },
    {
     "data": {
      "image/png": "[encoded data removed]",
      "text/plain": [
       "<Figure size 432x288 with 1 Axes>"
      ]
     },
     "metadata": {
      "needs_background": "light"
     },
     "output_type": "display_data"
    }
   ],
   "source": [
    "fig, ax = plt.subplots(1, 1)\n",
    "x = np.linspace(0,1,1000)\n",
    "ax.plot(x, prior.pdf(x), label=f'prior Beta({int(round(conversion_rate, 1)*20) + 1}, {20 + 1 - int(round(conversion_rate, 1)*20)})')\n",
    "ax.set_xlabel('Conversion Probability')\n",
    "ax.set_ylabel('Density')\n",
    "ax.set_title('Chosen Prior')\n",
    "ax.legend()"
   ]
  },
  {
   "cell_type": "markdown",
   "id": "393d5640-725d-499d-9a9e-4cd5c8b86269",
   "metadata": {},
   "source": [
    "***\n",
    "**Loss Threshold**\n",
    "- The highest expected loss we're willing to accpet in the case where we choose the wrong variant\n",
    "    - If we don't want to lose more than 0.5%, the conversion rate of 30% * 0.5% would be 0.15"
   ]
  },
  {
   "cell_type": "markdown",
   "id": "6a886538-141b-4390-a006-f3cbe5aa174b",
   "metadata": {},
   "source": [
    "***\n",
    "**Experiment Results**"
   ]
  },
  {
   "cell_type": "code",
   "execution_count": 17,
   "id": "ffff2f24-8d20-4f73-8296-df6f5d500bc5",
   "metadata": {},
   "outputs": [
    {
     "name": "stdout",
     "output_type": "stream",
     "text": [
      "                             userId      group  converted\n",
      "0  8932e4bee0a342e88452094ba28ca6c1  treatment      False\n",
      "1  dce7390c9a394bab8f7de601f1ca3bdd    control       True\n",
      "2  5a18d7fa835344c689d7206515a2014c    control      False\n",
      "3  93f79ae942b54bf2a98e3193cdc69b60  treatment      False\n",
      "4  6270bb758aec402e8a803cbd4af14c03  treatment       True\n",
      "(5101, 3)\n"
     ]
    }
   ],
   "source": [
    "experiment_data = pd.read_csv('experiment_data.csv')\n",
    "print(experiment_data.head())\n",
    "print(experiment_data.shape)"
   ]
  },
  {
   "cell_type": "code",
   "execution_count": 18,
   "id": "1a9bb532-272f-415e-b156-e4a21f81a99f",
   "metadata": {},
   "outputs": [
    {
     "name": "stdout",
     "output_type": "stream",
     "text": [
      "           sampleSize  converted  conversionRate\n",
      "group                                           \n",
      "control          2743        933        0.340139\n",
      "treatment        2358        806        0.341815\n"
     ]
    }
   ],
   "source": [
    "results = experiment_data.groupby('group').agg({'userId': pd.Series.nunique, 'converted': sum})\n",
    "results.rename({'userId': 'sampleSize'}, axis=1, inplace=True)\n",
    "results['conversionRate'] = results['converted']/results['sampleSize']\n",
    "print(results)"
   ]
  },
  {
   "cell_type": "markdown",
   "id": "e24a1bba-1ee9-4315-9917-712c6aa4194f",
   "metadata": {},
   "source": [
    "***\n",
    "**Calculate Posterior**"
   ]
  },
  {
   "cell_type": "code",
   "execution_count": 19,
   "id": "e54b1277-fcdb-45ba-8470-1b5283078e65",
   "metadata": {},
   "outputs": [],
   "source": [
    "control = beta(prior_alpha + results.loc['control', 'converted'], prior_beta + results.loc['control', 'sampleSize'] - results.loc['control', 'converted'])\n",
    "treatment = beta(prior_alpha + results.loc['treatment', 'converted'], prior_beta + results.loc['treatment', 'sampleSize'] - results.loc['treatment', 'converted'])"
   ]
  },
  {
   "cell_type": "code",
   "execution_count": 20,
   "id": "46d3b9fb-e42f-4217-aed1-34e863c293f2",
   "metadata": {},
   "outputs": [
    {
     "data": {
      "text/plain": [
       "<matplotlib.legend.Legend at 0x1f0c0f72a70>"
      ]
     },
     "execution_count": 20,
     "metadata": {},
     "output_type": "execute_result"
    },
    {
     "data": {
      "image/png": "[encoded data removed]",
      "text/plain": [
       "<Figure size 432x288 with 1 Axes>"
      ]
     },
     "metadata": {
      "needs_background": "light"
     },
     "output_type": "display_data"
    }
   ],
   "source": [
    "fig, ax = plt.subplots()\n",
    "x = np.linspace(0.26,0.42,1000)\n",
    "ax.plot(x, control.pdf(x), label='control')\n",
    "ax.plot(x, treatment.pdf(x), label='treatment')\n",
    "ax.set_xlabel('Conversion Probability')\n",
    "ax.set_ylabel('Density')\n",
    "ax.set_title('Experiment Posteriors')\n",
    "ax.legend()"
   ]
  },
  {
   "cell_type": "markdown",
   "id": "25fc5ca5-5c79-4564-9c20-27276a992bd0",
   "metadata": {},
   "source": [
    "***\n",
    "**Join Posterior Distribution**"
   ]
  },
  {
   "cell_type": "code",
   "execution_count": 21,
   "id": "e430b84b-9aff-4a31-9e82-75b96fb1322e",
   "metadata": {},
   "outputs": [
    {
     "data": {
      "image/png": "[encoded data removed]",
      "text/plain": [
       "<Figure size 432x288 with 2 Axes>"
      ]
     },
     "metadata": {
      "needs_background": "light"
     },
     "output_type": "display_data"
    }
   ],
   "source": [
    "import seaborn as sns\n",
    "joint_dist_for_plot = []\n",
    "for i in np.linspace(0.26,0.42,161):\n",
    "    for j in np.linspace(0.26,0.42,161):\n",
    "        joint_dist_for_plot.append([i, j, control.pdf(i)*treatment.pdf(j)])\n",
    "joint_dist_for_plot = pd.DataFrame(joint_dist_for_plot)\n",
    "joint_dist_for_plot.rename({0: 'control_cr', 1: 'treatment_cr', 2: 'joint_density'}, axis=1, inplace=True)\n",
    "tick_locations = range(0, 160, 10)\n",
    "tick_labels = [round(0.26 + i*0.01, 2) for i in range(16)]\n",
    "heatmap_df = pd.pivot_table(joint_dist_for_plot, values='joint_density', index='treatment_cr', columns='control_cr')\n",
    "ax = sns.heatmap(heatmap_df)\n",
    "ax.set_xticks(tick_locations)\n",
    "ax.set_xticklabels(tick_labels)\n",
    "ax.set_yticks(tick_locations)\n",
    "ax.set_yticklabels(tick_labels)\n",
    "ax.invert_yaxis()"
   ]
  },
  {
   "cell_type": "code",
   "execution_count": 22,
   "id": "1e843864-c327-428a-bbf2-3f838eeed25f",
   "metadata": {},
   "outputs": [
    {
     "name": "stdout",
     "output_type": "stream",
     "text": [
      "Chance of treatment beating control is 0.5359\n"
     ]
    }
   ],
   "source": [
    "import decimal\n",
    "decimal.getcontext().prec = 4\n",
    "control_simulation = np.random.beta(prior_alpha + results.loc['control', 'converted'], prior_beta + results.loc['control', 'sampleSize'] - results.loc['control', 'converted'], size=10000)\n",
    "treatment_simulation = np.random.beta(prior_alpha + results.loc['treatment', 'converted'], prior_beta + results.loc['treatment', 'sampleSize'] - results.loc['treatment', 'converted'], size=10000)\n",
    "treatment_won = [i <= j for i,j in zip(control_simulation, treatment_simulation)]\n",
    "chance_of_beating_control = np.mean(treatment_won)\n",
    "print(f'Chance of treatment beating control is {decimal.getcontext().create_decimal(chance_of_beating_control)}')"
   ]
  },
  {
   "cell_type": "markdown",
   "id": "ee520314-38b2-426e-a3f5-b0364678bd3f",
   "metadata": {},
   "source": [
    "***\n",
    "**Expected Loss**"
   ]
  },
  {
   "cell_type": "code",
   "execution_count": 23,
   "id": "6276bf8b-9616-4d3e-89a6-af08c94110d9",
   "metadata": {},
   "outputs": [
    {
     "name": "stdout",
     "output_type": "stream",
     "text": [
      "Expected loss of choosing control: 0.005946. Expected loss of choosing treatment: 0.004673\n"
     ]
    }
   ],
   "source": [
    "decimal.getcontext().prec = 4\n",
    "loss_control = [max(j - i, 0) for i,j in zip(control_simulation, treatment_simulation)]\n",
    "loss_treatment = [max(i - j, 0) for i,j in zip(control_simulation, treatment_simulation)]\n",
    "all_loss_control = [int(i)*j for i,j in zip(treatment_won, loss_control)]\n",
    "all_loss_treatment = [(1 - int(i))*j for i,j in zip(treatment_won, loss_treatment)]\n",
    "expected_loss_control = np.mean(all_loss_control)\n",
    "expected_loss_treatment = np.mean(all_loss_treatment)\n",
    "print(f'Expected loss of choosing control: {decimal.getcontext().create_decimal(expected_loss_control)}. Expected loss of choosing treatment: {decimal.getcontext().create_decimal(expected_loss_treatment)}')"
   ]
  },
  {
   "cell_type": "markdown",
   "id": "f88e5139-64b0-4a96-99df-07e2e65f548f",
   "metadata": {},
   "source": [
    "***\n",
    "## Revenue"
   ]
  },
  {
   "cell_type": "code",
   "execution_count": null,
   "id": "00e23d4e-cc4e-45e5-bb5c-6fe63f72444b",
   "metadata": {},
   "outputs": [],
   "source": []
  }
 ],
 "metadata": {
  "kernelspec": {
   "display_name": "Python 3 (ipykernel)",
   "language": "python",
   "name": "python3"
  },
  "language_info": {
   "codemirror_mode": {
    "name": "ipython",
    "version": 3
   },
   "file_extension": ".py",
   "mimetype": "text/x-python",
   "name": "python",
   "nbconvert_exporter": "python",
   "pygments_lexer": "ipython3",
   "version": "3.10.2"
  }
 },
 "nbformat": 4,
 "nbformat_minor": 5
}
