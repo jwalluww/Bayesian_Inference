{
 "cells": [
  {
   "cell_type": "markdown",
   "id": "cce97db8-bba0-49ff-8c4d-110e56954459",
   "metadata": {},
   "source": [
    "# CLV Prediction"
   ]
  },
  {
   "cell_type": "markdown",
   "id": "4b690b5e-1a3e-44a0-933a-ac58f5201362",
   "metadata": {},
   "source": [
    "<br>"
   ]
  },
  {
   "cell_type": "markdown",
   "id": "7589466b-f39b-4119-ac59-bfe96dac167e",
   "metadata": {},
   "source": [
    "***"
   ]
  },
  {
   "cell_type": "markdown",
   "id": "e64c4ac3-704c-43f9-a78c-98cb6de60643",
   "metadata": {},
   "source": [
    "<br>"
   ]
  },
  {
   "cell_type": "markdown",
   "id": "a9c8651f-a014-4604-bfee-a12f0be2a1de",
   "metadata": {},
   "source": [
    "# Installs"
   ]
  },
  {
   "cell_type": "markdown",
   "id": "1324a5b2-41c7-44d4-b705-8f6d2aa115c9",
   "metadata": {},
   "source": [
    "- https://github.com/hikmetburakozcan/CLTV-Prediction/blob/main/CLTV_Prediction.ipynb\n",
    "- https://medium.com/@hikmetburakzcan/cltv-prediction-with-bg-nbd-gg-model-177519e85285"
   ]
  },
  {
   "cell_type": "code",
   "execution_count": 3,
   "id": "817aa781-b1fc-49f8-93a3-840a87c1ef1f",
   "metadata": {},
   "outputs": [],
   "source": [
    "# !kaggle datasets download -d jessemostipak/hotel-booking-demand"
   ]
  },
  {
   "cell_type": "code",
   "execution_count": 4,
   "id": "7497a78e-8938-4fb3-80c1-793df26affc7",
   "metadata": {},
   "outputs": [],
   "source": [
    "# !pip install lifetimes"
   ]
  },
  {
   "cell_type": "markdown",
   "id": "9a303eae-7a10-43bc-aeb3-e03786bc31a2",
   "metadata": {},
   "source": [
    "# Imports"
   ]
  },
  {
   "cell_type": "code",
   "execution_count": 5,
   "id": "141cd5a9-b157-45a6-952a-ce4cca9f5a2e",
   "metadata": {},
   "outputs": [],
   "source": [
    "### Base Libraries\n",
    "import pandas as pd\n",
    "import numpy as np\n",
    "import matplotlib.pyplot as plt\n",
    "import seaborn as sns\n",
    "import datetime as dt\n",
    "\n",
    "### Pandas Options\n",
    "pd.set_option('display.max_columns', None)\n",
    "pd.set_option('display.width', 500)\n",
    "pd.set_option('display.float_format', lambda x: '%.4f' % x)\n",
    "\n",
    "### CLV Libraries\n",
    "from lifetimes import BetaGeoFitter\n",
    "from lifetimes import GammaGammaFitter\n",
    "from lifetimes.plotting import plot_period_transactions"
   ]
  },
  {
   "cell_type": "code",
   "execution_count": 6,
   "id": "e8d34ed6-f9fc-4d33-9eb8-e8775de2adcd",
   "metadata": {},
   "outputs": [
    {
     "data": {
      "text/html": [
       "<div>\n",
       "<style scoped>\n",
       "    .dataframe tbody tr th:only-of-type {\n",
       "        vertical-align: middle;\n",
       "    }\n",
       "\n",
       "    .dataframe tbody tr th {\n",
       "        vertical-align: top;\n",
       "    }\n",
       "\n",
       "    .dataframe thead th {\n",
       "        text-align: right;\n",
       "    }\n",
       "</style>\n",
       "<table border=\"1\" class=\"dataframe\">\n",
       "  <thead>\n",
       "    <tr style=\"text-align: right;\">\n",
       "      <th></th>\n",
       "      <th>GuestID</th>\n",
       "      <th>Status</th>\n",
       "      <th>RoomGroupID</th>\n",
       "      <th>CreatedDate</th>\n",
       "      <th>ArrivalDate</th>\n",
       "      <th>DepartureDate</th>\n",
       "      <th>RoomPrice</th>\n",
       "      <th>Channel</th>\n",
       "      <th>RoomNo</th>\n",
       "      <th>Country</th>\n",
       "      <th>Adults</th>\n",
       "      <th>Children</th>\n",
       "      <th>TotalPayment</th>\n",
       "    </tr>\n",
       "  </thead>\n",
       "  <tbody>\n",
       "    <tr>\n",
       "      <th>0</th>\n",
       "      <td>53801</td>\n",
       "      <td>O</td>\n",
       "      <td>1</td>\n",
       "      <td>2017-12-19</td>\n",
       "      <td>2018-09-09</td>\n",
       "      <td>2018-09-19</td>\n",
       "      <td>230.8900</td>\n",
       "      <td>NaN</td>\n",
       "      <td>467.0000</td>\n",
       "      <td>au</td>\n",
       "      <td>3</td>\n",
       "      <td>0</td>\n",
       "      <td>2309.9300</td>\n",
       "    </tr>\n",
       "    <tr>\n",
       "      <th>1</th>\n",
       "      <td>37129</td>\n",
       "      <td>O</td>\n",
       "      <td>1</td>\n",
       "      <td>2017-12-20</td>\n",
       "      <td>2018-01-03</td>\n",
       "      <td>2018-01-05</td>\n",
       "      <td>170.1500</td>\n",
       "      <td>other</td>\n",
       "      <td>467.0000</td>\n",
       "      <td>us</td>\n",
       "      <td>0</td>\n",
       "      <td>0</td>\n",
       "      <td>340.9400</td>\n",
       "    </tr>\n",
       "    <tr>\n",
       "      <th>2</th>\n",
       "      <td>37708</td>\n",
       "      <td>O</td>\n",
       "      <td>1</td>\n",
       "      <td>2017-12-20</td>\n",
       "      <td>2018-01-17</td>\n",
       "      <td>2018-01-20</td>\n",
       "      <td>176.8100</td>\n",
       "      <td>NaN</td>\n",
       "      <td>647.0000</td>\n",
       "      <td>jp</td>\n",
       "      <td>0</td>\n",
       "      <td>0</td>\n",
       "      <td>542.5900</td>\n",
       "    </tr>\n",
       "    <tr>\n",
       "      <th>3</th>\n",
       "      <td>41515</td>\n",
       "      <td>O</td>\n",
       "      <td>1</td>\n",
       "      <td>2017-12-20</td>\n",
       "      <td>2018-02-18</td>\n",
       "      <td>2018-02-23</td>\n",
       "      <td>226.8000</td>\n",
       "      <td>NaN</td>\n",
       "      <td>508.0000</td>\n",
       "      <td>gb</td>\n",
       "      <td>1</td>\n",
       "      <td>0</td>\n",
       "      <td>1134.2900</td>\n",
       "    </tr>\n",
       "    <tr>\n",
       "      <th>4</th>\n",
       "      <td>37390</td>\n",
       "      <td>O</td>\n",
       "      <td>1</td>\n",
       "      <td>2017-12-21</td>\n",
       "      <td>2018-01-11</td>\n",
       "      <td>2018-01-12</td>\n",
       "      <td>129.8000</td>\n",
       "      <td>offline</td>\n",
       "      <td>529.0000</td>\n",
       "      <td>cn</td>\n",
       "      <td>1</td>\n",
       "      <td>0</td>\n",
       "      <td>140.5900</td>\n",
       "    </tr>\n",
       "  </tbody>\n",
       "</table>\n",
       "</div>"
      ],
      "text/plain": [
       "   GuestID Status  RoomGroupID CreatedDate ArrivalDate DepartureDate  RoomPrice  Channel   RoomNo Country  Adults  Children  TotalPayment\n",
       "0    53801      O            1  2017-12-19  2018-09-09    2018-09-19   230.8900      NaN 467.0000      au       3         0     2309.9300\n",
       "1    37129      O            1  2017-12-20  2018-01-03    2018-01-05   170.1500    other 467.0000      us       0         0      340.9400\n",
       "2    37708      O            1  2017-12-20  2018-01-17    2018-01-20   176.8100      NaN 647.0000      jp       0         0      542.5900\n",
       "3    41515      O            1  2017-12-20  2018-02-18    2018-02-23   226.8000      NaN 508.0000      gb       1         0     1134.2900\n",
       "4    37390      O            1  2017-12-21  2018-01-11    2018-01-12   129.8000  offline 529.0000      cn       1         0      140.5900"
      ]
     },
     "execution_count": 6,
     "metadata": {},
     "output_type": "execute_result"
    }
   ],
   "source": [
    "# df_ = pd.read_csv(\"C:\\\\Users\\\\wallj\\\\DS_Projects\\\\DataScience\\\\datasets\\\\hotel-booking-demand\\\\hotel_bookings.csv\")\n",
    "df_ = pd.read_csv(\"https://raw.githubusercontent.com/hikmetburakozcan/RFM-Analysis/main/bookings.csv\")\n",
    "df = df_.copy()\n",
    "df.head()"
   ]
  },
  {
   "cell_type": "markdown",
   "id": "1f48c47f-bc72-40eb-98cb-d62455bad802",
   "metadata": {},
   "source": [
    "Variables\n",
    "- 'GuestID': Identification Number of Guest\n",
    "- 'Status': Status of Booking\n",
    "- 'RoomGroupID': Identification Number of Room Group\n",
    "- 'CreatedDate': Date of Creating Booking\n",
    "- 'ArrivalDate': Date of Arrival\n",
    "- 'DepartureDate': Date of Departure\n",
    "- 'RoomPrice': Price of Room per Day\n",
    "- 'Channel': Channel of Booking\n",
    "- 'RoomNo': Identification Number of Room\n",
    "- 'Country': Country of Guest\n",
    "- 'Adults': Number of Adults\n",
    "- 'Children': Number of Children\n",
    "- 'TotalPayment': Total Fee Paid"
   ]
  },
  {
   "cell_type": "markdown",
   "id": "d7748a08-8e65-4d6e-a612-d525b08b01ed",
   "metadata": {},
   "source": [
    "# EDA"
   ]
  },
  {
   "cell_type": "code",
   "execution_count": 7,
   "id": "56f795a0-8a1b-4916-9b65-ae731d61cac3",
   "metadata": {},
   "outputs": [
    {
     "data": {
      "text/plain": [
       "(10000, 13)"
      ]
     },
     "execution_count": 7,
     "metadata": {},
     "output_type": "execute_result"
    }
   ],
   "source": [
    "df.shape"
   ]
  },
  {
   "cell_type": "code",
   "execution_count": 8,
   "id": "e2723474-5b23-4651-ae7e-f04ce712d8f6",
   "metadata": {},
   "outputs": [
    {
     "data": {
      "text/plain": [
       "GuestID             0\n",
       "Status              0\n",
       "RoomGroupID         0\n",
       "CreatedDate         0\n",
       "ArrivalDate         0\n",
       "DepartureDate       0\n",
       "RoomPrice           0\n",
       "Channel          3719\n",
       "RoomNo            210\n",
       "Country           482\n",
       "Adults              0\n",
       "Children            0\n",
       "TotalPayment        0\n",
       "dtype: int64"
      ]
     },
     "execution_count": 8,
     "metadata": {},
     "output_type": "execute_result"
    }
   ],
   "source": [
    "df.isnull().sum()"
   ]
  },
  {
   "cell_type": "code",
   "execution_count": 9,
   "id": "0ebcdbef-bbac-4957-80c6-eedf4b487e7f",
   "metadata": {},
   "outputs": [],
   "source": [
    "# We don't want where no adults and no children and no price\n",
    "df = df[(~((df[\"Adults\"] == 0) & (df[\"Children\"] == 0))) & (df[\"RoomPrice\"] > 0)]"
   ]
  },
  {
   "cell_type": "code",
   "execution_count": 10,
   "id": "e7e058d8-e5ca-45c9-a679-21136b902470",
   "metadata": {},
   "outputs": [
    {
     "data": {
      "text/plain": [
       "NaN        2836\n",
       "online     2413\n",
       "other      2089\n",
       "offline     792\n",
       "Name: Channel, dtype: int64"
      ]
     },
     "execution_count": 10,
     "metadata": {},
     "output_type": "execute_result"
    }
   ],
   "source": [
    "df['Channel'].value_counts(dropna=False)"
   ]
  },
  {
   "cell_type": "code",
   "execution_count": 11,
   "id": "29b23743-f4cd-4062-9b56-406d822d7a15",
   "metadata": {},
   "outputs": [],
   "source": [
    "df['Channel'].fillna('other',inplace=True)"
   ]
  },
  {
   "cell_type": "code",
   "execution_count": 12,
   "id": "b2f80698-efe2-4e7b-a8bc-4408e489aebb",
   "metadata": {},
   "outputs": [
    {
     "data": {
      "text/plain": [
       "cn    1216\n",
       "gb     869\n",
       "in     686\n",
       "au     684\n",
       "us     553\n",
       "      ... \n",
       "tj       1\n",
       "ec       1\n",
       "am       1\n",
       "la       1\n",
       "zm       1\n",
       "Name: Country, Length: 109, dtype: int64"
      ]
     },
     "execution_count": 12,
     "metadata": {},
     "output_type": "execute_result"
    }
   ],
   "source": [
    "df['Country'].value_counts(dropna=False)"
   ]
  },
  {
   "cell_type": "code",
   "execution_count": 13,
   "id": "9afd34aa-e528-4784-8682-315044fd92ed",
   "metadata": {},
   "outputs": [],
   "source": [
    "df['Country'].fillna('otr',inplace=True)"
   ]
  },
  {
   "cell_type": "code",
   "execution_count": 14,
   "id": "5a5f6a74-56f4-4c31-81ad-f8fea631db38",
   "metadata": {},
   "outputs": [],
   "source": [
    "df.dropna(inplace=True)"
   ]
  },
  {
   "cell_type": "code",
   "execution_count": 15,
   "id": "1f923537-922b-4b88-9c97-a1ba81bba547",
   "metadata": {},
   "outputs": [
    {
     "data": {
      "text/plain": [
       "GuestID          0\n",
       "Status           0\n",
       "RoomGroupID      0\n",
       "CreatedDate      0\n",
       "ArrivalDate      0\n",
       "DepartureDate    0\n",
       "RoomPrice        0\n",
       "Channel          0\n",
       "RoomNo           0\n",
       "Country          0\n",
       "Adults           0\n",
       "Children         0\n",
       "TotalPayment     0\n",
       "dtype: int64"
      ]
     },
     "execution_count": 15,
     "metadata": {},
     "output_type": "execute_result"
    }
   ],
   "source": [
    "df.isnull().sum()"
   ]
  },
  {
   "cell_type": "code",
   "execution_count": 16,
   "id": "4caebd14-b37c-4f16-bd29-2498e5ef0191",
   "metadata": {},
   "outputs": [
    {
     "data": {
      "text/plain": [
       "(7934, 13)"
      ]
     },
     "execution_count": 16,
     "metadata": {},
     "output_type": "execute_result"
    }
   ],
   "source": [
    "df.shape"
   ]
  },
  {
   "cell_type": "markdown",
   "id": "fe4a6984-ec3e-40e8-bd00-4c925ea66ae4",
   "metadata": {},
   "source": [
    "2066 observations dropped"
   ]
  },
  {
   "cell_type": "code",
   "execution_count": 17,
   "id": "b025732e-ca28-4105-b84f-097cbd7a8287",
   "metadata": {},
   "outputs": [],
   "source": [
    "def outlier_thresholds(dataframe, variable):\n",
    "    quartile1 = dataframe[variable].quantile(0.05)\n",
    "    quartile3 = dataframe[variable].quantile(0.95)\n",
    "    interquantile_range = quartile3 - quartile1\n",
    "    up_limit = quartile3 + 1.5 * interquantile_range\n",
    "    low_limit = quartile1 - 1.5 * interquantile_range\n",
    "    return low_limit, up_limit"
   ]
  },
  {
   "cell_type": "code",
   "execution_count": 18,
   "id": "bda78e7f-9b48-424d-991d-6f11783196e8",
   "metadata": {},
   "outputs": [
    {
     "data": {
      "text/plain": [
       "(-2167.7332499999998, 3992.3687499999996)"
      ]
     },
     "execution_count": 18,
     "metadata": {},
     "output_type": "execute_result"
    }
   ],
   "source": [
    "outlier_thresholds(df, \"TotalPayment\")"
   ]
  },
  {
   "cell_type": "code",
   "execution_count": 20,
   "id": "88f0e329-1575-4b5e-9173-f202a934eec3",
   "metadata": {},
   "outputs": [
    {
     "data": {
      "text/plain": [
       "(-154.14750000000004, 545.6685)"
      ]
     },
     "execution_count": 20,
     "metadata": {},
     "output_type": "execute_result"
    }
   ],
   "source": [
    "outlier_thresholds(df, \"RoomPrice\")"
   ]
  },
  {
   "cell_type": "code",
   "execution_count": 21,
   "id": "c534e582-c366-4003-bd16-9afbb1ea4414",
   "metadata": {},
   "outputs": [],
   "source": [
    "def replace_with_thresholds(dataframe, variable):\n",
    "    low_limit, up_limit = outlier_thresholds(dataframe, variable)\n",
    "    dataframe.loc[(dataframe[variable] < low_limit), variable] = low_limit\n",
    "    dataframe.loc[(dataframe[variable] > up_limit), variable] = up_limit"
   ]
  },
  {
   "cell_type": "code",
   "execution_count": 22,
   "id": "8beb5d9d-1250-436d-8c92-f94768224af6",
   "metadata": {},
   "outputs": [],
   "source": [
    "replace_with_thresholds(df, \"TotalPayment\")"
   ]
  },
  {
   "cell_type": "code",
   "execution_count": 23,
   "id": "95db06d4-ba57-403b-9877-d793069f5810",
   "metadata": {},
   "outputs": [],
   "source": [
    "replace_with_thresholds(df, \"RoomPrice\")"
   ]
  },
  {
   "cell_type": "code",
   "execution_count": 24,
   "id": "e986b63d-4703-4832-982b-48ef8e0054cb",
   "metadata": {},
   "outputs": [
    {
     "data": {
      "text/html": [
       "<div>\n",
       "<style scoped>\n",
       "    .dataframe tbody tr th:only-of-type {\n",
       "        vertical-align: middle;\n",
       "    }\n",
       "\n",
       "    .dataframe tbody tr th {\n",
       "        vertical-align: top;\n",
       "    }\n",
       "\n",
       "    .dataframe thead th {\n",
       "        text-align: right;\n",
       "    }\n",
       "</style>\n",
       "<table border=\"1\" class=\"dataframe\">\n",
       "  <thead>\n",
       "    <tr style=\"text-align: right;\">\n",
       "      <th></th>\n",
       "      <th>count</th>\n",
       "      <th>mean</th>\n",
       "      <th>std</th>\n",
       "      <th>min</th>\n",
       "      <th>1%</th>\n",
       "      <th>5%</th>\n",
       "      <th>25%</th>\n",
       "      <th>50%</th>\n",
       "      <th>75%</th>\n",
       "      <th>95%</th>\n",
       "      <th>99%</th>\n",
       "      <th>max</th>\n",
       "    </tr>\n",
       "  </thead>\n",
       "  <tbody>\n",
       "    <tr>\n",
       "      <th>GuestID</th>\n",
       "      <td>7934.0000</td>\n",
       "      <td>93658.5006</td>\n",
       "      <td>57459.1232</td>\n",
       "      <td>1.0000</td>\n",
       "      <td>2058.4900</td>\n",
       "      <td>13910.0000</td>\n",
       "      <td>46786.0000</td>\n",
       "      <td>69138.5000</td>\n",
       "      <td>133588.0000</td>\n",
       "      <td>197219.5000</td>\n",
       "      <td>205131.0400</td>\n",
       "      <td>209221.0000</td>\n",
       "    </tr>\n",
       "    <tr>\n",
       "      <th>RoomGroupID</th>\n",
       "      <td>7934.0000</td>\n",
       "      <td>1.2342</td>\n",
       "      <td>0.4402</td>\n",
       "      <td>1.0000</td>\n",
       "      <td>1.0000</td>\n",
       "      <td>1.0000</td>\n",
       "      <td>1.0000</td>\n",
       "      <td>1.0000</td>\n",
       "      <td>1.0000</td>\n",
       "      <td>2.0000</td>\n",
       "      <td>2.0000</td>\n",
       "      <td>3.0000</td>\n",
       "    </tr>\n",
       "    <tr>\n",
       "      <th>RoomPrice</th>\n",
       "      <td>7934.0000</td>\n",
       "      <td>202.8905</td>\n",
       "      <td>52.4914</td>\n",
       "      <td>1.4500</td>\n",
       "      <td>56.0757</td>\n",
       "      <td>108.2835</td>\n",
       "      <td>174.0625</td>\n",
       "      <td>206.5150</td>\n",
       "      <td>233.2700</td>\n",
       "      <td>283.2375</td>\n",
       "      <td>321.5369</td>\n",
       "      <td>507.2600</td>\n",
       "    </tr>\n",
       "    <tr>\n",
       "      <th>RoomNo</th>\n",
       "      <td>7934.0000</td>\n",
       "      <td>505.6276</td>\n",
       "      <td>168.7558</td>\n",
       "      <td>202.0000</td>\n",
       "      <td>207.0000</td>\n",
       "      <td>231.0000</td>\n",
       "      <td>356.0000</td>\n",
       "      <td>520.0000</td>\n",
       "      <td>650.0000</td>\n",
       "      <td>753.0000</td>\n",
       "      <td>767.0000</td>\n",
       "      <td>770.0000</td>\n",
       "    </tr>\n",
       "    <tr>\n",
       "      <th>Adults</th>\n",
       "      <td>7934.0000</td>\n",
       "      <td>1.7710</td>\n",
       "      <td>0.7536</td>\n",
       "      <td>0.0000</td>\n",
       "      <td>1.0000</td>\n",
       "      <td>1.0000</td>\n",
       "      <td>1.0000</td>\n",
       "      <td>2.0000</td>\n",
       "      <td>2.0000</td>\n",
       "      <td>3.0000</td>\n",
       "      <td>3.0000</td>\n",
       "      <td>4.0000</td>\n",
       "    </tr>\n",
       "    <tr>\n",
       "      <th>Children</th>\n",
       "      <td>7934.0000</td>\n",
       "      <td>0.0285</td>\n",
       "      <td>0.1917</td>\n",
       "      <td>0.0000</td>\n",
       "      <td>0.0000</td>\n",
       "      <td>0.0000</td>\n",
       "      <td>0.0000</td>\n",
       "      <td>0.0000</td>\n",
       "      <td>0.0000</td>\n",
       "      <td>0.0000</td>\n",
       "      <td>1.0000</td>\n",
       "      <td>2.0000</td>\n",
       "    </tr>\n",
       "    <tr>\n",
       "      <th>TotalPayment</th>\n",
       "      <td>7934.0000</td>\n",
       "      <td>607.9064</td>\n",
       "      <td>583.9317</td>\n",
       "      <td>5.2400</td>\n",
       "      <td>81.1156</td>\n",
       "      <td>142.3050</td>\n",
       "      <td>218.1425</td>\n",
       "      <td>373.6850</td>\n",
       "      <td>835.9550</td>\n",
       "      <td>1682.3305</td>\n",
       "      <td>2964.0386</td>\n",
       "      <td>3992.3687</td>\n",
       "    </tr>\n",
       "  </tbody>\n",
       "</table>\n",
       "</div>"
      ],
      "text/plain": [
       "                 count       mean        std      min        1%         5%        25%        50%         75%         95%         99%         max\n",
       "GuestID      7934.0000 93658.5006 57459.1232   1.0000 2058.4900 13910.0000 46786.0000 69138.5000 133588.0000 197219.5000 205131.0400 209221.0000\n",
       "RoomGroupID  7934.0000     1.2342     0.4402   1.0000    1.0000     1.0000     1.0000     1.0000      1.0000      2.0000      2.0000      3.0000\n",
       "RoomPrice    7934.0000   202.8905    52.4914   1.4500   56.0757   108.2835   174.0625   206.5150    233.2700    283.2375    321.5369    507.2600\n",
       "RoomNo       7934.0000   505.6276   168.7558 202.0000  207.0000   231.0000   356.0000   520.0000    650.0000    753.0000    767.0000    770.0000\n",
       "Adults       7934.0000     1.7710     0.7536   0.0000    1.0000     1.0000     1.0000     2.0000      2.0000      3.0000      3.0000      4.0000\n",
       "Children     7934.0000     0.0285     0.1917   0.0000    0.0000     0.0000     0.0000     0.0000      0.0000      0.0000      1.0000      2.0000\n",
       "TotalPayment 7934.0000   607.9064   583.9317   5.2400   81.1156   142.3050   218.1425   373.6850    835.9550   1682.3305   2964.0386   3992.3687"
      ]
     },
     "execution_count": 24,
     "metadata": {},
     "output_type": "execute_result"
    }
   ],
   "source": [
    "df.describe([0.01, 0.05, 0.25, 0.50, 0.75, 0.95, 0.99]).T"
   ]
  },
  {
   "cell_type": "markdown",
   "id": "0c44edc1-39c0-4fe9-a612-be71bc438058",
   "metadata": {},
   "source": [
    "<br>"
   ]
  },
  {
   "cell_type": "markdown",
   "id": "996bc25e-f3c8-45be-88bd-5678aeab0097",
   "metadata": {},
   "source": [
    "***\n",
    "***\n",
    "***"
   ]
  },
  {
   "cell_type": "markdown",
   "id": "53b882d1-2908-48e1-a354-358db22ffb67",
   "metadata": {},
   "source": [
    "<br>"
   ]
  },
  {
   "cell_type": "markdown",
   "id": "e5436ee1-84c2-42b7-9360-0315951e5e9c",
   "metadata": {},
   "source": [
    "# Prepare for CLV Modeling"
   ]
  },
  {
   "cell_type": "code",
   "execution_count": 25,
   "id": "6ecb3b04-ce18-48d4-88a8-1a1bb7893bb1",
   "metadata": {},
   "outputs": [
    {
     "data": {
      "text/plain": [
       "'2020-09-26'"
      ]
     },
     "execution_count": 25,
     "metadata": {},
     "output_type": "execute_result"
    }
   ],
   "source": [
    "df[\"DepartureDate\"].max()"
   ]
  },
  {
   "cell_type": "code",
   "execution_count": 26,
   "id": "e4d5f99e-b07e-4aa4-9739-f8c87d19a098",
   "metadata": {},
   "outputs": [],
   "source": [
    "analysis_date = dt.datetime(2020, 9, 28)"
   ]
  },
  {
   "cell_type": "code",
   "execution_count": 27,
   "id": "217ceefe-2fc6-4a65-8aba-8cddd282cf32",
   "metadata": {},
   "outputs": [],
   "source": [
    "for col in df.columns[df.columns.str.contains(\"Date\")]:\n",
    "    df[col] = pd.to_datetime(df[col])"
   ]
  },
  {
   "cell_type": "markdown",
   "id": "b3c746c5-821b-4cbf-941c-23eb9c688141",
   "metadata": {},
   "source": [
    "- recency: Time since last booking. Weekly.\n",
    "- T: Customer's age. Weekly. (how long before the analysis date the first booking was made)\n",
    "- frequency: total number of repeat booking (frequency>1)\n",
    "- monetary: average earnings per booking"
   ]
  },
  {
   "cell_type": "code",
   "execution_count": 30,
   "id": "a1da74cb-4347-4eee-9140-38a73950c6e8",
   "metadata": {},
   "outputs": [
    {
     "data": {
      "text/html": [
       "<div>\n",
       "<style scoped>\n",
       "    .dataframe tbody tr th:only-of-type {\n",
       "        vertical-align: middle;\n",
       "    }\n",
       "\n",
       "    .dataframe tbody tr th {\n",
       "        vertical-align: top;\n",
       "    }\n",
       "\n",
       "    .dataframe thead tr th {\n",
       "        text-align: left;\n",
       "    }\n",
       "\n",
       "    .dataframe thead tr:last-of-type th {\n",
       "        text-align: right;\n",
       "    }\n",
       "</style>\n",
       "<table border=\"1\" class=\"dataframe\">\n",
       "  <thead>\n",
       "    <tr>\n",
       "      <th></th>\n",
       "      <th colspan=\"3\" halign=\"left\">ArrivalDate</th>\n",
       "      <th>TotalPayment</th>\n",
       "      <th>DepartureDate</th>\n",
       "    </tr>\n",
       "    <tr>\n",
       "      <th></th>\n",
       "      <th>nunique</th>\n",
       "      <th>min</th>\n",
       "      <th>&lt;lambda_0&gt;</th>\n",
       "      <th>sum</th>\n",
       "      <th>max</th>\n",
       "    </tr>\n",
       "    <tr>\n",
       "      <th>GuestID</th>\n",
       "      <th></th>\n",
       "      <th></th>\n",
       "      <th></th>\n",
       "      <th></th>\n",
       "      <th></th>\n",
       "    </tr>\n",
       "  </thead>\n",
       "  <tbody>\n",
       "    <tr>\n",
       "      <th>1</th>\n",
       "      <td>1</td>\n",
       "      <td>2019-09-24</td>\n",
       "      <td>370</td>\n",
       "      <td>1337.8900</td>\n",
       "      <td>2019-09-29</td>\n",
       "    </tr>\n",
       "    <tr>\n",
       "      <th>37</th>\n",
       "      <td>2</td>\n",
       "      <td>2018-11-09</td>\n",
       "      <td>689</td>\n",
       "      <td>278.4400</td>\n",
       "      <td>2019-06-02</td>\n",
       "    </tr>\n",
       "    <tr>\n",
       "      <th>48</th>\n",
       "      <td>3</td>\n",
       "      <td>2018-02-16</td>\n",
       "      <td>955</td>\n",
       "      <td>766.6200</td>\n",
       "      <td>2019-05-04</td>\n",
       "    </tr>\n",
       "    <tr>\n",
       "      <th>156</th>\n",
       "      <td>2</td>\n",
       "      <td>2018-11-29</td>\n",
       "      <td>669</td>\n",
       "      <td>1398.6000</td>\n",
       "      <td>2019-08-10</td>\n",
       "    </tr>\n",
       "    <tr>\n",
       "      <th>191</th>\n",
       "      <td>2</td>\n",
       "      <td>2019-04-28</td>\n",
       "      <td>519</td>\n",
       "      <td>937.5500</td>\n",
       "      <td>2019-09-01</td>\n",
       "    </tr>\n",
       "  </tbody>\n",
       "</table>\n",
       "</div>"
      ],
      "text/plain": [
       "        ArrivalDate                       TotalPayment DepartureDate\n",
       "            nunique        min <lambda_0>          sum           max\n",
       "GuestID                                                             \n",
       "1                 1 2019-09-24        370    1337.8900    2019-09-29\n",
       "37                2 2018-11-09        689     278.4400    2019-06-02\n",
       "48                3 2018-02-16        955     766.6200    2019-05-04\n",
       "156               2 2018-11-29        669    1398.6000    2019-08-10\n",
       "191               2 2019-04-28        519     937.5500    2019-09-01"
      ]
     },
     "execution_count": 30,
     "metadata": {},
     "output_type": "execute_result"
    }
   ],
   "source": [
    "cltv_df = df.groupby('GuestID').agg({'ArrivalDate': ['nunique', 'min', lambda x: (analysis_date - x.min()).days],\n",
    "                                     'TotalPayment': \"sum\",\n",
    "                                     'DepartureDate': 'max'})\n",
    "cltv_df.head()"
   ]
  },
  {
   "cell_type": "code",
   "execution_count": 31,
   "id": "70ae5d85-2551-42ae-a1cb-badbb97b1b67",
   "metadata": {},
   "outputs": [],
   "source": [
    "cltv_df.columns = cltv_df.columns.droplevel(0)"
   ]
  },
  {
   "cell_type": "code",
   "execution_count": 33,
   "id": "0d5d2dfa-4147-49e7-ad6a-9fc25ff7d2bd",
   "metadata": {},
   "outputs": [
    {
     "data": {
      "text/html": [
       "<div>\n",
       "<style scoped>\n",
       "    .dataframe tbody tr th:only-of-type {\n",
       "        vertical-align: middle;\n",
       "    }\n",
       "\n",
       "    .dataframe tbody tr th {\n",
       "        vertical-align: top;\n",
       "    }\n",
       "\n",
       "    .dataframe thead th {\n",
       "        text-align: right;\n",
       "    }\n",
       "</style>\n",
       "<table border=\"1\" class=\"dataframe\">\n",
       "  <thead>\n",
       "    <tr style=\"text-align: right;\">\n",
       "      <th></th>\n",
       "      <th>frequency</th>\n",
       "      <th>First_Arrival_Date</th>\n",
       "      <th>T</th>\n",
       "      <th>monetary</th>\n",
       "      <th>Last_Departure_Date</th>\n",
       "    </tr>\n",
       "    <tr>\n",
       "      <th>GuestID</th>\n",
       "      <th></th>\n",
       "      <th></th>\n",
       "      <th></th>\n",
       "      <th></th>\n",
       "      <th></th>\n",
       "    </tr>\n",
       "  </thead>\n",
       "  <tbody>\n",
       "    <tr>\n",
       "      <th>1</th>\n",
       "      <td>1</td>\n",
       "      <td>2019-09-24</td>\n",
       "      <td>370</td>\n",
       "      <td>1337.8900</td>\n",
       "      <td>2019-09-29</td>\n",
       "    </tr>\n",
       "    <tr>\n",
       "      <th>37</th>\n",
       "      <td>2</td>\n",
       "      <td>2018-11-09</td>\n",
       "      <td>689</td>\n",
       "      <td>278.4400</td>\n",
       "      <td>2019-06-02</td>\n",
       "    </tr>\n",
       "    <tr>\n",
       "      <th>48</th>\n",
       "      <td>3</td>\n",
       "      <td>2018-02-16</td>\n",
       "      <td>955</td>\n",
       "      <td>766.6200</td>\n",
       "      <td>2019-05-04</td>\n",
       "    </tr>\n",
       "    <tr>\n",
       "      <th>156</th>\n",
       "      <td>2</td>\n",
       "      <td>2018-11-29</td>\n",
       "      <td>669</td>\n",
       "      <td>1398.6000</td>\n",
       "      <td>2019-08-10</td>\n",
       "    </tr>\n",
       "    <tr>\n",
       "      <th>191</th>\n",
       "      <td>2</td>\n",
       "      <td>2019-04-28</td>\n",
       "      <td>519</td>\n",
       "      <td>937.5500</td>\n",
       "      <td>2019-09-01</td>\n",
       "    </tr>\n",
       "  </tbody>\n",
       "</table>\n",
       "</div>"
      ],
      "text/plain": [
       "         frequency First_Arrival_Date    T  monetary Last_Departure_Date\n",
       "GuestID                                                                 \n",
       "1                1         2019-09-24  370 1337.8900          2019-09-29\n",
       "37               2         2018-11-09  689  278.4400          2019-06-02\n",
       "48               3         2018-02-16  955  766.6200          2019-05-04\n",
       "156              2         2018-11-29  669 1398.6000          2019-08-10\n",
       "191              2         2019-04-28  519  937.5500          2019-09-01"
      ]
     },
     "execution_count": 33,
     "metadata": {},
     "output_type": "execute_result"
    }
   ],
   "source": [
    "cltv_df.columns = ['frequency', 'First_Arrival_Date', 'T', 'monetary', 'Last_Departure_Date']\n",
    "cltv_df.head()"
   ]
  },
  {
   "cell_type": "code",
   "execution_count": 34,
   "id": "a9b8b31c-64c9-4498-a4e4-9d96f72d0359",
   "metadata": {},
   "outputs": [],
   "source": [
    "cltv_df[\"recency\"] = (cltv_df[\"Last_Departure_Date\"] - cltv_df[\"First_Arrival_Date\"]).dt.days"
   ]
  },
  {
   "cell_type": "code",
   "execution_count": 35,
   "id": "ef0822b0-a6e9-44ea-8f7c-06fa8588a898",
   "metadata": {},
   "outputs": [],
   "source": [
    "cltv_df = cltv_df[cltv_df[\"frequency\"] > 1]"
   ]
  },
  {
   "cell_type": "code",
   "execution_count": 36,
   "id": "50383454-96e1-4b9f-a9c6-c254456d2000",
   "metadata": {},
   "outputs": [],
   "source": [
    "cltv_df[\"T_weekly\"] = (cltv_df[\"T\"])/7"
   ]
  },
  {
   "cell_type": "code",
   "execution_count": 37,
   "id": "061a1f18-21c8-404b-aff6-ba36a2a0425e",
   "metadata": {},
   "outputs": [],
   "source": [
    "cltv_df[\"recency_weekly\"] = (cltv_df[\"T\"])/7"
   ]
  },
  {
   "cell_type": "code",
   "execution_count": 38,
   "id": "2ecaa962-8d7b-4006-9377-a71b8fbc4950",
   "metadata": {},
   "outputs": [],
   "source": [
    "cltv_df[\"monetary\"] = cltv_df[\"monetary\"]/cltv_df[\"frequency\"]"
   ]
  },
  {
   "cell_type": "code",
   "execution_count": 39,
   "id": "70a7a170-0cee-4647-9eef-228701df85f9",
   "metadata": {},
   "outputs": [
    {
     "data": {
      "text/html": [
       "<div>\n",
       "<style scoped>\n",
       "    .dataframe tbody tr th:only-of-type {\n",
       "        vertical-align: middle;\n",
       "    }\n",
       "\n",
       "    .dataframe tbody tr th {\n",
       "        vertical-align: top;\n",
       "    }\n",
       "\n",
       "    .dataframe thead th {\n",
       "        text-align: right;\n",
       "    }\n",
       "</style>\n",
       "<table border=\"1\" class=\"dataframe\">\n",
       "  <thead>\n",
       "    <tr style=\"text-align: right;\">\n",
       "      <th></th>\n",
       "      <th>frequency</th>\n",
       "      <th>First_Arrival_Date</th>\n",
       "      <th>T</th>\n",
       "      <th>monetary</th>\n",
       "      <th>Last_Departure_Date</th>\n",
       "      <th>recency</th>\n",
       "      <th>T_weekly</th>\n",
       "      <th>recency_weekly</th>\n",
       "    </tr>\n",
       "    <tr>\n",
       "      <th>GuestID</th>\n",
       "      <th></th>\n",
       "      <th></th>\n",
       "      <th></th>\n",
       "      <th></th>\n",
       "      <th></th>\n",
       "      <th></th>\n",
       "      <th></th>\n",
       "      <th></th>\n",
       "    </tr>\n",
       "  </thead>\n",
       "  <tbody>\n",
       "    <tr>\n",
       "      <th>37</th>\n",
       "      <td>2</td>\n",
       "      <td>2018-11-09</td>\n",
       "      <td>689</td>\n",
       "      <td>139.2200</td>\n",
       "      <td>2019-06-02</td>\n",
       "      <td>205</td>\n",
       "      <td>98.4286</td>\n",
       "      <td>98.4286</td>\n",
       "    </tr>\n",
       "    <tr>\n",
       "      <th>48</th>\n",
       "      <td>3</td>\n",
       "      <td>2018-02-16</td>\n",
       "      <td>955</td>\n",
       "      <td>255.5400</td>\n",
       "      <td>2019-05-04</td>\n",
       "      <td>442</td>\n",
       "      <td>136.4286</td>\n",
       "      <td>136.4286</td>\n",
       "    </tr>\n",
       "    <tr>\n",
       "      <th>156</th>\n",
       "      <td>2</td>\n",
       "      <td>2018-11-29</td>\n",
       "      <td>669</td>\n",
       "      <td>699.3000</td>\n",
       "      <td>2019-08-10</td>\n",
       "      <td>254</td>\n",
       "      <td>95.5714</td>\n",
       "      <td>95.5714</td>\n",
       "    </tr>\n",
       "    <tr>\n",
       "      <th>191</th>\n",
       "      <td>2</td>\n",
       "      <td>2019-04-28</td>\n",
       "      <td>519</td>\n",
       "      <td>468.7750</td>\n",
       "      <td>2019-09-01</td>\n",
       "      <td>126</td>\n",
       "      <td>74.1429</td>\n",
       "      <td>74.1429</td>\n",
       "    </tr>\n",
       "    <tr>\n",
       "      <th>482</th>\n",
       "      <td>6</td>\n",
       "      <td>2019-04-11</td>\n",
       "      <td>536</td>\n",
       "      <td>699.1500</td>\n",
       "      <td>2019-08-28</td>\n",
       "      <td>139</td>\n",
       "      <td>76.5714</td>\n",
       "      <td>76.5714</td>\n",
       "    </tr>\n",
       "  </tbody>\n",
       "</table>\n",
       "</div>"
      ],
      "text/plain": [
       "         frequency First_Arrival_Date    T  monetary Last_Departure_Date  recency  T_weekly  recency_weekly\n",
       "GuestID                                                                                                    \n",
       "37               2         2018-11-09  689  139.2200          2019-06-02      205   98.4286         98.4286\n",
       "48               3         2018-02-16  955  255.5400          2019-05-04      442  136.4286        136.4286\n",
       "156              2         2018-11-29  669  699.3000          2019-08-10      254   95.5714         95.5714\n",
       "191              2         2019-04-28  519  468.7750          2019-09-01      126   74.1429         74.1429\n",
       "482              6         2019-04-11  536  699.1500          2019-08-28      139   76.5714         76.5714"
      ]
     },
     "execution_count": 39,
     "metadata": {},
     "output_type": "execute_result"
    }
   ],
   "source": [
    "cltv_df.head()"
   ]
  },
  {
   "cell_type": "code",
   "execution_count": 40,
   "id": "54870bfc-49fe-45fd-923e-d642888ee541",
   "metadata": {},
   "outputs": [],
   "source": [
    "cltv_df = cltv_df[[\"recency_weekly\", \"T_weekly\", \"frequency\", \"monetary\"]]"
   ]
  },
  {
   "cell_type": "code",
   "execution_count": 41,
   "id": "0b66ef52-7c09-417a-aa7c-6862e5fe4149",
   "metadata": {},
   "outputs": [
    {
     "data": {
      "text/html": [
       "<div>\n",
       "<style scoped>\n",
       "    .dataframe tbody tr th:only-of-type {\n",
       "        vertical-align: middle;\n",
       "    }\n",
       "\n",
       "    .dataframe tbody tr th {\n",
       "        vertical-align: top;\n",
       "    }\n",
       "\n",
       "    .dataframe thead th {\n",
       "        text-align: right;\n",
       "    }\n",
       "</style>\n",
       "<table border=\"1\" class=\"dataframe\">\n",
       "  <thead>\n",
       "    <tr style=\"text-align: right;\">\n",
       "      <th></th>\n",
       "      <th>recency_weekly</th>\n",
       "      <th>T_weekly</th>\n",
       "      <th>frequency</th>\n",
       "      <th>monetary</th>\n",
       "    </tr>\n",
       "    <tr>\n",
       "      <th>GuestID</th>\n",
       "      <th></th>\n",
       "      <th></th>\n",
       "      <th></th>\n",
       "      <th></th>\n",
       "    </tr>\n",
       "  </thead>\n",
       "  <tbody>\n",
       "    <tr>\n",
       "      <th>37</th>\n",
       "      <td>98.4286</td>\n",
       "      <td>98.4286</td>\n",
       "      <td>2</td>\n",
       "      <td>139.2200</td>\n",
       "    </tr>\n",
       "    <tr>\n",
       "      <th>48</th>\n",
       "      <td>136.4286</td>\n",
       "      <td>136.4286</td>\n",
       "      <td>3</td>\n",
       "      <td>255.5400</td>\n",
       "    </tr>\n",
       "    <tr>\n",
       "      <th>156</th>\n",
       "      <td>95.5714</td>\n",
       "      <td>95.5714</td>\n",
       "      <td>2</td>\n",
       "      <td>699.3000</td>\n",
       "    </tr>\n",
       "    <tr>\n",
       "      <th>191</th>\n",
       "      <td>74.1429</td>\n",
       "      <td>74.1429</td>\n",
       "      <td>2</td>\n",
       "      <td>468.7750</td>\n",
       "    </tr>\n",
       "    <tr>\n",
       "      <th>482</th>\n",
       "      <td>76.5714</td>\n",
       "      <td>76.5714</td>\n",
       "      <td>6</td>\n",
       "      <td>699.1500</td>\n",
       "    </tr>\n",
       "  </tbody>\n",
       "</table>\n",
       "</div>"
      ],
      "text/plain": [
       "         recency_weekly  T_weekly  frequency  monetary\n",
       "GuestID                                               \n",
       "37              98.4286   98.4286          2  139.2200\n",
       "48             136.4286  136.4286          3  255.5400\n",
       "156             95.5714   95.5714          2  699.3000\n",
       "191             74.1429   74.1429          2  468.7750\n",
       "482             76.5714   76.5714          6  699.1500"
      ]
     },
     "execution_count": 41,
     "metadata": {},
     "output_type": "execute_result"
    }
   ],
   "source": [
    "cltv_df.head()"
   ]
  },
  {
   "cell_type": "code",
   "execution_count": 42,
   "id": "5545782d-f98b-43a8-84be-048dd0165d64",
   "metadata": {},
   "outputs": [],
   "source": [
    "cltv_df.reset_index(inplace=True)"
   ]
  },
  {
   "cell_type": "code",
   "execution_count": 43,
   "id": "36af0b2e-45d9-437f-9a3a-a0a718c6ad42",
   "metadata": {},
   "outputs": [
    {
     "data": {
      "text/html": [
       "<div>\n",
       "<style scoped>\n",
       "    .dataframe tbody tr th:only-of-type {\n",
       "        vertical-align: middle;\n",
       "    }\n",
       "\n",
       "    .dataframe tbody tr th {\n",
       "        vertical-align: top;\n",
       "    }\n",
       "\n",
       "    .dataframe thead th {\n",
       "        text-align: right;\n",
       "    }\n",
       "</style>\n",
       "<table border=\"1\" class=\"dataframe\">\n",
       "  <thead>\n",
       "    <tr style=\"text-align: right;\">\n",
       "      <th></th>\n",
       "      <th>GuestID</th>\n",
       "      <th>recency_weekly</th>\n",
       "      <th>T_weekly</th>\n",
       "      <th>frequency</th>\n",
       "      <th>monetary</th>\n",
       "    </tr>\n",
       "  </thead>\n",
       "  <tbody>\n",
       "    <tr>\n",
       "      <th>0</th>\n",
       "      <td>37</td>\n",
       "      <td>98.4286</td>\n",
       "      <td>98.4286</td>\n",
       "      <td>2</td>\n",
       "      <td>139.2200</td>\n",
       "    </tr>\n",
       "    <tr>\n",
       "      <th>1</th>\n",
       "      <td>48</td>\n",
       "      <td>136.4286</td>\n",
       "      <td>136.4286</td>\n",
       "      <td>3</td>\n",
       "      <td>255.5400</td>\n",
       "    </tr>\n",
       "    <tr>\n",
       "      <th>2</th>\n",
       "      <td>156</td>\n",
       "      <td>95.5714</td>\n",
       "      <td>95.5714</td>\n",
       "      <td>2</td>\n",
       "      <td>699.3000</td>\n",
       "    </tr>\n",
       "    <tr>\n",
       "      <th>3</th>\n",
       "      <td>191</td>\n",
       "      <td>74.1429</td>\n",
       "      <td>74.1429</td>\n",
       "      <td>2</td>\n",
       "      <td>468.7750</td>\n",
       "    </tr>\n",
       "    <tr>\n",
       "      <th>4</th>\n",
       "      <td>482</td>\n",
       "      <td>76.5714</td>\n",
       "      <td>76.5714</td>\n",
       "      <td>6</td>\n",
       "      <td>699.1500</td>\n",
       "    </tr>\n",
       "  </tbody>\n",
       "</table>\n",
       "</div>"
      ],
      "text/plain": [
       "   GuestID  recency_weekly  T_weekly  frequency  monetary\n",
       "0       37         98.4286   98.4286          2  139.2200\n",
       "1       48        136.4286  136.4286          3  255.5400\n",
       "2      156         95.5714   95.5714          2  699.3000\n",
       "3      191         74.1429   74.1429          2  468.7750\n",
       "4      482         76.5714   76.5714          6  699.1500"
      ]
     },
     "execution_count": 43,
     "metadata": {},
     "output_type": "execute_result"
    }
   ],
   "source": [
    "cltv_df.head()"
   ]
  },
  {
   "cell_type": "markdown",
   "id": "dee61d0c-2a30-4627-b706-45db7caf71aa",
   "metadata": {},
   "source": [
    "# BG NBD Model"
   ]
  },
  {
   "cell_type": "markdown",
   "id": "d103175e-e25e-44e2-bf80-1063d06187a8",
   "metadata": {},
   "source": [
    "Predict expected number of transactions up to time"
   ]
  },
  {
   "cell_type": "code",
   "execution_count": 44,
   "id": "8f8d5eda-eb0c-4449-b7b4-68d3ff332149",
   "metadata": {},
   "outputs": [],
   "source": [
    "bgf = BetaGeoFitter(penalizer_coef=0.001)"
   ]
  },
  {
   "cell_type": "code",
   "execution_count": 45,
   "id": "7e78ba29-6739-4ea0-8868-c1619ada18b7",
   "metadata": {},
   "outputs": [
    {
     "data": {
      "text/plain": [
       "<lifetimes.BetaGeoFitter: fitted with 1350 subjects, a: 0.00, alpha: 284.37, b: 0.00, r: 6.73>"
      ]
     },
     "execution_count": 45,
     "metadata": {},
     "output_type": "execute_result"
    }
   ],
   "source": [
    "bgf.fit(cltv_df['frequency'],\n",
    "        cltv_df['recency_weekly'],\n",
    "        cltv_df['T_weekly'])"
   ]
  },
  {
   "cell_type": "markdown",
   "id": "7ff3fab8-0e7f-4569-bc81-e2ac22de1f17",
   "metadata": {},
   "source": [
    "Who are the 10 customers we expect to make the most purchases over the next 3 months?"
   ]
  },
  {
   "cell_type": "code",
   "execution_count": 46,
   "id": "78be4bf9-c46c-41d9-b9bf-9a53ad2ca5de",
   "metadata": {},
   "outputs": [],
   "source": [
    "cltv_df[\"expected_booking_3_months\"] = bgf.conditional_expected_number_of_purchases_up_to_time(4*3,\n",
    "                                                        cltv_df['frequency'],\n",
    "                                                        cltv_df['recency_weekly'],\n",
    "                                                        cltv_df['T_weekly'])"
   ]
  },
  {
   "cell_type": "code",
   "execution_count": 47,
   "id": "0b075df0-c6af-4901-84c5-6492f9815b25",
   "metadata": {},
   "outputs": [
    {
     "data": {
      "text/html": [
       "<div>\n",
       "<style scoped>\n",
       "    .dataframe tbody tr th:only-of-type {\n",
       "        vertical-align: middle;\n",
       "    }\n",
       "\n",
       "    .dataframe tbody tr th {\n",
       "        vertical-align: top;\n",
       "    }\n",
       "\n",
       "    .dataframe thead th {\n",
       "        text-align: right;\n",
       "    }\n",
       "</style>\n",
       "<table border=\"1\" class=\"dataframe\">\n",
       "  <thead>\n",
       "    <tr style=\"text-align: right;\">\n",
       "      <th></th>\n",
       "      <th>GuestID</th>\n",
       "      <th>recency_weekly</th>\n",
       "      <th>T_weekly</th>\n",
       "      <th>frequency</th>\n",
       "      <th>monetary</th>\n",
       "      <th>expected_booking_3_months</th>\n",
       "    </tr>\n",
       "  </thead>\n",
       "  <tbody>\n",
       "    <tr>\n",
       "      <th>358</th>\n",
       "      <td>44343</td>\n",
       "      <td>122.8571</td>\n",
       "      <td>122.8571</td>\n",
       "      <td>9</td>\n",
       "      <td>276.7767</td>\n",
       "      <td>0.4634</td>\n",
       "    </tr>\n",
       "    <tr>\n",
       "      <th>53</th>\n",
       "      <td>5620</td>\n",
       "      <td>78.8571</td>\n",
       "      <td>78.8571</td>\n",
       "      <td>7</td>\n",
       "      <td>916.6371</td>\n",
       "      <td>0.4535</td>\n",
       "    </tr>\n",
       "    <tr>\n",
       "      <th>4</th>\n",
       "      <td>482</td>\n",
       "      <td>76.5714</td>\n",
       "      <td>76.5714</td>\n",
       "      <td>6</td>\n",
       "      <td>699.1500</td>\n",
       "      <td>0.4231</td>\n",
       "    </tr>\n",
       "    <tr>\n",
       "      <th>431</th>\n",
       "      <td>48131</td>\n",
       "      <td>123.5714</td>\n",
       "      <td>123.5714</td>\n",
       "      <td>7</td>\n",
       "      <td>641.5429</td>\n",
       "      <td>0.4038</td>\n",
       "    </tr>\n",
       "    <tr>\n",
       "      <th>990</th>\n",
       "      <td>128350</td>\n",
       "      <td>66.8571</td>\n",
       "      <td>66.8571</td>\n",
       "      <td>5</td>\n",
       "      <td>341.7840</td>\n",
       "      <td>0.4006</td>\n",
       "    </tr>\n",
       "    <tr>\n",
       "      <th>174</th>\n",
       "      <td>30989</td>\n",
       "      <td>100.8571</td>\n",
       "      <td>100.8571</td>\n",
       "      <td>6</td>\n",
       "      <td>451.3000</td>\n",
       "      <td>0.3964</td>\n",
       "    </tr>\n",
       "    <tr>\n",
       "      <th>665</th>\n",
       "      <td>63552</td>\n",
       "      <td>96.1429</td>\n",
       "      <td>96.1429</td>\n",
       "      <td>5</td>\n",
       "      <td>443.6260</td>\n",
       "      <td>0.3698</td>\n",
       "    </tr>\n",
       "    <tr>\n",
       "      <th>89</th>\n",
       "      <td>11022</td>\n",
       "      <td>97.8571</td>\n",
       "      <td>97.8571</td>\n",
       "      <td>5</td>\n",
       "      <td>810.6880</td>\n",
       "      <td>0.3681</td>\n",
       "    </tr>\n",
       "    <tr>\n",
       "      <th>739</th>\n",
       "      <td>69493</td>\n",
       "      <td>65.8571</td>\n",
       "      <td>65.8571</td>\n",
       "      <td>4</td>\n",
       "      <td>421.4025</td>\n",
       "      <td>0.3675</td>\n",
       "    </tr>\n",
       "    <tr>\n",
       "      <th>613</th>\n",
       "      <td>59420</td>\n",
       "      <td>101.5714</td>\n",
       "      <td>101.5714</td>\n",
       "      <td>5</td>\n",
       "      <td>445.8900</td>\n",
       "      <td>0.3646</td>\n",
       "    </tr>\n",
       "  </tbody>\n",
       "</table>\n",
       "</div>"
      ],
      "text/plain": [
       "     GuestID  recency_weekly  T_weekly  frequency  monetary  expected_booking_3_months\n",
       "358    44343        122.8571  122.8571          9  276.7767                     0.4634\n",
       "53      5620         78.8571   78.8571          7  916.6371                     0.4535\n",
       "4        482         76.5714   76.5714          6  699.1500                     0.4231\n",
       "431    48131        123.5714  123.5714          7  641.5429                     0.4038\n",
       "990   128350         66.8571   66.8571          5  341.7840                     0.4006\n",
       "174    30989        100.8571  100.8571          6  451.3000                     0.3964\n",
       "665    63552         96.1429   96.1429          5  443.6260                     0.3698\n",
       "89     11022         97.8571   97.8571          5  810.6880                     0.3681\n",
       "739    69493         65.8571   65.8571          4  421.4025                     0.3675\n",
       "613    59420        101.5714  101.5714          5  445.8900                     0.3646"
      ]
     },
     "execution_count": 47,
     "metadata": {},
     "output_type": "execute_result"
    }
   ],
   "source": [
    "cltv_df.sort_values(\"expected_booking_3_months\", ascending=False).head(10)"
   ]
  },
  {
   "cell_type": "markdown",
   "id": "77740504-0bb6-42f1-aeff-0e9e1e1351c8",
   "metadata": {},
   "source": [
    "# Gamma Gamma Model"
   ]
  },
  {
   "cell_type": "code",
   "execution_count": 48,
   "id": "ed7b57f9-8a35-4071-97b4-14458b33e6d1",
   "metadata": {},
   "outputs": [],
   "source": [
    "ggf = GammaGammaFitter(penalizer_coef=0.01)"
   ]
  },
  {
   "cell_type": "code",
   "execution_count": 50,
   "id": "09520f4d-6cd8-41b1-98d1-c641ad14b8e4",
   "metadata": {},
   "outputs": [
    {
     "data": {
      "text/plain": [
       "<lifetimes.GammaGammaFitter: fitted with 1350 subjects, p: 3.66, q: 0.29, v: 3.56>"
      ]
     },
     "execution_count": 50,
     "metadata": {},
     "output_type": "execute_result"
    }
   ],
   "source": [
    "ggf.fit(cltv_df['frequency'], cltv_df['monetary'])"
   ]
  },
  {
   "cell_type": "markdown",
   "id": "0105cffc-d39e-430d-a1d5-ff509eeb6b32",
   "metadata": {},
   "source": [
    "Who are the 10 customers we expect to make the most profit from?"
   ]
  },
  {
   "cell_type": "code",
   "execution_count": 51,
   "id": "eb80b41a-4aa4-42f0-a2d5-b5c116f29c01",
   "metadata": {},
   "outputs": [],
   "source": [
    "cltv_df[\"expected_average_profit\"] = ggf.conditional_expected_average_profit(cltv_df['frequency'],\n",
    "                                                                             cltv_df['monetary'])"
   ]
  },
  {
   "cell_type": "code",
   "execution_count": 52,
   "id": "8178eecd-ba2f-49f6-b454-dc03124891c8",
   "metadata": {},
   "outputs": [
    {
     "data": {
      "text/html": [
       "<div>\n",
       "<style scoped>\n",
       "    .dataframe tbody tr th:only-of-type {\n",
       "        vertical-align: middle;\n",
       "    }\n",
       "\n",
       "    .dataframe tbody tr th {\n",
       "        vertical-align: top;\n",
       "    }\n",
       "\n",
       "    .dataframe thead th {\n",
       "        text-align: right;\n",
       "    }\n",
       "</style>\n",
       "<table border=\"1\" class=\"dataframe\">\n",
       "  <thead>\n",
       "    <tr style=\"text-align: right;\">\n",
       "      <th></th>\n",
       "      <th>GuestID</th>\n",
       "      <th>recency_weekly</th>\n",
       "      <th>T_weekly</th>\n",
       "      <th>frequency</th>\n",
       "      <th>monetary</th>\n",
       "      <th>expected_booking_3_months</th>\n",
       "      <th>expected_average_profit</th>\n",
       "    </tr>\n",
       "  </thead>\n",
       "  <tbody>\n",
       "    <tr>\n",
       "      <th>529</th>\n",
       "      <td>55217</td>\n",
       "      <td>88.8571</td>\n",
       "      <td>88.8571</td>\n",
       "      <td>2</td>\n",
       "      <td>3992.3687</td>\n",
       "      <td>0.2806</td>\n",
       "      <td>4424.7376</td>\n",
       "    </tr>\n",
       "    <tr>\n",
       "      <th>187</th>\n",
       "      <td>34402</td>\n",
       "      <td>135.0000</td>\n",
       "      <td>135.0000</td>\n",
       "      <td>4</td>\n",
       "      <td>3905.8866</td>\n",
       "      <td>0.3069</td>\n",
       "      <td>4106.5909</td>\n",
       "    </tr>\n",
       "    <tr>\n",
       "      <th>427</th>\n",
       "      <td>47538</td>\n",
       "      <td>128.8571</td>\n",
       "      <td>128.8571</td>\n",
       "      <td>2</td>\n",
       "      <td>3691.5694</td>\n",
       "      <td>0.2534</td>\n",
       "      <td>4091.5105</td>\n",
       "    </tr>\n",
       "    <tr>\n",
       "      <th>250</th>\n",
       "      <td>39352</td>\n",
       "      <td>138.5714</td>\n",
       "      <td>138.5714</td>\n",
       "      <td>2</td>\n",
       "      <td>3627.2344</td>\n",
       "      <td>0.2476</td>\n",
       "      <td>4020.2399</td>\n",
       "    </tr>\n",
       "    <tr>\n",
       "      <th>337</th>\n",
       "      <td>43233</td>\n",
       "      <td>133.5714</td>\n",
       "      <td>133.5714</td>\n",
       "      <td>2</td>\n",
       "      <td>3561.3600</td>\n",
       "      <td>0.2505</td>\n",
       "      <td>3947.2639</td>\n",
       "    </tr>\n",
       "    <tr>\n",
       "      <th>...</th>\n",
       "      <td>...</td>\n",
       "      <td>...</td>\n",
       "      <td>...</td>\n",
       "      <td>...</td>\n",
       "      <td>...</td>\n",
       "      <td>...</td>\n",
       "      <td>...</td>\n",
       "    </tr>\n",
       "    <tr>\n",
       "      <th>1184</th>\n",
       "      <td>179084</td>\n",
       "      <td>103.2857</td>\n",
       "      <td>103.2857</td>\n",
       "      <td>2</td>\n",
       "      <td>93.0450</td>\n",
       "      <td>0.2701</td>\n",
       "      <td>105.0472</td>\n",
       "    </tr>\n",
       "    <tr>\n",
       "      <th>962</th>\n",
       "      <td>126504</td>\n",
       "      <td>94.2857</td>\n",
       "      <td>94.2857</td>\n",
       "      <td>2</td>\n",
       "      <td>92.9500</td>\n",
       "      <td>0.2765</td>\n",
       "      <td>104.9419</td>\n",
       "    </tr>\n",
       "    <tr>\n",
       "      <th>495</th>\n",
       "      <td>53041</td>\n",
       "      <td>116.4286</td>\n",
       "      <td>116.4286</td>\n",
       "      <td>2</td>\n",
       "      <td>87.8300</td>\n",
       "      <td>0.2613</td>\n",
       "      <td>99.2700</td>\n",
       "    </tr>\n",
       "    <tr>\n",
       "      <th>972</th>\n",
       "      <td>126947</td>\n",
       "      <td>90.0000</td>\n",
       "      <td>90.0000</td>\n",
       "      <td>2</td>\n",
       "      <td>81.4200</td>\n",
       "      <td>0.2797</td>\n",
       "      <td>92.1689</td>\n",
       "    </tr>\n",
       "    <tr>\n",
       "      <th>988</th>\n",
       "      <td>128304</td>\n",
       "      <td>100.2857</td>\n",
       "      <td>100.2857</td>\n",
       "      <td>2</td>\n",
       "      <td>76.0050</td>\n",
       "      <td>0.2722</td>\n",
       "      <td>86.1702</td>\n",
       "    </tr>\n",
       "  </tbody>\n",
       "</table>\n",
       "<p>1350 rows × 7 columns</p>\n",
       "</div>"
      ],
      "text/plain": [
       "      GuestID  recency_weekly  T_weekly  frequency  monetary  expected_booking_3_months  expected_average_profit\n",
       "529     55217         88.8571   88.8571          2 3992.3687                     0.2806                4424.7376\n",
       "187     34402        135.0000  135.0000          4 3905.8866                     0.3069                4106.5909\n",
       "427     47538        128.8571  128.8571          2 3691.5694                     0.2534                4091.5105\n",
       "250     39352        138.5714  138.5714          2 3627.2344                     0.2476                4020.2399\n",
       "337     43233        133.5714  133.5714          2 3561.3600                     0.2505                3947.2639\n",
       "...       ...             ...       ...        ...       ...                        ...                      ...\n",
       "1184   179084        103.2857  103.2857          2   93.0450                     0.2701                 105.0472\n",
       "962    126504         94.2857   94.2857          2   92.9500                     0.2765                 104.9419\n",
       "495     53041        116.4286  116.4286          2   87.8300                     0.2613                  99.2700\n",
       "972    126947         90.0000   90.0000          2   81.4200                     0.2797                  92.1689\n",
       "988    128304        100.2857  100.2857          2   76.0050                     0.2722                  86.1702\n",
       "\n",
       "[1350 rows x 7 columns]"
      ]
     },
     "execution_count": 52,
     "metadata": {},
     "output_type": "execute_result"
    }
   ],
   "source": [
    "cltv_df.sort_values(\"expected_average_profit\", ascending=False)"
   ]
  },
  {
   "cell_type": "markdown",
   "id": "3b9382d4-6212-441f-b6a1-601344ca8fb8",
   "metadata": {},
   "source": [
    "# CLTV with BG-NBD and GG model"
   ]
  },
  {
   "cell_type": "code",
   "execution_count": 53,
   "id": "5826ee31-58b4-4e41-9298-a8cd1cdcb4be",
   "metadata": {},
   "outputs": [],
   "source": [
    "cltv_df[\"cltv\"] = ggf.customer_lifetime_value(bgf,\n",
    "                                   cltv_df['frequency'],\n",
    "                                   cltv_df['recency_weekly'],\n",
    "                                   cltv_df['T_weekly'],\n",
    "                                   cltv_df['monetary'],\n",
    "                                   time=3,  # 3 months\n",
    "                                   freq=\"W\", # frequency information of T.\n",
    "                                   discount_rate=0.01)"
   ]
  },
  {
   "cell_type": "code",
   "execution_count": 54,
   "id": "f4cd353f-7010-4683-93ca-ecdfcf597992",
   "metadata": {},
   "outputs": [
    {
     "data": {
      "text/html": [
       "<div>\n",
       "<style scoped>\n",
       "    .dataframe tbody tr th:only-of-type {\n",
       "        vertical-align: middle;\n",
       "    }\n",
       "\n",
       "    .dataframe tbody tr th {\n",
       "        vertical-align: top;\n",
       "    }\n",
       "\n",
       "    .dataframe thead th {\n",
       "        text-align: right;\n",
       "    }\n",
       "</style>\n",
       "<table border=\"1\" class=\"dataframe\">\n",
       "  <thead>\n",
       "    <tr style=\"text-align: right;\">\n",
       "      <th></th>\n",
       "      <th>GuestID</th>\n",
       "      <th>recency_weekly</th>\n",
       "      <th>T_weekly</th>\n",
       "      <th>frequency</th>\n",
       "      <th>monetary</th>\n",
       "      <th>expected_booking_3_months</th>\n",
       "      <th>expected_average_profit</th>\n",
       "      <th>cltv</th>\n",
       "    </tr>\n",
       "  </thead>\n",
       "  <tbody>\n",
       "    <tr>\n",
       "      <th>0</th>\n",
       "      <td>37</td>\n",
       "      <td>98.4286</td>\n",
       "      <td>98.4286</td>\n",
       "      <td>2</td>\n",
       "      <td>139.2200</td>\n",
       "      <td>0.2736</td>\n",
       "      <td>156.2001</td>\n",
       "      <td>45.5009</td>\n",
       "    </tr>\n",
       "    <tr>\n",
       "      <th>1</th>\n",
       "      <td>48</td>\n",
       "      <td>136.4286</td>\n",
       "      <td>136.4286</td>\n",
       "      <td>3</td>\n",
       "      <td>255.5400</td>\n",
       "      <td>0.2774</td>\n",
       "      <td>274.5373</td>\n",
       "      <td>81.0875</td>\n",
       "    </tr>\n",
       "    <tr>\n",
       "      <th>2</th>\n",
       "      <td>156</td>\n",
       "      <td>95.5714</td>\n",
       "      <td>95.5714</td>\n",
       "      <td>2</td>\n",
       "      <td>699.3000</td>\n",
       "      <td>0.2756</td>\n",
       "      <td>776.6595</td>\n",
       "      <td>227.9411</td>\n",
       "    </tr>\n",
       "    <tr>\n",
       "      <th>3</th>\n",
       "      <td>191</td>\n",
       "      <td>74.1429</td>\n",
       "      <td>74.1429</td>\n",
       "      <td>2</td>\n",
       "      <td>468.7750</td>\n",
       "      <td>0.2921</td>\n",
       "      <td>521.2827</td>\n",
       "      <td>162.1351</td>\n",
       "    </tr>\n",
       "    <tr>\n",
       "      <th>4</th>\n",
       "      <td>482</td>\n",
       "      <td>76.5714</td>\n",
       "      <td>76.5714</td>\n",
       "      <td>6</td>\n",
       "      <td>699.1500</td>\n",
       "      <td>0.4231</td>\n",
       "      <td>723.2025</td>\n",
       "      <td>325.8395</td>\n",
       "    </tr>\n",
       "  </tbody>\n",
       "</table>\n",
       "</div>"
      ],
      "text/plain": [
       "   GuestID  recency_weekly  T_weekly  frequency  monetary  expected_booking_3_months  expected_average_profit     cltv\n",
       "0       37         98.4286   98.4286          2  139.2200                     0.2736                 156.2001  45.5009\n",
       "1       48        136.4286  136.4286          3  255.5400                     0.2774                 274.5373  81.0875\n",
       "2      156         95.5714   95.5714          2  699.3000                     0.2756                 776.6595 227.9411\n",
       "3      191         74.1429   74.1429          2  468.7750                     0.2921                 521.2827 162.1351\n",
       "4      482         76.5714   76.5714          6  699.1500                     0.4231                 723.2025 325.8395"
      ]
     },
     "execution_count": 54,
     "metadata": {},
     "output_type": "execute_result"
    }
   ],
   "source": [
    "cltv_df.head()"
   ]
  },
  {
   "cell_type": "markdown",
   "id": "6d2b3544-cbbd-4e2c-b1b4-1a9861c9d167",
   "metadata": {},
   "source": [
    "# Segments by CLTV"
   ]
  },
  {
   "cell_type": "code",
   "execution_count": 56,
   "id": "d9ca7d5a-e9ce-49e6-84a4-04813cc08a65",
   "metadata": {},
   "outputs": [],
   "source": [
    "cltv_df[\"segment\"] = pd.qcut(cltv_df[\"cltv\"], 4, labels=[\"D\", \"C\", \"B\", \"A\"])"
   ]
  },
  {
   "cell_type": "code",
   "execution_count": 57,
   "id": "f0b1ba0d-19c6-4386-9e82-9eb5d7769a04",
   "metadata": {},
   "outputs": [
    {
     "data": {
      "text/html": [
       "<div>\n",
       "<style scoped>\n",
       "    .dataframe tbody tr th:only-of-type {\n",
       "        vertical-align: middle;\n",
       "    }\n",
       "\n",
       "    .dataframe tbody tr th {\n",
       "        vertical-align: top;\n",
       "    }\n",
       "\n",
       "    .dataframe thead th {\n",
       "        text-align: right;\n",
       "    }\n",
       "</style>\n",
       "<table border=\"1\" class=\"dataframe\">\n",
       "  <thead>\n",
       "    <tr style=\"text-align: right;\">\n",
       "      <th></th>\n",
       "      <th>GuestID</th>\n",
       "      <th>recency_weekly</th>\n",
       "      <th>T_weekly</th>\n",
       "      <th>frequency</th>\n",
       "      <th>monetary</th>\n",
       "      <th>expected_booking_3_months</th>\n",
       "      <th>expected_average_profit</th>\n",
       "      <th>cltv</th>\n",
       "      <th>segment</th>\n",
       "    </tr>\n",
       "  </thead>\n",
       "  <tbody>\n",
       "    <tr>\n",
       "      <th>187</th>\n",
       "      <td>34402</td>\n",
       "      <td>135.0000</td>\n",
       "      <td>135.0000</td>\n",
       "      <td>4</td>\n",
       "      <td>3905.8866</td>\n",
       "      <td>0.3069</td>\n",
       "      <td>4106.5909</td>\n",
       "      <td>1342.1868</td>\n",
       "      <td>A</td>\n",
       "    </tr>\n",
       "    <tr>\n",
       "      <th>529</th>\n",
       "      <td>55217</td>\n",
       "      <td>88.8571</td>\n",
       "      <td>88.8571</td>\n",
       "      <td>2</td>\n",
       "      <td>3992.3687</td>\n",
       "      <td>0.2806</td>\n",
       "      <td>4424.7376</td>\n",
       "      <td>1321.9740</td>\n",
       "      <td>A</td>\n",
       "    </tr>\n",
       "    <tr>\n",
       "      <th>1295</th>\n",
       "      <td>198151</td>\n",
       "      <td>46.8571</td>\n",
       "      <td>46.8571</td>\n",
       "      <td>2</td>\n",
       "      <td>3065.3144</td>\n",
       "      <td>0.3161</td>\n",
       "      <td>3397.7421</td>\n",
       "      <td>1143.8593</td>\n",
       "      <td>A</td>\n",
       "    </tr>\n",
       "    <tr>\n",
       "      <th>427</th>\n",
       "      <td>47538</td>\n",
       "      <td>128.8571</td>\n",
       "      <td>128.8571</td>\n",
       "      <td>2</td>\n",
       "      <td>3691.5694</td>\n",
       "      <td>0.2534</td>\n",
       "      <td>4091.5105</td>\n",
       "      <td>1104.0883</td>\n",
       "      <td>A</td>\n",
       "    </tr>\n",
       "    <tr>\n",
       "      <th>250</th>\n",
       "      <td>39352</td>\n",
       "      <td>138.5714</td>\n",
       "      <td>138.5714</td>\n",
       "      <td>2</td>\n",
       "      <td>3627.2344</td>\n",
       "      <td>0.2476</td>\n",
       "      <td>4020.2399</td>\n",
       "      <td>1059.9388</td>\n",
       "      <td>A</td>\n",
       "    </tr>\n",
       "    <tr>\n",
       "      <th>337</th>\n",
       "      <td>43233</td>\n",
       "      <td>133.5714</td>\n",
       "      <td>133.5714</td>\n",
       "      <td>2</td>\n",
       "      <td>3561.3600</td>\n",
       "      <td>0.2505</td>\n",
       "      <td>3947.2639</td>\n",
       "      <td>1053.1488</td>\n",
       "      <td>A</td>\n",
       "    </tr>\n",
       "    <tr>\n",
       "      <th>386</th>\n",
       "      <td>45835</td>\n",
       "      <td>112.8571</td>\n",
       "      <td>112.8571</td>\n",
       "      <td>2</td>\n",
       "      <td>3228.6200</td>\n",
       "      <td>0.2636</td>\n",
       "      <td>3578.6529</td>\n",
       "      <td>1004.5915</td>\n",
       "      <td>A</td>\n",
       "    </tr>\n",
       "    <tr>\n",
       "      <th>692</th>\n",
       "      <td>65186</td>\n",
       "      <td>71.2857</td>\n",
       "      <td>71.2857</td>\n",
       "      <td>2</td>\n",
       "      <td>2854.3800</td>\n",
       "      <td>0.2944</td>\n",
       "      <td>3164.0679</td>\n",
       "      <td>992.0291</td>\n",
       "      <td>A</td>\n",
       "    </tr>\n",
       "    <tr>\n",
       "      <th>1043</th>\n",
       "      <td>133091</td>\n",
       "      <td>64.8571</td>\n",
       "      <td>64.8571</td>\n",
       "      <td>2</td>\n",
       "      <td>2774.1644</td>\n",
       "      <td>0.2998</td>\n",
       "      <td>3075.2047</td>\n",
       "      <td>981.9161</td>\n",
       "      <td>A</td>\n",
       "    </tr>\n",
       "    <tr>\n",
       "      <th>1047</th>\n",
       "      <td>133338</td>\n",
       "      <td>64.2857</td>\n",
       "      <td>64.2857</td>\n",
       "      <td>2</td>\n",
       "      <td>2581.8800</td>\n",
       "      <td>0.3003</td>\n",
       "      <td>2862.1911</td>\n",
       "      <td>915.3985</td>\n",
       "      <td>A</td>\n",
       "    </tr>\n",
       "  </tbody>\n",
       "</table>\n",
       "</div>"
      ],
      "text/plain": [
       "      GuestID  recency_weekly  T_weekly  frequency  monetary  expected_booking_3_months  expected_average_profit      cltv segment\n",
       "187     34402        135.0000  135.0000          4 3905.8866                     0.3069                4106.5909 1342.1868       A\n",
       "529     55217         88.8571   88.8571          2 3992.3687                     0.2806                4424.7376 1321.9740       A\n",
       "1295   198151         46.8571   46.8571          2 3065.3144                     0.3161                3397.7421 1143.8593       A\n",
       "427     47538        128.8571  128.8571          2 3691.5694                     0.2534                4091.5105 1104.0883       A\n",
       "250     39352        138.5714  138.5714          2 3627.2344                     0.2476                4020.2399 1059.9388       A\n",
       "337     43233        133.5714  133.5714          2 3561.3600                     0.2505                3947.2639 1053.1488       A\n",
       "386     45835        112.8571  112.8571          2 3228.6200                     0.2636                3578.6529 1004.5915       A\n",
       "692     65186         71.2857   71.2857          2 2854.3800                     0.2944                3164.0679  992.0291       A\n",
       "1043   133091         64.8571   64.8571          2 2774.1644                     0.2998                3075.2047  981.9161       A\n",
       "1047   133338         64.2857   64.2857          2 2581.8800                     0.3003                2862.1911  915.3985       A"
      ]
     },
     "execution_count": 57,
     "metadata": {},
     "output_type": "execute_result"
    }
   ],
   "source": [
    "cltv_df.sort_values(by=\"cltv\", ascending=False).head(10)"
   ]
  },
  {
   "cell_type": "code",
   "execution_count": 58,
   "id": "ced4a080-3905-4396-b767-4a6d2bae659a",
   "metadata": {},
   "outputs": [
    {
     "data": {
      "text/html": [
       "<div>\n",
       "<style scoped>\n",
       "    .dataframe tbody tr th:only-of-type {\n",
       "        vertical-align: middle;\n",
       "    }\n",
       "\n",
       "    .dataframe tbody tr th {\n",
       "        vertical-align: top;\n",
       "    }\n",
       "\n",
       "    .dataframe thead tr th {\n",
       "        text-align: left;\n",
       "    }\n",
       "\n",
       "    .dataframe thead tr:last-of-type th {\n",
       "        text-align: right;\n",
       "    }\n",
       "</style>\n",
       "<table border=\"1\" class=\"dataframe\">\n",
       "  <thead>\n",
       "    <tr>\n",
       "      <th></th>\n",
       "      <th>recency_weekly</th>\n",
       "      <th>frequency</th>\n",
       "      <th>T_weekly</th>\n",
       "      <th>expected_booking_3_months</th>\n",
       "      <th>expected_average_profit</th>\n",
       "      <th colspan=\"2\" halign=\"left\">monetary</th>\n",
       "    </tr>\n",
       "    <tr>\n",
       "      <th></th>\n",
       "      <th>mean</th>\n",
       "      <th>mean</th>\n",
       "      <th>mean</th>\n",
       "      <th>mean</th>\n",
       "      <th>mean</th>\n",
       "      <th>mean</th>\n",
       "      <th>sum</th>\n",
       "    </tr>\n",
       "    <tr>\n",
       "      <th>segment</th>\n",
       "      <th></th>\n",
       "      <th></th>\n",
       "      <th></th>\n",
       "      <th></th>\n",
       "      <th></th>\n",
       "      <th></th>\n",
       "      <th></th>\n",
       "    </tr>\n",
       "  </thead>\n",
       "  <tbody>\n",
       "    <tr>\n",
       "      <th>D</th>\n",
       "      <td>100.3352</td>\n",
       "      <td>2.1036</td>\n",
       "      <td>100.3352</td>\n",
       "      <td>0.2768</td>\n",
       "      <td>236.5512</td>\n",
       "      <td>212.5991</td>\n",
       "      <td>71858.4958</td>\n",
       "    </tr>\n",
       "    <tr>\n",
       "      <th>C</th>\n",
       "      <td>96.0360</td>\n",
       "      <td>2.2226</td>\n",
       "      <td>96.0360</td>\n",
       "      <td>0.2839</td>\n",
       "      <td>427.9984</td>\n",
       "      <td>386.9786</td>\n",
       "      <td>130411.7973</td>\n",
       "    </tr>\n",
       "    <tr>\n",
       "      <th>B</th>\n",
       "      <td>95.3311</td>\n",
       "      <td>2.2819</td>\n",
       "      <td>95.3311</td>\n",
       "      <td>0.2861</td>\n",
       "      <td>697.6580</td>\n",
       "      <td>632.3131</td>\n",
       "      <td>213089.5172</td>\n",
       "    </tr>\n",
       "    <tr>\n",
       "      <th>A</th>\n",
       "      <td>93.0499</td>\n",
       "      <td>2.2574</td>\n",
       "      <td>93.0499</td>\n",
       "      <td>0.2872</td>\n",
       "      <td>1357.6711</td>\n",
       "      <td>1231.5076</td>\n",
       "      <td>416249.5648</td>\n",
       "    </tr>\n",
       "  </tbody>\n",
       "</table>\n",
       "</div>"
      ],
      "text/plain": [
       "        recency_weekly frequency T_weekly expected_booking_3_months expected_average_profit  monetary            \n",
       "                  mean      mean     mean                      mean                    mean      mean         sum\n",
       "segment                                                                                                          \n",
       "D             100.3352    2.1036 100.3352                    0.2768                236.5512  212.5991  71858.4958\n",
       "C              96.0360    2.2226  96.0360                    0.2839                427.9984  386.9786 130411.7973\n",
       "B              95.3311    2.2819  95.3311                    0.2861                697.6580  632.3131 213089.5172\n",
       "A              93.0499    2.2574  93.0499                    0.2872               1357.6711 1231.5076 416249.5648"
      ]
     },
     "execution_count": 58,
     "metadata": {},
     "output_type": "execute_result"
    }
   ],
   "source": [
    "cltv_df.groupby(\"segment\").agg({\"recency_weekly\": \"mean\",\n",
    "                                \"frequency\": \"mean\",\n",
    "                                \"T_weekly\": \"mean\",\n",
    "                                \"expected_booking_3_months\": \"mean\",\n",
    "                                \"expected_average_profit\": \"mean\",\n",
    "                                \"monetary\": [\"mean\", \"sum\"]})"
   ]
  },
  {
   "cell_type": "markdown",
   "id": "475f7919-5379-47fd-842b-d9e87038484c",
   "metadata": {},
   "source": [
    "***\n",
    "***\n",
    "***"
   ]
  }
 ],
 "metadata": {
  "kernelspec": {
   "display_name": "Python 3 (ipykernel)",
   "language": "python",
   "name": "python3"
  },
  "language_info": {
   "codemirror_mode": {
    "name": "ipython",
    "version": 3
   },
   "file_extension": ".py",
   "mimetype": "text/x-python",
   "name": "python",
   "nbconvert_exporter": "python",
   "pygments_lexer": "ipython3",
   "version": "3.10.5"
  }
 },
 "nbformat": 4,
 "nbformat_minor": 5
}
