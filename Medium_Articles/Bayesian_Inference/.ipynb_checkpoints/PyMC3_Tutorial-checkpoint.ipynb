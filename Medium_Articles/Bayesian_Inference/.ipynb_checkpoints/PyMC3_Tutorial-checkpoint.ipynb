{
 "cells": [
  {
   "cell_type": "markdown",
   "id": "3a6ff15f-7364-4282-83a4-7f200fc02410",
   "metadata": {},
   "source": [
    "# PyMC3 Tutorial\n",
    "- https://towardsdatascience.com/introduction-to-pymc3-a-python-package-for-probabilistic-programming-5299278b428"
   ]
  },
  {
   "cell_type": "code",
   "execution_count": 1,
   "id": "e5136038-ca59-4ebe-9c09-944e91d43c4c",
   "metadata": {},
   "outputs": [
    {
     "name": "stderr",
     "output_type": "stream",
     "text": [
      "WARNING (theano.configdefaults): g++ not available, if using conda: `conda install m2w64-toolchain`\n",
      "WARNING (theano.configdefaults): g++ not detected ! Theano will be unable to execute optimized C-implementations (for both CPU and GPU) and will default to Python implementations. Performance will be severely degraded. To remove this warning, set Theano flags cxx to an empty string.\n",
      "WARNING (theano.tensor.blas): Using NumPy C-API based implementation for BLAS functions.\n"
     ]
    }
   ],
   "source": [
    "import pymc3 as pm\n",
    "import scipy.stats as stats\n",
    "import pandas as pd\n",
    "import matplotlib.pyplot as plt\n",
    "import numpy as np\n",
    "%matplotlib inline\n",
    "from IPython.core.pylabtools import figsize"
   ]
  },
  {
   "cell_type": "markdown",
   "id": "d140048f-6213-4917-a49c-37ba01b3efc4",
   "metadata": {},
   "source": [
    "***\n",
    "**Initiate Prior distribution of BETA using Pymc3**"
   ]
  },
  {
   "cell_type": "code",
   "execution_count": 3,
   "id": "8eaa55a0-bb5d-466a-9499-5aa2368a742a",
   "metadata": {},
   "outputs": [],
   "source": [
    "with pm.Model() as model:\n",
    "    theta=pm.Uniform('theta', lower=0, upper=1)"
   ]
  },
  {
   "cell_type": "markdown",
   "id": "95e16b04-4a1e-4ff6-8297-30169df676f9",
   "metadata": {},
   "source": [
    "***\n",
    "**Fit the model on the data**"
   ]
  },
  {
   "cell_type": "code",
   "execution_count": 7,
   "id": "be8fc461-9d2f-40fd-8fd4-ff2405f61995",
   "metadata": {},
   "outputs": [
    {
     "name": "stderr",
     "output_type": "stream",
     "text": [
      "C:\\Users\\wallj\\AppData\\Local\\Temp/ipykernel_14864/3912062975.py:6: FutureWarning: In v4.0, pm.sample will return an `arviz.InferenceData` object instead of a `MultiTrace` by default. You can pass return_inferencedata=True or return_inferencedata=False to be safe and silence this warning.\n",
      "  trace=pm.sample(18000, step=step)\n",
      "Multiprocess sampling (4 chains in 4 jobs)\n",
      "Metropolis: [theta]\n"
     ]
    },
    {
     "data": {
      "text/html": [
       "\n",
       "    <div>\n",
       "        <style>\n",
       "            /* Turns off some styling */\n",
       "            progress {\n",
       "                /* gets rid of default border in Firefox and Opera. */\n",
       "                border: none;\n",
       "                /* Needs to be in here for Safari polyfill so background images work as expected. */\n",
       "                background-size: auto;\n",
       "            }\n",
       "            .progress-bar-interrupted, .progress-bar-interrupted::-webkit-progress-bar {\n",
       "                background: #F44336;\n",
       "            }\n",
       "        </style>\n",
       "      <progress value='76000' class='' max='76000' style='width:300px; height:20px; vertical-align: middle;'></progress>\n",
       "      100.00% [76000/76000 00:13<00:00 Sampling 4 chains, 0 divergences]\n",
       "    </div>\n",
       "    "
      ],
      "text/plain": [
       "<IPython.core.display.HTML object>"
      ]
     },
     "metadata": {},
     "output_type": "display_data"
    },
    {
     "name": "stderr",
     "output_type": "stream",
     "text": [
      "Sampling 4 chains for 1_000 tune and 18_000 draw iterations (4_000 + 72_000 draws total) took 20 seconds.\n",
      "The number of effective samples is smaller than 25% for some parameters.\n"
     ]
    }
   ],
   "source": [
    "occurrences=np.array([1,1,0]) #our observation\n",
    "p = theta\n",
    "with model:\n",
    "    obs=pm.Bernoulli(\"obs\", p, observed=occurrences) #input the observations\n",
    "    step=pm.Metropolis()\n",
    "    trace=pm.sample(18000, step=step)\n",
    "    burned_trace=trace[1000:]"
   ]
  },
  {
   "cell_type": "markdown",
   "id": "3c6ed658-8a70-4e01-93fe-0122a4cf6616",
   "metadata": {},
   "source": [
    "***\n",
    "**Plot the histogram of samples obtained from the posterior distribution**"
   ]
  },
  {
   "cell_type": "code",
   "execution_count": 8,
   "id": "f2f4686c-b55f-4807-bd40-296325e98291",
   "metadata": {},
   "outputs": [
    {
     "data": {
      "image/png": "[encoded data removed]",
      "text/plain": [
       "<Figure size 900x288 with 1 Axes>"
      ]
     },
     "metadata": {
      "needs_background": "light"
     },
     "output_type": "display_data"
    }
   ],
   "source": [
    "from IPython.core.pylabtools import figsize\n",
    "p_true=0.5\n",
    "figsize(12.5, 4)\n",
    "plt.title(r\"Posterior distribution of $\\theta$\")\n",
    "plt.vlines(p_true,0, 2, linestyle='--', label=r\"true $\\theta$ (unknown)\", color='red')\n",
    "plt.hist(burned_trace[\"theta\"], bins=25, histtype='stepfilled', density=True, color='#348ABD')\n",
    "x=np.arange(0,1.04,0.04)\n",
    "plt.plot(x, 12*x*x*(1-x), color='black')\n",
    "plt.legend()\n",
    "plt.show()"
   ]
  },
  {
   "cell_type": "markdown",
   "id": "c22fc07a-c650-4d09-af5f-d8522f1bdcc3",
   "metadata": {},
   "source": [
    "***\n",
    "**Let's increase the sample size to 1000 coin tosses**"
   ]
  },
  {
   "cell_type": "code",
   "execution_count": 14,
   "id": "ee23edb2-e507-4cc9-a987-29ef8785a8cb",
   "metadata": {},
   "outputs": [],
   "source": [
    "N=1000 #the number of samples\n",
    "occurences=np.random.binomial(1, p=0.5, size=N)\n",
    "k=occurences.sum() #the number of head"
   ]
  },
  {
   "cell_type": "code",
   "execution_count": 15,
   "id": "bf25350b-3d97-4e55-8795-b43b746eb1d5",
   "metadata": {},
   "outputs": [],
   "source": [
    "#fit the observed data \n",
    "with pm.Model() as model1:\n",
    "    theta=pm.Uniform('theta', lower=0, upper=1)"
   ]
  },
  {
   "cell_type": "code",
   "execution_count": 16,
   "id": "01becdf2-a904-4a5f-8d18-718da4079565",
   "metadata": {},
   "outputs": [
    {
     "name": "stderr",
     "output_type": "stream",
     "text": [
      "C:\\Users\\wallj\\AppData\\Local\\Temp/ipykernel_14864/2043957599.py:4: FutureWarning: In v4.0, pm.sample will return an `arviz.InferenceData` object instead of a `MultiTrace` by default. You can pass return_inferencedata=True or return_inferencedata=False to be safe and silence this warning.\n",
      "  trace=pm.sample(18000, step=step)\n",
      "Multiprocess sampling (4 chains in 4 jobs)\n",
      "Metropolis: [theta]\n"
     ]
    },
    {
     "data": {
      "text/html": [
       "\n",
       "    <div>\n",
       "        <style>\n",
       "            /* Turns off some styling */\n",
       "            progress {\n",
       "                /* gets rid of default border in Firefox and Opera. */\n",
       "                border: none;\n",
       "                /* Needs to be in here for Safari polyfill so background images work as expected. */\n",
       "                background-size: auto;\n",
       "            }\n",
       "            .progress-bar-interrupted, .progress-bar-interrupted::-webkit-progress-bar {\n",
       "                background: #F44336;\n",
       "            }\n",
       "        </style>\n",
       "      <progress value='76000' class='' max='76000' style='width:300px; height:20px; vertical-align: middle;'></progress>\n",
       "      100.00% [76000/76000 00:13<00:00 Sampling 4 chains, 0 divergences]\n",
       "    </div>\n",
       "    "
      ],
      "text/plain": [
       "<IPython.core.display.HTML object>"
      ]
     },
     "metadata": {},
     "output_type": "display_data"
    },
    {
     "name": "stderr",
     "output_type": "stream",
     "text": [
      "Sampling 4 chains for 1_000 tune and 18_000 draw iterations (4_000 + 72_000 draws total) took 21 seconds.\n",
      "The number of effective samples is smaller than 25% for some parameters.\n"
     ]
    }
   ],
   "source": [
    "with model1:\n",
    "    obs=pm.Bernoulli(\"obs\", theta, observed=occurrences)\n",
    "    step=pm.Metropolis()\n",
    "    trace=pm.sample(18000, step=step)\n",
    "    burned_trace1=trace[1000:]"
   ]
  },
  {
   "cell_type": "code",
   "execution_count": 21,
   "id": "1079f3b5-de5f-41ac-8d04-7c5c3044130e",
   "metadata": {},
   "outputs": [
    {
     "data": {
      "image/png": "[encoded data removed]",
      "text/plain": [
       "<Figure size 900x288 with 1 Axes>"
      ]
     },
     "metadata": {
      "needs_background": "light"
     },
     "output_type": "display_data"
    }
   ],
   "source": [
    "#plot the posterior distribution of theta. \n",
    "p_true=0.5\n",
    "figsize(12.5, 4)\n",
    "plt.title(r\"Posterior distribution of $\\theta for sample size N=1000$\")\n",
    "plt.vlines(p_true,0, 25, linestyle='--', label=\"true $\\ theta $ (unknown)\", color='red')\n",
    "plt.hist(burned_trace1[\"theta\"], bins=25, histtype='stepfilled', density=True, color='#348ABD')\n",
    "plt.legend()\n",
    "plt.show()"
   ]
  },
  {
   "cell_type": "markdown",
   "id": "751fad70-c38f-449f-a976-9ba0fe5b6747",
   "metadata": {},
   "source": [
    "***\n",
    "**Take mean of samples to estimate theta**"
   ]
  },
  {
   "cell_type": "code",
   "execution_count": 18,
   "id": "4e84844c-be8a-4a13-8de2-fb98ac08b5f0",
   "metadata": {},
   "outputs": [
    {
     "data": {
      "text/plain": [
       "0.5998168250091334"
      ]
     },
     "execution_count": 18,
     "metadata": {},
     "output_type": "execute_result"
    }
   ],
   "source": [
    "burned_trace1['theta'].mean()\n"
   ]
  },
  {
   "cell_type": "markdown",
   "id": "fad957b7-803a-420e-9faa-a7eed7381884",
   "metadata": {},
   "source": [
    "***\n",
    "***\n",
    "***"
   ]
  }
 ],
 "metadata": {
  "kernelspec": {
   "display_name": "Python 3 (ipykernel)",
   "language": "python",
   "name": "python3"
  },
  "language_info": {
   "codemirror_mode": {
    "name": "ipython",
    "version": 3
   },
   "file_extension": ".py",
   "mimetype": "text/x-python",
   "name": "python",
   "nbconvert_exporter": "python",
   "pygments_lexer": "ipython3",
   "version": "3.9.7"
  }
 },
 "nbformat": 4,
 "nbformat_minor": 5
}
