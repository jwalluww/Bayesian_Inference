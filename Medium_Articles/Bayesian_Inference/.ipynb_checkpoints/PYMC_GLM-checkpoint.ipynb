{
 "cells": [
  {
   "cell_type": "markdown",
   "id": "03621bfd-3f84-42d7-920c-f39ce51c7f14",
   "metadata": {},
   "source": [
    "# PYMC 4 Test"
   ]
  },
  {
   "cell_type": "code",
   "execution_count": 2,
   "id": "cfaff8c8-5fe9-484c-8cf2-13d08dba52cc",
   "metadata": {},
   "outputs": [
    {
     "name": "stdout",
     "output_type": "stream",
     "text": [
      "Running on PyMC v4.1.2\n"
     ]
    }
   ],
   "source": [
    "import pymc as pm\n",
    "\n",
    "print(f\"Running on PyMC v{pm.__version__}\")"
   ]
  },
  {
   "cell_type": "code",
   "execution_count": null,
   "id": "fbc0d1c7-150f-49b6-a340-68f2c1ddab11",
   "metadata": {},
   "outputs": [],
   "source": []
  }
 ],
 "metadata": {
  "kernelspec": {
   "display_name": "Python 3 (ipykernel)",
   "language": "python",
   "name": "python3"
  },
  "language_info": {
   "codemirror_mode": {
    "name": "ipython",
    "version": 3
   },
   "file_extension": ".py",
   "mimetype": "text/x-python",
   "name": "python",
   "nbconvert_exporter": "python",
   "pygments_lexer": "ipython3",
   "version": "3.10.5"
  }
 },
 "nbformat": 4,
 "nbformat_minor": 5
}
