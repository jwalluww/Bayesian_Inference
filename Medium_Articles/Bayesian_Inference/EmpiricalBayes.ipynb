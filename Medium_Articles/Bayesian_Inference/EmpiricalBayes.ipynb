{
 "cells": [
  {
   "cell_type": "code",
   "execution_count": 6,
   "id": "92139ece-6bad-46a5-be2f-3b078d4665af",
   "metadata": {},
   "outputs": [
    {
     "data": {
      "text/plain": [
       "Package: Lahman\n",
       "Type: Package\n",
       "Title: Sean 'Lahman' Baseball Database\n",
       "Version: 9.0-0\n",
       "Date: 2021-04-08\n",
       "Authors@R: c(person(given = \"Michael\", family = \"Friendly\", role=\"aut\",\n",
       "        email=\"friendly@yorku.ca\"), person(given =\"Chris\", family =\n",
       "        \"Dalzell\", role=c(\"cre\",\"aut\"), email=\"cdalzell@gmail.com\"),\n",
       "        person(given =\"Martin\", family = \"Monkman\", role=\"aut\"),\n",
       "        person(given= \"Dennis\", family = \"Murphy\", role=\"aut\"),\n",
       "        person(given =\"Vanessa\", family = \"Foot\", role=\"ctb\"),\n",
       "        person(given = \"Justeena\", family = \"Zaki-Azat\", role=\"ctb\") )\n",
       "Author: Michael Friendly [aut], Chris Dalzell [cre, aut], Martin\n",
       "        Monkman [aut], Dennis Murphy [aut], Vanessa Foot [ctb],\n",
       "        Justeena Zaki-Azat [ctb]\n",
       "Maintainer: Chris Dalzell <cdalzell@gmail.com>\n",
       "Description: Provides the tables from the 'Sean Lahman Baseball\n",
       "        Database' as a set of R data.frames. It uses the data on\n",
       "        pitching, hitting and fielding performance and other tables\n",
       "        from 1871 through 2019, as recorded in the 2020 version of the\n",
       "        database. Documentation examples show how many baseball\n",
       "        questions can be investigated.\n",
       "Depends: R (>= 2.10)\n",
       "Suggests: lattice, ggplot2, googleVis, data.table, vcd, reshape2,\n",
       "        tidyr, knitr, rmarkdown, car\n",
       "Imports: dplyr\n",
       "Encoding: UTF-8\n",
       "License: GPL\n",
       "URL: https://CRAN.R-project.org/package=Lahman\n",
       "LazyLoad: yes\n",
       "LazyData: yes\n",
       "LazyDataCompression: xz\n",
       "BugReports: https://github.com/cdalzell/Lahman/issues\n",
       "Repository: CRAN\n",
       "NeedsCompilation: no\n",
       "RoxygenNote: 7.1.1\n",
       "VignetteBuilder: knitr\n",
       "Packaged: 2021-04-09 01:54:46 UTC; dz\n",
       "Date/Publication: 2021-04-09 06:10:06 UTC\n",
       "Built: R 4.1.2; ; 2022-01-03 21:07:51 UTC; unix\n",
       "\n",
       "-- File: /home/jupyter/.R/library/Lahman/Meta/package.rds "
      ]
     },
     "metadata": {},
     "output_type": "display_data"
    },
    {
     "name": "stderr",
     "output_type": "stream",
     "text": [
      "Installing package into ‘/home/jupyter/.R/library’\n",
      "(as ‘lib’ is unspecified)\n",
      "\n"
     ]
    },
    {
     "data": {
      "text/plain": [
       "Documentation for package ‘Lahman’\n",
       "\n",
       "\n",
       "\t\tInformation on package ‘Lahman’\n",
       "\n",
       "Description:\n",
       "\n",
       "Package:               Lahman\n",
       "Type:                  Package\n",
       "Title:                 Sean 'Lahman' Baseball Database\n",
       "Version:               9.0-0\n",
       "Date:                  2021-04-08\n",
       "Authors@R:             c(person(given = \"Michael\", family = \"Friendly\",\n",
       "                       role=\"aut\", email=\"friendly@yorku.ca\"),\n",
       "                       person(given =\"Chris\", family = \"Dalzell\",\n",
       "                       role=c(\"cre\",\"aut\"),\n",
       "                       email=\"cdalzell@gmail.com\"), person(given\n",
       "                       =\"Martin\", family = \"Monkman\", role=\"aut\"),\n",
       "                       person(given= \"Dennis\", family = \"Murphy\",\n",
       "                       role=\"aut\"), person(given =\"Vanessa\", family =\n",
       "                       \"Foot\", role=\"ctb\"), person(given = \"Justeena\",\n",
       "                       family = \"Zaki-Azat\", role=\"ctb\") )\n",
       "Author:                Michael Friendly [aut], Chris Dalzell [cre,\n",
       "                       aut], Martin Monkman [aut], Dennis Murphy [aut],\n",
       "                       Vanessa Foot [ctb], Justeena Zaki-Azat [ctb]\n",
       "Maintainer:            Chris Dalzell <cdalzell@gmail.com>\n",
       "Description:           Provides the tables from the 'Sean Lahman\n",
       "                       Baseball Database' as a set of R data.frames. It\n",
       "                       uses the data on pitching, hitting and fielding\n",
       "                       performance and other tables from 1871 through\n",
       "                       2019, as recorded in the 2020 version of the\n",
       "                       database. Documentation examples show how many\n",
       "                       baseball questions can be investigated.\n",
       "Depends:               R (>= 2.10)\n",
       "Suggests:              lattice, ggplot2, googleVis, data.table, vcd,\n",
       "                       reshape2, tidyr, knitr, rmarkdown, car\n",
       "Imports:               dplyr\n",
       "Encoding:              UTF-8\n",
       "License:               GPL\n",
       "URL:                   https://CRAN.R-project.org/package=Lahman\n",
       "LazyLoad:              yes\n",
       "LazyData:              yes\n",
       "LazyDataCompression:   xz\n",
       "BugReports:            https://github.com/cdalzell/Lahman/issues\n",
       "Repository:            CRAN\n",
       "NeedsCompilation:      no\n",
       "RoxygenNote:           7.1.1\n",
       "VignetteBuilder:       knitr\n",
       "Packaged:              2021-04-09 01:54:46 UTC; dz\n",
       "Date/Publication:      2021-04-09 06:10:06 UTC\n",
       "Built:                 R 4.1.2; ; 2022-01-03 21:07:51 UTC; unix\n",
       "\n",
       "Index:\n",
       "\n",
       "AllstarFull             AllstarFull table\n",
       "Appearances             Appearances table\n",
       "AwardsManagers          AwardsManagers table\n",
       "AwardsPlayers           AwardsPlayers table\n",
       "AwardsShareManagers     AwardsShareManagers table\n",
       "AwardsSharePlayers      AwardsSharePlayers table\n",
       "Batting                 Batting table\n",
       "BattingPost             BattingPost table\n",
       "CollegePlaying          CollegePlaying table\n",
       "Fielding                Fielding table\n",
       "FieldingOF              FieldingOF table\n",
       "FieldingOFsplit         FieldingOFsplit table\n",
       "FieldingPost            FieldingPost data\n",
       "HallOfFame              Hall of Fame Voting Data\n",
       "HomeGames               HomeGames table\n",
       "Label                   Extract the Label for a Variable\n",
       "Lahman-package          Sean Lahman's Baseball Database\n",
       "LahmanData              Lahman Datasets\n",
       "Managers                Managers table\n",
       "ManagersHalf            ManagersHalf table\n",
       "Master                  Master table\n",
       "Parks                   Parks table\n",
       "People                  People table\n",
       "Pitching                Pitching table\n",
       "PitchingPost            PitchingPost table\n",
       "Salaries                Salaries table\n",
       "Schools                 Schools table\n",
       "SeriesPost              SeriesPost table\n",
       "Teams                   Teams table\n",
       "TeamsFranchises         TeamFranchises table\n",
       "TeamsHalf               TeamsHalf table\n",
       "battingLabels           Variable Labels\n",
       "battingStats            Calculate additional batting statistics\n",
       "playerInfo              Lookup Information for Players and Teams\n",
       "\n",
       "Further information is available in the following vignettes in\n",
       "directory ‘/home/jupyter/.R/library/Lahman/doc’:\n",
       "\n",
       "hits-by-type: Graphs of Hits By Type in MLB (source, pdf)\n",
       "payroll: Team Payroll and the World Series (source, pdf)\n",
       "run-scoring-trends: Run Scoring Trends (source, pdf)\n",
       "strikeoutsandhr: Relationship Between Strikeouts and Home Runs (source,\n",
       "        pdf)\n",
       "vignette-intro: Vignette Introduction (source, pdf)"
      ]
     },
     "metadata": {},
     "output_type": "display_data"
    }
   ],
   "source": [
    "packageDescription(\"Lahman\")\n",
    "help(package = \"Lahman\")\n",
    "install.packages(\"Lahman\")"
   ]
  },
  {
   "cell_type": "markdown",
   "id": "1d39522f-9d81-442d-8fa6-547a60ad70b4",
   "metadata": {},
   "source": [
    "## Hypothesis Testing"
   ]
  },
  {
   "cell_type": "markdown",
   "id": "23cae6e3-b2f5-4550-86c1-f3eb5978eefe",
   "metadata": {},
   "source": [
    "### Hypothesis Testing and FDR"
   ]
  },
  {
   "cell_type": "code",
   "execution_count": 62,
   "id": "8796afe5-18a8-4f1e-8a1b-e381f97d6207",
   "metadata": {},
   "outputs": [],
   "source": [
    "library(dplyr)\n",
    "library(tidyr)\n",
    "library(Lahman)\n",
    "library(knitr)\n",
    "opts_chunk$set(cache = TRUE, warning = FALSE, message = FALSE, tidy = FALSE, fig.height = 5, fig.width = 6.67, out.height = \"3in\",out.width = \"4in\")\n",
    "options(digits = 3)\n",
    "library(scales)\n",
    "library(ggplot2)\n",
    "theme_set(theme_bw())"
   ]
  },
  {
   "cell_type": "code",
   "execution_count": 63,
   "id": "83cac111-df24-4fe2-9eb0-b4ffa2d3f107",
   "metadata": {},
   "outputs": [],
   "source": [
    "career <- Batting %>%\n",
    "  filter(AB > 0) %>%\n",
    "  anti_join(Pitching, by = \"playerID\") %>%\n",
    "  group_by(playerID) %>%\n",
    "  summarize(H = sum(H), AB = sum(AB)) %>%\n",
    "  mutate(average = H / AB)"
   ]
  },
  {
   "cell_type": "code",
   "execution_count": 73,
   "id": "873ebd23-a095-4cf7-9b75-041882ee8d32",
   "metadata": {},
   "outputs": [],
   "source": [
    "career <- Master %>%\n",
    "  as_tibble() %>%\n",
    "  dplyr::select(playerID, nameFirst, nameLast) %>%\n",
    "  unite(name, nameFirst, nameLast, sep = \" \") %>%\n",
    "  inner_join(career, by = \"playerID\")"
   ]
  },
  {
   "cell_type": "code",
   "execution_count": 65,
   "id": "23823989-9f7e-4b7c-90f7-a5694d145707",
   "metadata": {},
   "outputs": [],
   "source": [
    "# values estimated by maximum likelihood in Chapter 3\n",
    "alpha0 <- 101.4\n",
    "beta0 <- 287.3"
   ]
  },
  {
   "cell_type": "code",
   "execution_count": 66,
   "id": "7c914d5d-ee42-45e9-9e83-dbd8a3893f0a",
   "metadata": {},
   "outputs": [],
   "source": [
    "career_eb <- career %>%\n",
    "  mutate(eb_estimate = (H + alpha0) / (AB + alpha0 + beta0),\n",
    "         alpha1 = H + alpha0,\n",
    "         beta1 = AB - H + beta0)"
   ]
  },
  {
   "cell_type": "code",
   "execution_count": 67,
   "id": "715b0465-82c6-4690-9973-9ab83030096f",
   "metadata": {},
   "outputs": [
    {
     "data": {
      "text/html": [
       "<table class=\"dataframe\">\n",
       "<caption>A tibble: 1 × 8</caption>\n",
       "<thead>\n",
       "\t<tr><th scope=col>playerID</th><th scope=col>name</th><th scope=col>H</th><th scope=col>AB</th><th scope=col>average</th><th scope=col>eb_estimate</th><th scope=col>alpha1</th><th scope=col>beta1</th></tr>\n",
       "\t<tr><th scope=col>&lt;chr&gt;</th><th scope=col>&lt;chr&gt;</th><th scope=col>&lt;int&gt;</th><th scope=col>&lt;int&gt;</th><th scope=col>&lt;dbl&gt;</th><th scope=col>&lt;dbl&gt;</th><th scope=col>&lt;dbl&gt;</th><th scope=col>&lt;dbl&gt;</th></tr>\n",
       "</thead>\n",
       "<tbody>\n",
       "\t<tr><td>aaronha01</td><td>Hank Aaron</td><td>3771</td><td>12364</td><td>0.305</td><td>0.304</td><td>3872</td><td>8880</td></tr>\n",
       "</tbody>\n",
       "</table>\n"
      ],
      "text/latex": [
       "A tibble: 1 × 8\n",
       "\\begin{tabular}{llllllll}\n",
       " playerID & name & H & AB & average & eb\\_estimate & alpha1 & beta1\\\\\n",
       " <chr> & <chr> & <int> & <int> & <dbl> & <dbl> & <dbl> & <dbl>\\\\\n",
       "\\hline\n",
       "\t aaronha01 & Hank Aaron & 3771 & 12364 & 0.305 & 0.304 & 3872 & 8880\\\\\n",
       "\\end{tabular}\n"
      ],
      "text/markdown": [
       "\n",
       "A tibble: 1 × 8\n",
       "\n",
       "| playerID &lt;chr&gt; | name &lt;chr&gt; | H &lt;int&gt; | AB &lt;int&gt; | average &lt;dbl&gt; | eb_estimate &lt;dbl&gt; | alpha1 &lt;dbl&gt; | beta1 &lt;dbl&gt; |\n",
       "|---|---|---|---|---|---|---|---|\n",
       "| aaronha01 | Hank Aaron | 3771 | 12364 | 0.305 | 0.304 | 3872 | 8880 |\n",
       "\n"
      ],
      "text/plain": [
       "  playerID  name       H    AB    average eb_estimate alpha1 beta1\n",
       "1 aaronha01 Hank Aaron 3771 12364 0.305   0.304       3872   8880 "
      ]
     },
     "metadata": {},
     "output_type": "display_data"
    }
   ],
   "source": [
    "career_eb %>%\n",
    "    filter(name == \"Hank Aaron\")"
   ]
  },
  {
   "cell_type": "code",
   "execution_count": 68,
   "id": "4a367784-3c11-408b-9798-794ce0c4f730",
   "metadata": {},
   "outputs": [],
   "source": [
    "hank_aaron <- career_eb %>%\n",
    "  filter(name == \"Hank Aaron\")"
   ]
  },
  {
   "cell_type": "code",
   "execution_count": 69,
   "id": "de6b7017-399e-4189-8a4b-1cf772431fcf",
   "metadata": {},
   "outputs": [
    {
     "data": {
      "text/html": [
       "0.169051386086756"
      ],
      "text/latex": [
       "0.169051386086756"
      ],
      "text/markdown": [
       "0.169051386086756"
      ],
      "text/plain": [
       "[1] 0.169"
      ]
     },
     "metadata": {},
     "output_type": "display_data"
    }
   ],
   "source": [
    "pbeta(.3,3850,8818)"
   ]
  },
  {
   "cell_type": "code",
   "execution_count": 70,
   "id": "0c902f54-830f-4418-acd5-fd465d54bb08",
   "metadata": {},
   "outputs": [],
   "source": [
    "career_eb <- career_eb %>%\n",
    "    mutate(PEP = pbeta(.3, alpha1, beta1))"
   ]
  },
  {
   "cell_type": "code",
   "execution_count": 71,
   "id": "27104c3b-e2a4-4a9c-bd68-56d35e1740f6",
   "metadata": {},
   "outputs": [],
   "source": [
    "hank_aaron_average <- hank_aaron$eb_estimate"
   ]
  },
  {
   "cell_type": "code",
   "execution_count": 74,
   "id": "4c3b4ff5-33ed-4ce5-84e5-c28e441982d4",
   "metadata": {},
   "outputs": [
    {
     "data": {
      "image/png": "[encoded data removed]",
      "text/plain": [
       "plot without title"
      ]
     },
     "metadata": {
      "image/png": {
       "height": 420,
       "width": 420
      }
     },
     "output_type": "display_data"
    }
   ],
   "source": [
    "career_eb %>%\n",
    "  filter(name == \"Hank Aaron\") %>%\n",
    "  do(tibble(x = seq(.27, .33, .0002),\n",
    "                density = dbeta(x, .$alpha1, .$beta1))) %>%\n",
    "  ggplot(aes(x, density)) +\n",
    "  geom_line() +\n",
    "  geom_ribbon(aes(ymin = 0, ymax = density * (x < .3)),\n",
    "              alpha = .1, fill = \"red\") +\n",
    "  geom_vline(color = \"red\", lty = 2, xintercept = .3) +\n",
    "  labs(x = \"Batting average\")"
   ]
  },
  {
   "cell_type": "code",
   "execution_count": null,
   "id": "63d77353-c253-4c3a-9993-0b022e5a8cd3",
   "metadata": {},
   "outputs": [],
   "source": []
  },
  {
   "cell_type": "code",
   "execution_count": null,
   "id": "84f8cea9-f99f-457a-9b09-a7ededa44afa",
   "metadata": {},
   "outputs": [],
   "source": []
  }
 ],
 "metadata": {
  "environment": {
   "kernel": "ir",
   "name": "r-cpu.4-1.m87",
   "type": "gcloud",
   "uri": "gcr.io/deeplearning-platform-release/r-cpu.4-1:m87"
  },
  "kernelspec": {
   "display_name": "R",
   "language": "R",
   "name": "ir"
  },
  "language_info": {
   "codemirror_mode": "r",
   "file_extension": ".r",
   "mimetype": "text/x-r-source",
   "name": "R",
   "pygments_lexer": "r",
   "version": "4.1.2"
  }
 },
 "nbformat": 4,
 "nbformat_minor": 5
}
