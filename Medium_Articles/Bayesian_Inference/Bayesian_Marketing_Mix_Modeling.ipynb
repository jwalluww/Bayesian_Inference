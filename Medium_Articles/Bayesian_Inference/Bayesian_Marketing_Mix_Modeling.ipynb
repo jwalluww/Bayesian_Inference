{
 "cells": [
  {
   "cell_type": "markdown",
   "id": "fdd74725-7647-4474-91e4-eb6f58c1881c",
   "metadata": {},
   "source": [
    "# Bayesian Marketing Mix Modeling in Python via PyMC3"
   ]
  },
  {
   "cell_type": "code",
   "execution_count": null,
   "id": "4b41b8d7-3f84-4daf-9637-dcf8bfdabec2",
   "metadata": {},
   "outputs": [],
   "source": []
  }
 ],
 "metadata": {
  "kernelspec": {
   "display_name": "Python 3 (ipykernel)",
   "language": "python",
   "name": "python3"
  },
  "language_info": {
   "codemirror_mode": {
    "name": "ipython",
    "version": 3
   },
   "file_extension": ".py",
   "mimetype": "text/x-python",
   "name": "python",
   "nbconvert_exporter": "python",
   "pygments_lexer": "ipython3",
   "version": "3.10.5"
  }
 },
 "nbformat": 4,
 "nbformat_minor": 5
}
