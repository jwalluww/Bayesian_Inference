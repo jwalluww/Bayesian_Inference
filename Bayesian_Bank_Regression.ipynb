{
 "cells": [
  {
   "cell_type": "markdown",
   "id": "eb8f6754-4c48-40ca-a34d-2d5dda2794d8",
   "metadata": {},
   "source": [
    "# Bayesian Bank Regression\n",
    "- https://github.com/susanli2016/Machine-Learning-with-Python/blob/master/Bayesian%20Logistic%20Regression_bank%20marketing.ipynb\n",
    "- https://towardsdatascience.com/building-a-bayesian-logistic-regression-with-python-and-pymc3-4dd463bbb16"
   ]
  },
  {
   "cell_type": "markdown",
   "id": "90b27347-718e-40ca-b956-4864eed6ac0e",
   "metadata": {},
   "source": [
    "***\n",
    "## Imports"
   ]
  },
  {
   "cell_type": "code",
   "execution_count": 5,
   "id": "65bf5e9e-aa03-4224-ad16-4d7e75c85935",
   "metadata": {},
   "outputs": [],
   "source": [
    "# pip install pymc3"
   ]
  },
  {
   "cell_type": "code",
   "execution_count": 6,
   "id": "98a611bf-8a64-45b6-af3f-6cdccdddeab2",
   "metadata": {},
   "outputs": [],
   "source": [
    "# Data manipulation\n",
    "import pandas as pd\n",
    "import numpy as np\n",
    "\n",
    "# Graphing\n",
    "import seaborn as sns\n",
    "import matplotlib.pyplot as plt\n",
    "import matplotlib.lines as mlines\n",
    "\n",
    "# Stats\n",
    "import pymc3 as pm\n",
    "# import pymc as pm\n",
    "import arviz as az\n",
    "import theano\n",
    "import theano.tensor as tt\n",
    "from sklearn.metrics import accuracy_score,f1_score,confusion_matrix\n",
    "\n",
    "# Basics & Options\n",
    "import warnings\n",
    "warnings.filterwarnings('ignore')\n",
    "from collections import OrderedDict\n",
    "import itertools\n",
    "from IPython.core.pylabtools import figsize\n",
    "pd.set_option('display.max_columns',30)"
   ]
  },
  {
   "cell_type": "code",
   "execution_count": 7,
   "id": "b16c3fec-5222-49dc-9c2f-fb312e3a9975",
   "metadata": {},
   "outputs": [
    {
     "name": "stdout",
     "output_type": "stream",
     "text": [
      "(41188, 21)\n",
      "no     36548\n",
      "yes     4640\n",
      "Name: y, dtype: int64\n"
     ]
    },
    {
     "data": {
      "text/html": [
       "<div>\n",
       "<style scoped>\n",
       "    .dataframe tbody tr th:only-of-type {\n",
       "        vertical-align: middle;\n",
       "    }\n",
       "\n",
       "    .dataframe tbody tr th {\n",
       "        vertical-align: top;\n",
       "    }\n",
       "\n",
       "    .dataframe thead th {\n",
       "        text-align: right;\n",
       "    }\n",
       "</style>\n",
       "<table border=\"1\" class=\"dataframe\">\n",
       "  <thead>\n",
       "    <tr style=\"text-align: right;\">\n",
       "      <th></th>\n",
       "      <th>age</th>\n",
       "      <th>job</th>\n",
       "      <th>marital</th>\n",
       "      <th>education</th>\n",
       "      <th>default</th>\n",
       "      <th>housing</th>\n",
       "      <th>loan</th>\n",
       "      <th>contact</th>\n",
       "      <th>month</th>\n",
       "      <th>day_of_week</th>\n",
       "      <th>duration</th>\n",
       "      <th>campaign</th>\n",
       "      <th>pdays</th>\n",
       "      <th>previous</th>\n",
       "      <th>poutcome</th>\n",
       "      <th>emp.var.rate</th>\n",
       "      <th>cons.price.idx</th>\n",
       "      <th>cons.conf.idx</th>\n",
       "      <th>euribor3m</th>\n",
       "      <th>nr.employed</th>\n",
       "      <th>y</th>\n",
       "    </tr>\n",
       "  </thead>\n",
       "  <tbody>\n",
       "    <tr>\n",
       "      <th>0</th>\n",
       "      <td>56</td>\n",
       "      <td>housemaid</td>\n",
       "      <td>married</td>\n",
       "      <td>basic.4y</td>\n",
       "      <td>no</td>\n",
       "      <td>no</td>\n",
       "      <td>no</td>\n",
       "      <td>telephone</td>\n",
       "      <td>may</td>\n",
       "      <td>mon</td>\n",
       "      <td>261</td>\n",
       "      <td>1</td>\n",
       "      <td>999</td>\n",
       "      <td>0</td>\n",
       "      <td>nonexistent</td>\n",
       "      <td>1.1</td>\n",
       "      <td>93.994</td>\n",
       "      <td>-36.4</td>\n",
       "      <td>4.857</td>\n",
       "      <td>5191.0</td>\n",
       "      <td>no</td>\n",
       "    </tr>\n",
       "    <tr>\n",
       "      <th>1</th>\n",
       "      <td>57</td>\n",
       "      <td>services</td>\n",
       "      <td>married</td>\n",
       "      <td>high.school</td>\n",
       "      <td>unknown</td>\n",
       "      <td>no</td>\n",
       "      <td>no</td>\n",
       "      <td>telephone</td>\n",
       "      <td>may</td>\n",
       "      <td>mon</td>\n",
       "      <td>149</td>\n",
       "      <td>1</td>\n",
       "      <td>999</td>\n",
       "      <td>0</td>\n",
       "      <td>nonexistent</td>\n",
       "      <td>1.1</td>\n",
       "      <td>93.994</td>\n",
       "      <td>-36.4</td>\n",
       "      <td>4.857</td>\n",
       "      <td>5191.0</td>\n",
       "      <td>no</td>\n",
       "    </tr>\n",
       "    <tr>\n",
       "      <th>2</th>\n",
       "      <td>37</td>\n",
       "      <td>services</td>\n",
       "      <td>married</td>\n",
       "      <td>high.school</td>\n",
       "      <td>no</td>\n",
       "      <td>yes</td>\n",
       "      <td>no</td>\n",
       "      <td>telephone</td>\n",
       "      <td>may</td>\n",
       "      <td>mon</td>\n",
       "      <td>226</td>\n",
       "      <td>1</td>\n",
       "      <td>999</td>\n",
       "      <td>0</td>\n",
       "      <td>nonexistent</td>\n",
       "      <td>1.1</td>\n",
       "      <td>93.994</td>\n",
       "      <td>-36.4</td>\n",
       "      <td>4.857</td>\n",
       "      <td>5191.0</td>\n",
       "      <td>no</td>\n",
       "    </tr>\n",
       "    <tr>\n",
       "      <th>3</th>\n",
       "      <td>40</td>\n",
       "      <td>admin.</td>\n",
       "      <td>married</td>\n",
       "      <td>basic.6y</td>\n",
       "      <td>no</td>\n",
       "      <td>no</td>\n",
       "      <td>no</td>\n",
       "      <td>telephone</td>\n",
       "      <td>may</td>\n",
       "      <td>mon</td>\n",
       "      <td>151</td>\n",
       "      <td>1</td>\n",
       "      <td>999</td>\n",
       "      <td>0</td>\n",
       "      <td>nonexistent</td>\n",
       "      <td>1.1</td>\n",
       "      <td>93.994</td>\n",
       "      <td>-36.4</td>\n",
       "      <td>4.857</td>\n",
       "      <td>5191.0</td>\n",
       "      <td>no</td>\n",
       "    </tr>\n",
       "    <tr>\n",
       "      <th>4</th>\n",
       "      <td>56</td>\n",
       "      <td>services</td>\n",
       "      <td>married</td>\n",
       "      <td>high.school</td>\n",
       "      <td>no</td>\n",
       "      <td>no</td>\n",
       "      <td>yes</td>\n",
       "      <td>telephone</td>\n",
       "      <td>may</td>\n",
       "      <td>mon</td>\n",
       "      <td>307</td>\n",
       "      <td>1</td>\n",
       "      <td>999</td>\n",
       "      <td>0</td>\n",
       "      <td>nonexistent</td>\n",
       "      <td>1.1</td>\n",
       "      <td>93.994</td>\n",
       "      <td>-36.4</td>\n",
       "      <td>4.857</td>\n",
       "      <td>5191.0</td>\n",
       "      <td>no</td>\n",
       "    </tr>\n",
       "  </tbody>\n",
       "</table>\n",
       "</div>"
      ],
      "text/plain": [
       "   age        job  marital    education  default housing loan    contact  \\\n",
       "0   56  housemaid  married     basic.4y       no      no   no  telephone   \n",
       "1   57   services  married  high.school  unknown      no   no  telephone   \n",
       "2   37   services  married  high.school       no     yes   no  telephone   \n",
       "3   40     admin.  married     basic.6y       no      no   no  telephone   \n",
       "4   56   services  married  high.school       no      no  yes  telephone   \n",
       "\n",
       "  month day_of_week  duration  campaign  pdays  previous     poutcome  \\\n",
       "0   may         mon       261         1    999         0  nonexistent   \n",
       "1   may         mon       149         1    999         0  nonexistent   \n",
       "2   may         mon       226         1    999         0  nonexistent   \n",
       "3   may         mon       151         1    999         0  nonexistent   \n",
       "4   may         mon       307         1    999         0  nonexistent   \n",
       "\n",
       "   emp.var.rate  cons.price.idx  cons.conf.idx  euribor3m  nr.employed   y  \n",
       "0           1.1          93.994          -36.4      4.857       5191.0  no  \n",
       "1           1.1          93.994          -36.4      4.857       5191.0  no  \n",
       "2           1.1          93.994          -36.4      4.857       5191.0  no  \n",
       "3           1.1          93.994          -36.4      4.857       5191.0  no  \n",
       "4           1.1          93.994          -36.4      4.857       5191.0  no  "
      ]
     },
     "execution_count": 7,
     "metadata": {},
     "output_type": "execute_result"
    }
   ],
   "source": [
    "# import data\n",
    "df = pd.read_csv('C:\\\\Users\\\\wallj\\\\DS_Projects\\\\Datasets\\\\bank-additional-full.csv',sep=';')\n",
    "print(df.shape)\n",
    "print(df['y'].value_counts())\n",
    "df.head()"
   ]
  },
  {
   "cell_type": "markdown",
   "id": "5fda8137-a201-422d-8044-d206b32441f7",
   "metadata": {},
   "source": [
    "***\n",
    "## EDA"
   ]
  },
  {
   "cell_type": "code",
   "execution_count": 8,
   "id": "800ce86a-51b5-463f-8480-f18675e9bbd4",
   "metadata": {},
   "outputs": [
    {
     "data": {
      "image/png": "[encoded data removed]",
      "text/plain": [
       "<Figure size 432x288 with 1 Axes>"
      ]
     },
     "metadata": {
      "needs_background": "light"
     },
     "output_type": "display_data"
    }
   ],
   "source": [
    "sns.stripplot(x=\"y\",y='age',data=df,jitter=True);"
   ]
  },
  {
   "cell_type": "code",
   "execution_count": 9,
   "id": "4d2d5148-a6d5-4b7e-add5-f10b0907654e",
   "metadata": {},
   "outputs": [
    {
     "data": {
      "image/png": "[encoded data removed]",
      "text/plain": [
       "<Figure size 432x288 with 1 Axes>"
      ]
     },
     "metadata": {
      "needs_background": "light"
     },
     "output_type": "display_data"
    }
   ],
   "source": [
    "sns.stripplot(x='y',y='euribor3m',data=df,jitter=True);"
   ]
  },
  {
   "cell_type": "code",
   "execution_count": 10,
   "id": "aadf6de9-f09f-4996-b905-9f3d65f29ae9",
   "metadata": {},
   "outputs": [
    {
     "data": {
      "text/plain": [
       "university.degree      12168\n",
       "high.school             9515\n",
       "basic.9y                6045\n",
       "professional.course     5243\n",
       "basic.4y                4176\n",
       "basic.6y                2292\n",
       "unknown                 1731\n",
       "illiterate                18\n",
       "Name: education, dtype: int64"
      ]
     },
     "execution_count": 10,
     "metadata": {},
     "output_type": "execute_result"
    }
   ],
   "source": [
    "df['education'].value_counts()"
   ]
  },
  {
   "cell_type": "code",
   "execution_count": 11,
   "id": "58a42afb-19d9-417d-8790-77da10d6a4b9",
   "metadata": {},
   "outputs": [
    {
     "data": {
      "text/plain": [
       "admin.           10422\n",
       "blue-collar       9254\n",
       "technician        6743\n",
       "services          3969\n",
       "management        2924\n",
       "retired           1720\n",
       "entrepreneur      1456\n",
       "self-employed     1421\n",
       "housemaid         1060\n",
       "unemployed        1014\n",
       "student            875\n",
       "unknown            330\n",
       "Name: job, dtype: int64"
      ]
     },
     "execution_count": 11,
     "metadata": {},
     "output_type": "execute_result"
    }
   ],
   "source": [
    "df['job'].value_counts()"
   ]
  },
  {
   "cell_type": "code",
   "execution_count": 12,
   "id": "1a1b6d3e-f0f4-4281-8d01-0e35e5f20e18",
   "metadata": {},
   "outputs": [
    {
     "data": {
      "text/plain": [
       "nonexistent    35563\n",
       "failure         4252\n",
       "success         1373\n",
       "Name: poutcome, dtype: int64"
      ]
     },
     "execution_count": 12,
     "metadata": {},
     "output_type": "execute_result"
    }
   ],
   "source": [
    "df['poutcome'].value_counts()"
   ]
  },
  {
   "cell_type": "code",
   "execution_count": 13,
   "id": "0778ae65-6c08-4a11-afc0-d9cea0c9398c",
   "metadata": {},
   "outputs": [],
   "source": [
    "# Alternative to case statements!\n",
    "def replace_education(education):\n",
    "    \"\"\"\n",
    "    This function codes the highest education attained.\n",
    "    \"\"\"\n",
    "    if education == 'university.degree':\n",
    "        return 8\n",
    "    elif education == 'professional.course':\n",
    "        return 7\n",
    "    elif education == 'high.school':\n",
    "        return 6\n",
    "    elif education == 'basic.9y':\n",
    "        return 5\n",
    "    elif education == 'basic.6y':\n",
    "        return 4\n",
    "    elif education =='basic.4y':\n",
    "        return 3\n",
    "    elif education == 'unknown':\n",
    "        return 2\n",
    "    elif education == 'illiterate':\n",
    "        return 1\n",
    "    \n",
    "def replace_job(job):\n",
    "    \"\"\"\n",
    "    This function codes the highest job earned.\n",
    "    \"\"\"\n",
    "    if job == 'management':\n",
    "        return 12\n",
    "    elif job == 'admin.':\n",
    "        return 11\n",
    "    elif job == 'entrepreneur':\n",
    "        return 10\n",
    "    elif job == 'technician':\n",
    "        return 9\n",
    "    elif job == 'services':\n",
    "        return 8\n",
    "    elif job == 'self-employed':\n",
    "        return 7\n",
    "    elif job == 'blue-collar':\n",
    "        return 6\n",
    "    elif job == 'retired':\n",
    "        return 5\n",
    "    elif job == 'housemaid':\n",
    "        return 4\n",
    "    elif job == 'unemployed':\n",
    "        return 3\n",
    "    elif job == 'unknown':\n",
    "        return 2\n",
    "    elif job == 'student':\n",
    "        return 1\n",
    "    \n",
    "def replace_marital(marital):\n",
    "    if marital == 'married':\n",
    "        return 4\n",
    "    elif marital == 'single':\n",
    "        return 3\n",
    "    elif marital == 'divorced':\n",
    "        return 2\n",
    "    elif marital == 'unknown':\n",
    "        return 1\n",
    "    \n",
    "def replace_default(default):\n",
    "    if default == 'no':\n",
    "        return 0\n",
    "    elif default == 'yes':\n",
    "        return 1\n",
    "    elif default == 'unknown':\n",
    "        return 2\n",
    "    \n",
    "def replace_housing(housing):\n",
    "    if housing == 'no':\n",
    "        return 0\n",
    "    elif housing == 'yes':\n",
    "        return 1\n",
    "    elif housing == 'unknown':\n",
    "        return 2\n",
    "\n",
    "def replace_loan(loan):\n",
    "    if loan == 'no':\n",
    "        return 0\n",
    "    elif loan == 'yes':\n",
    "        return 1\n",
    "    elif loan == 'unknown':\n",
    "        return 2\n",
    "    \n",
    "def replace_contact(contact):\n",
    "    if contact == 'cellular':\n",
    "        return 1\n",
    "    elif contact == 'telephone':\n",
    "        return 2\n",
    "    \n",
    "def replace_poutcome(poutcome):\n",
    "    if poutcome == 'failure':\n",
    "        return 0\n",
    "    elif poutcome == 'success':\n",
    "        return 1\n",
    "    elif poutcome == 'nonexistent':\n",
    "        return 2\n",
    "    \n",
    "def replace_y(y):\n",
    "    if y == 'yes':\n",
    "        return 1\n",
    "    elif y == 'no':\n",
    "        return 0"
   ]
  },
  {
   "cell_type": "code",
   "execution_count": 14,
   "id": "9ad53207-9d39-4566-a91e-89d9a8123944",
   "metadata": {},
   "outputs": [],
   "source": [
    "# Apply Functions above\n",
    "df['education'] = df['education'].apply(lambda x: replace_education(x))\n",
    "df['job'] = df['job'].apply(lambda x: replace_job(x))\n",
    "df['marital'] = df['marital'].apply(lambda x: replace_marital(x))\n",
    "df['default'] = df['default'].apply(lambda x: replace_default(x))\n",
    "df['housing'] = df['housing'].apply(lambda x: replace_housing(x))\n",
    "df['loan'] = df['loan'].apply(lambda x: replace_loan(x))\n",
    "df['contact'] = df['contact'].apply(lambda x: replace_contact(x))\n",
    "df['poutcome'] = df['poutcome'].apply(lambda x: replace_poutcome(x))\n",
    "df['y'] = df['y'].apply(lambda x: replace_y(x))"
   ]
  },
  {
   "cell_type": "code",
   "execution_count": 15,
   "id": "03ae43b6-4ba6-4cab-916d-2e22d29c0938",
   "metadata": {},
   "outputs": [
    {
     "data": {
      "text/plain": [
       "may    13769\n",
       "jul     7174\n",
       "aug     6178\n",
       "jun     5318\n",
       "nov     4101\n",
       "apr     2632\n",
       "oct      718\n",
       "sep      570\n",
       "mar      546\n",
       "dec      182\n",
       "Name: month, dtype: int64"
      ]
     },
     "execution_count": 15,
     "metadata": {},
     "output_type": "execute_result"
    }
   ],
   "source": [
    "df['month'].value_counts()"
   ]
  },
  {
   "cell_type": "code",
   "execution_count": 16,
   "id": "03aca7a2-5367-4a80-bcce-3e005124d1af",
   "metadata": {},
   "outputs": [],
   "source": [
    "look_up_month = {'aug': 8, 'nov': 11, 'jun': 6, 'apr': 4, 'jul': 7,\n",
    "            'may': 5, 'oct': 10, 'mar': 3, 'sep': 9, 'dec': 12}\n",
    "\n",
    "look_up_dow = {'thu': 4, 'fri': 5, 'tue': 2, 'mon': 1, 'wed': 3}"
   ]
  },
  {
   "cell_type": "code",
   "execution_count": 17,
   "id": "22bbd556-7f7b-4609-955f-65b279562269",
   "metadata": {},
   "outputs": [],
   "source": [
    "df['month'] = df['month'].apply(lambda x: look_up_month[x])\n",
    "\n",
    "df['day_of_week'] = df['day_of_week'].apply(lambda x: look_up_dow[x])"
   ]
  },
  {
   "cell_type": "code",
   "execution_count": 18,
   "id": "e8e5f177-83ac-40fa-8244-dd8097ab7d0d",
   "metadata": {},
   "outputs": [
    {
     "data": {
      "image/png": "[encoded data removed]",
      "text/plain": [
       "<Figure size 432x288 with 1 Axes>"
      ]
     },
     "metadata": {
      "needs_background": "light"
     },
     "output_type": "display_data"
    }
   ],
   "source": [
    "sns.stripplot(x=\"y\", y=\"education\", data=df, jitter=True);"
   ]
  },
  {
   "cell_type": "code",
   "execution_count": 19,
   "id": "f2e366cd-7465-474e-b39e-60389965d4ab",
   "metadata": {},
   "outputs": [
    {
     "data": {
      "image/png": "[encoded data removed]",
      "text/plain": [
       "<Figure size 432x288 with 1 Axes>"
      ]
     },
     "metadata": {
      "needs_background": "light"
     },
     "output_type": "display_data"
    }
   ],
   "source": [
    "sns.stripplot(x=\"y\", y=\"job\", data=df, jitter=True);"
   ]
  },
  {
   "cell_type": "markdown",
   "id": "832de647-5a49-4d55-83bf-a639ad0e3316",
   "metadata": {},
   "source": [
    "***\n",
    "## Modeling"
   ]
  },
  {
   "cell_type": "code",
   "execution_count": 20,
   "id": "ade0545c-a476-4277-be62-44570f98aaa3",
   "metadata": {},
   "outputs": [
    {
     "data": {
      "text/plain": [
       "outcome        1.000000\n",
       "duration       0.405274\n",
       "previous       0.230181\n",
       "month          0.037187\n",
       "education      0.035848\n",
       "age            0.030399\n",
       "day_of_week    0.010051\n",
       "housing        0.009552\n",
       "loan          -0.005038\n",
       "job           -0.023020\n",
       "marital       -0.026302\n",
       "campaign      -0.066357\n",
       "default       -0.099324\n",
       "poutcome      -0.122089\n",
       "contact       -0.144773\n",
       "euribor3m     -0.307771\n",
       "pdays         -0.324914\n",
       "Name: outcome, dtype: float64"
      ]
     },
     "execution_count": 20,
     "metadata": {},
     "output_type": "execute_result"
    }
   ],
   "source": [
    "outcome = df['y']\n",
    "data = df[['age', 'job', 'marital', 'education', 'default', 'housing', 'loan', 'contact', 'month', 'day_of_week', 'duration', 'campaign', 'pdays', 'previous', 'poutcome', 'euribor3m']]\n",
    "data['outcome'] = outcome\n",
    "data.corr()['outcome'].sort_values(ascending=False)"
   ]
  },
  {
   "cell_type": "code",
   "execution_count": 27,
   "id": "93bcf59d-37e9-4670-97b6-77edd77ff62f",
   "metadata": {},
   "outputs": [],
   "source": [
    "y_simple = data['outcome']\n",
    "x_n = 'duration'\n",
    "x_0 = data[x_n].values\n",
    "x_c = x_0 - x_0.mean()"
   ]
  },
  {
   "cell_type": "code",
   "execution_count": 28,
   "id": "f00f2285-ee5e-44f6-babe-7cad6bc42bfa",
   "metadata": {},
   "outputs": [
    {
     "name": "stderr",
     "output_type": "stream",
     "text": [
      "Auto-assigning NUTS sampler...\n",
      "Initializing NUTS using jitter+adapt_diag...\n",
      "Multiprocess sampling (4 chains in 4 jobs)\n",
      "NUTS: [b, a]\n"
     ]
    },
    {
     "data": {
      "text/html": [
       "\n",
       "<style>\n",
       "    /* Turns off some styling */\n",
       "    progress {\n",
       "        /* gets rid of default border in Firefox and Opera. */\n",
       "        border: none;\n",
       "        /* Needs to be in here for Safari polyfill so background images work as expected. */\n",
       "        background-size: auto;\n",
       "    }\n",
       "    .progress-bar-interrupted, .progress-bar-interrupted::-webkit-progress-bar {\n",
       "        background: #F44336;\n",
       "    }\n",
       "</style>\n"
      ],
      "text/plain": [
       "<IPython.core.display.HTML object>"
      ]
     },
     "metadata": {},
     "output_type": "display_data"
    },
    {
     "data": {
      "text/html": [
       "\n",
       "    <div>\n",
       "      <progress value='8000' class='' max='8000' style='width:300px; height:20px; vertical-align: middle;'></progress>\n",
       "      100.00% [8000/8000 07:06<00:00 Sampling 4 chains, 0 divergences]\n",
       "    </div>\n",
       "    "
      ],
      "text/plain": [
       "<IPython.core.display.HTML object>"
      ]
     },
     "metadata": {},
     "output_type": "display_data"
    },
    {
     "name": "stderr",
     "output_type": "stream",
     "text": [
      "Sampling 4 chains for 1_000 tune and 1_000 draw iterations (4_000 + 4_000 draws total) took 455 seconds.\n"
     ]
    }
   ],
   "source": [
    "# Create the model\n",
    "with pm.Model() as model_simple:\n",
    "    a = pm.Normal('a',mu=0,sd=10) # Flat normal - no prior info\n",
    "    b = pm.Normal('b',mu=0,sd=10) # Flat normal - no prior info\n",
    "    \n",
    "    u = a + pm.math.dot(x_c,b)\n",
    "    O = pm.Deterministic('O',pm.math.sigmoid(u))\n",
    "    bd = pm.Deterministic('bd',-a/b)\n",
    "    \n",
    "    y_1 = pm.Bernoulli('y_1',p=O,observed=y_simple)\n",
    "    \n",
    "    trace_simple = pm.sample(1000,tune=1000)"
   ]
  },
  {
   "cell_type": "code",
   "execution_count": 24,
   "id": "2fe4643a-9683-4fe6-8b15-2ea7b1d82373",
   "metadata": {},
   "outputs": [
    {
     "data": {
      "image/png": "[encoded data removed]",
      "text/plain": [
       "<Figure size 432x288 with 1 Axes>"
      ]
     },
     "metadata": {},
     "output_type": "display_data"
    }
   ],
   "source": [
    "# Testing graphing mu sigma\n",
    "import matplotlib.pyplot as plt\n",
    "import numpy as np\n",
    "import scipy.stats as st\n",
    "plt.style.use('seaborn-darkgrid')\n",
    "x = np.linspace(-5, 5, 1000)\n",
    "mus = [0., 0., 0., -2.,0]\n",
    "sigmas = [0.4, 1., 2., 0.4,10]\n",
    "for mu, sigma in zip(mus, sigmas):\n",
    "    pdf = st.norm.pdf(x, mu, sigma)\n",
    "    plt.plot(x, pdf, label=r'$\\mu$ = {}, $\\sigma$ = {}'.format(mu, sigma))\n",
    "plt.xlabel('x', fontsize=12)\n",
    "plt.ylabel('f(x)', fontsize=12)\n",
    "plt.legend(loc=1)\n",
    "plt.show()"
   ]
  },
  {
   "cell_type": "code",
   "execution_count": null,
   "id": "3d32c63b-9948-4785-b8a1-4113dd1b95e2",
   "metadata": {},
   "outputs": [],
   "source": []
  }
 ],
 "metadata": {
  "kernelspec": {
   "display_name": "Python 3 (ipykernel)",
   "language": "python",
   "name": "python3"
  },
  "language_info": {
   "codemirror_mode": {
    "name": "ipython",
    "version": 3
   },
   "file_extension": ".py",
   "mimetype": "text/x-python",
   "name": "python",
   "nbconvert_exporter": "python",
   "pygments_lexer": "ipython3",
   "version": "3.9.7"
  }
 },
 "nbformat": 4,
 "nbformat_minor": 5
}
