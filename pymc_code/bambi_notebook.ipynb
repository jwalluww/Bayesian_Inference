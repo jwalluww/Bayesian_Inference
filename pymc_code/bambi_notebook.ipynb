{
 "cells": [
  {
   "cell_type": "code",
   "execution_count": 4,
   "id": "6c072098-d8a4-4d8b-9a77-58acace17d2c",
   "metadata": {},
   "outputs": [
    {
     "name": "stdout",
     "output_type": "stream",
     "text": [
      "Running on PyMC v5.13.1\n"
     ]
    }
   ],
   "source": [
    "import arviz as az\n",
    "import matplotlib.pyplot as plt\n",
    "import numpy as np\n",
    "import pandas as pd\n",
    "import pymc as pm\n",
    "import xarray as xr\n",
    "import bambi as bmb\n",
    "\n",
    "from pymc import HalfCauchy, Model, Normal, sample\n",
    "\n",
    "print(f\"Running on PyMC v{pm.__version__}\")"
   ]
  },
  {
   "cell_type": "code",
   "execution_count": 5,
   "id": "b76bb9f6-0a3a-44f2-9179-2879897bb38e",
   "metadata": {},
   "outputs": [],
   "source": [
    "# Define the number of data points\n",
    "num_data_points = 100\n",
    "\n",
    "# Generate random values for the features\n",
    "student_gpa = np.random.uniform(low=0.0, high=4.0, size=num_data_points)\n",
    "past_donations = np.random.uniform(low=0.0, high=100.0, size=num_data_points)\n",
    "upper_classman = np.random.choice([0, 1], size=num_data_points)"
   ]
  },
  {
   "cell_type": "code",
   "execution_count": 6,
   "id": "8b903525-8cc1-47ca-8da1-d719614cd223",
   "metadata": {},
   "outputs": [
    {
     "name": "stderr",
     "output_type": "stream",
     "text": [
      "Auto-assigning NUTS sampler...\n",
      "Initializing NUTS using jitter+adapt_diag...\n",
      "Multiprocess sampling (4 chains in 4 jobs)\n",
      "NUTS: [Donation_Rate_sigma, Intercept, Past_Donations]\n"
     ]
    },
    {
     "data": {
      "text/html": [
       "<pre style=\"white-space:pre;overflow-x:auto;line-height:normal;font-family:Menlo,'DejaVu Sans Mono',consolas,'Courier New',monospace\">C:\\Users\\wallj\\anaconda3\\envs\\pymc_env\\Lib\\site-packages\\rich\\live.py:231: UserWarning: install \"ipywidgets\" for \n",
       "Jupyter support\n",
       "  warnings.warn('install \"ipywidgets\" for Jupyter support')\n",
       "</pre>\n"
      ],
      "text/plain": [
       "C:\\Users\\wallj\\anaconda3\\envs\\pymc_env\\Lib\\site-packages\\rich\\live.py:231: UserWarning: install \"ipywidgets\" for \n",
       "Jupyter support\n",
       "  warnings.warn('install \"ipywidgets\" for Jupyter support')\n"
      ]
     },
     "metadata": {},
     "output_type": "display_data"
    },
    {
     "data": {
      "text/html": [
       "<pre style=\"white-space:pre;overflow-x:auto;line-height:normal;font-family:Menlo,'DejaVu Sans Mono',consolas,'Courier New',monospace\"></pre>\n"
      ],
      "text/plain": []
     },
     "metadata": {},
     "output_type": "display_data"
    },
    {
     "data": {
      "text/html": [
       "<pre style=\"white-space:pre;overflow-x:auto;line-height:normal;font-family:Menlo,'DejaVu Sans Mono',consolas,'Courier New',monospace\">\n",
       "</pre>\n"
      ],
      "text/plain": [
       "\n"
      ]
     },
     "metadata": {},
     "output_type": "display_data"
    },
    {
     "name": "stderr",
     "output_type": "stream",
     "text": [
      "Sampling 4 chains for 1_000 tune and 3_000 draw iterations (4_000 + 12_000 draws total) took 45 seconds.\n"
     ]
    }
   ],
   "source": [
    "# Generate the target variable (donation rate)\n",
    "donation_rate = 0.5 + 0.2 * student_gpa + 0.1 * past_donations + 0.3 * upper_classman + np.random.normal(loc=0.0, scale=0.1, size=num_data_points)\n",
    "\n",
    "# Create a DataFrame\n",
    "data = {\n",
    "    'Student_GPA': student_gpa,\n",
    "    'Past_Donations': past_donations,\n",
    "    'Upper_Classman': upper_classman,\n",
    "    'Donation_Rate': donation_rate\n",
    "}\n",
    "\n",
    "df = pd.DataFrame(data)\n",
    "\n",
    "model = bmb.Model(\"Donation_Rate ~ Past_Donations\", df)\n",
    "idata = model.fit(draws=3000)"
   ]
  },
  {
   "cell_type": "code",
   "execution_count": null,
   "id": "bf5a03e1-b193-4b9e-8731-8f54986112b8",
   "metadata": {},
   "outputs": [],
   "source": []
  }
 ],
 "metadata": {
  "kernelspec": {
   "display_name": "Python 3 (ipykernel)",
   "language": "python",
   "name": "python3"
  },
  "language_info": {
   "codemirror_mode": {
    "name": "ipython",
    "version": 3
   },
   "file_extension": ".py",
   "mimetype": "text/x-python",
   "name": "python",
   "nbconvert_exporter": "python",
   "pygments_lexer": "ipython3",
   "version": "3.11.9"
  }
 },
 "nbformat": 4,
 "nbformat_minor": 5
}
